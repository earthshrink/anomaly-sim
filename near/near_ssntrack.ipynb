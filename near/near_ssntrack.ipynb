{
 "cells": [
  {
   "cell_type": "markdown",
   "id": "85e65f2d",
   "metadata": {},
   "source": [
    "# Visualizing NEAR's flyby\n",
    "\n",
    "The orbital elements are constructed from Horizons-given position and velocity at end of two-way Doppler from DSS 25 (Goldstone). To avoid hitting Horizons needlessly, the trajectory is constructed using `poliastro`'s orbit propagation simply, without involving atmospheric, solar wind, precession, etc., as all such effects are relatively very small.  "
   ]
  },
  {
   "cell_type": "code",
   "execution_count": 1,
   "id": "f504aff6",
   "metadata": {},
   "outputs": [
    {
     "ename": "ModuleNotFoundError",
     "evalue": "No module named 'sim'",
     "output_type": "error",
     "traceback": [
      "\u001b[0;31m---------------------------------------------------------------------------\u001b[0m",
      "\u001b[0;31mModuleNotFoundError\u001b[0m                       Traceback (most recent call last)",
      "Input \u001b[0;32mIn [1]\u001b[0m, in \u001b[0;36m<cell line: 16>\u001b[0;34m()\u001b[0m\n\u001b[1;32m     12\u001b[0m \u001b[38;5;28;01mfrom\u001b[39;00m \u001b[38;5;21;01mastropy\u001b[39;00m\u001b[38;5;21;01m.\u001b[39;00m\u001b[38;5;21;01mcoordinates\u001b[39;00m \u001b[38;5;28;01mimport\u001b[39;00m solar_system_ephemeris\n\u001b[1;32m     14\u001b[0m \u001b[38;5;28;01mimport\u001b[39;00m \u001b[38;5;21;01mnumpy\u001b[39;00m \u001b[38;5;28;01mas\u001b[39;00m \u001b[38;5;21;01mnp\u001b[39;00m\n\u001b[0;32m---> 16\u001b[0m \u001b[38;5;28;01mfrom\u001b[39;00m \u001b[38;5;21;01msim\u001b[39;00m\u001b[38;5;21;01m.\u001b[39;00m\u001b[38;5;21;01mstations\u001b[39;00m \u001b[38;5;28;01mimport\u001b[39;00m dss25, dss34, ssrAltair, ssrMillstone\n\u001b[1;32m     17\u001b[0m \u001b[38;5;28;01mfrom\u001b[39;00m \u001b[38;5;21;01msim\u001b[39;00m\u001b[38;5;21;01m.\u001b[39;00m\u001b[38;5;21;01mtracking\u001b[39;00m \u001b[38;5;28;01mimport\u001b[39;00m Tracking\n\u001b[1;32m     18\u001b[0m \u001b[38;5;28;01mfrom\u001b[39;00m \u001b[38;5;21;01msim\u001b[39;00m\u001b[38;5;21;01m.\u001b[39;00m\u001b[38;5;21;01mutil\u001b[39;00m \u001b[38;5;28;01mimport\u001b[39;00m describe_orbit, describe_state, describe_trajectory\n",
      "\u001b[0;31mModuleNotFoundError\u001b[0m: No module named 'sim'"
     ]
    }
   ],
   "source": [
    "from astropy import units as u\n",
    "from astropy.time import Time, TimeDelta\n",
    "\n",
    "from poliastro.util import norm, time_range\n",
    "from poliastro.frames import Planes\n",
    "from poliastro.ephem import Ephem\n",
    "from poliastro.bodies import Sun, Earth\n",
    "\n",
    "from poliastro.twobody.orbit import Orbit\n",
    "from poliastro.twobody.sampling import EpochsArray\n",
    "\n",
    "from astropy.coordinates import solar_system_ephemeris\n",
    "\n",
    "import numpy as np\n",
    "import sys\n",
    "sys.path.append('../')\n",
    "\n",
    "from sim.stations import dss25, dss34, ssrAltair, ssrMillstone\n",
    "from sim.tracking import Tracking\n",
    "from sim.util import describe_orbit, describe_state, describe_trajectory\n",
    "\n",
    "solar_system_ephemeris.set(\"de440\")\n",
    "start_epoch = Tracking.NEAR_GOLDSTONE_END.value - 1*u.hour\n",
    "end_epoch = Tracking.NEAR_CANBERRA_START.value + 1*u.hour\n",
    "sampling_interval = 60"
   ]
  },
  {
   "cell_type": "code",
   "execution_count": null,
   "id": "4d1209eb",
   "metadata": {},
   "outputs": [],
   "source": [
    "flyby_epochs = start_epoch + (np.arange(0, (end_epoch-start_epoch)/(1*u.s), sampling_interval) << u.s)\n",
    "print(\"Start and end epochs:\", start_epoch, flyby_epochs[-1], \"[\", flyby_epochs.size, \"]\")"
   ]
  },
  {
   "cell_type": "code",
   "execution_count": null,
   "id": "2a6847a9",
   "metadata": {},
   "outputs": [],
   "source": [
    "near_start_ephem = Ephem.from_horizons(\"NEAR\", start_epoch, attractor=Earth, plane=Planes.EARTH_EQUATOR)\n",
    "near_start_rv = near_start_ephem.rv(start_epoch)\n",
    "describe_state(near_start_rv, dss25, start_epoch)\n",
    "\n",
    "near_orbit = Orbit.from_vectors(Earth, near_start_rv[0], near_start_rv[1], start_epoch)\n",
    "describe_orbit(near_orbit)"
   ]
  },
  {
   "cell_type": "code",
   "execution_count": null,
   "id": "2225b32b",
   "metadata": {},
   "outputs": [],
   "source": [
    "near_ephem = near_orbit.to_ephem(EpochsArray(flyby_epochs))\n",
    "describe_trajectory(near_ephem, dss25)"
   ]
  },
  {
   "cell_type": "code",
   "execution_count": null,
   "id": "99ba1edd",
   "metadata": {},
   "outputs": [],
   "source": [
    "from czml3.widget import CZMLWidget\n",
    "from poliastro.czml.extract_czml import CZMLExtractor\n",
    "\n",
    "czml = CZMLExtractor(flyby_epochs[0], flyby_epochs[-1], flyby_epochs.size)\n",
    "#dss25.add_to_czml(czml, \"#333\")\n",
    "#dss34.add_to_czml(czml, \"#333\")\n",
    "ssrAltair.add_to_czml(czml, \"#111\")\n",
    "ssrMillstone.add_to_czml(czml, \"#111\")\n",
    "czml.add_orbit(near_orbit)\n",
    "\n",
    "CZMLWidget(czml.get_document())"
   ]
  }
 ],
 "metadata": {
  "kernelspec": {
   "display_name": "Python 3 (ipykernel)",
   "language": "python",
   "name": "python3"
  },
  "language_info": {
   "codemirror_mode": {
    "name": "ipython",
    "version": 3
   },
   "file_extension": ".py",
   "mimetype": "text/x-python",
   "name": "python",
   "nbconvert_exporter": "python",
   "pygments_lexer": "ipython3",
   "version": "3.10.6"
  }
 },
 "nbformat": 4,
 "nbformat_minor": 5
}
