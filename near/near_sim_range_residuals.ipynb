{
 "cells": [
  {
   "cell_type": "markdown",
   "id": "27a320e9",
   "metadata": {},
   "source": [
    "# Test of least square error fit of orbital elements to range data"
   ]
  },
  {
   "cell_type": "code",
   "execution_count": 1,
   "id": "f504aff6",
   "metadata": {},
   "outputs": [],
   "source": [
    "from astropy import units as u\n",
    "from astropy import constants as const\n",
    "from astropy.time import Time\n",
    "\n",
    "from poliastro.util import norm\n",
    "from poliastro.frames import Planes\n",
    "from poliastro.ephem import Ephem\n",
    "from poliastro.bodies import Earth\n",
    "\n",
    "from poliastro.twobody.orbit import Orbit\n",
    "from poliastro.twobody.sampling import EpochsArray\n",
    "\n",
    "from astropy.coordinates import solar_system_ephemeris\n",
    "\n",
    "import numpy as np\n",
    "import sys\n",
    "sys.path.append('../')\n",
    "\n",
    "from sim.stations import dss25, dss34\n",
    "from sim.tracking import Tracking\n",
    "from sim.util import describe_orbit, describe_state, describe_trajectory\n",
    "\n",
    "solar_system_ephemeris.set(\"de440\")\n",
    "goldstone_end = Tracking.NEAR_GOLDSTONE_END.value\n",
    "canberra_start = Tracking.NEAR_CANBERRA_START.value"
   ]
  },
  {
   "cell_type": "code",
   "execution_count": 2,
   "id": "ee0d51df",
   "metadata": {},
   "outputs": [
    {
     "name": "stdout",
     "output_type": "stream",
     "text": [
      "Start and end epochs: 1998-01-23 06:14:55.600 1998-01-23 09:53:55.600 [ 74 ]\n"
     ]
    }
   ],
   "source": [
    "sampling_interval = 180\n",
    "sample_offsets = np.arange(0, (canberra_start-goldstone_end)/(1*u.s), sampling_interval)\n",
    "flyby_epochs = goldstone_end + (sample_offsets << u.s)\n",
    "print(\"Start and end epochs:\", goldstone_end, flyby_epochs[-1], \"[\", flyby_epochs.size, \"]\")"
   ]
  },
  {
   "cell_type": "code",
   "execution_count": 3,
   "id": "2a6847a9",
   "metadata": {
    "scrolled": true
   },
   "outputs": [
    {
     "name": "stdout",
     "output_type": "stream",
     "text": [
      "\n",
      ":AT: 1998-01-23 06:14:55.600\n",
      "Geocentric distance: 37471.700215992445 km speed: 8.258344936971223 km / s\n",
      "From Goldstone-25 : range  31576.174442159892 km , range rate  -7.684513660227914 km / s\n",
      "\n",
      "::ORBIT::\n",
      "Plane: Planes.EARTH_EQUATOR\n",
      "Inclination: 107.97266698121356 deg\n",
      "Eccentricity: 1.813357091534396\n",
      "Semilatus rectum: 19437.250829758486 km\n",
      "Semimajor axix: -8494.322039490264 km\n",
      "Periapse radius: 6908.917068596319 km , altitude: 530.7804685963192 km\n"
     ]
    }
   ],
   "source": [
    "near_goldstone_end_rv = Ephem.from_horizons(\"NEAR\", goldstone_end, attractor=Earth, plane=Planes.EARTH_EQUATOR).rv(goldstone_end)\n",
    "describe_state(near_goldstone_end_rv, dss25, goldstone_end)\n",
    "\n",
    "near_goldstone_orbit = Orbit.from_vectors(Earth, near_goldstone_end_rv[0], near_goldstone_end_rv[1], goldstone_end)\n",
    "describe_orbit(near_goldstone_orbit)"
   ]
  },
  {
   "cell_type": "code",
   "execution_count": 4,
   "id": "348de4a6",
   "metadata": {},
   "outputs": [
    {
     "name": "stdout",
     "output_type": "stream",
     "text": [
      "\n",
      "::TRAJECTORY::\n",
      "Start and end ranges: 37309.07130107391 km 73145.82143191747 km\n",
      "Start and end radial speeds: -7.97119272554438 km / s 7.3216176182785535 km / s\n",
      "Closest: 11326.436162795784 km speed 12.740147538216107 km / s  at  1998-01-23 07:23:55.600\n",
      "Deflection: 64.92614895100142 deg\n"
     ]
    }
   ],
   "source": [
    "near_goldstone_ephem = near_goldstone_orbit.to_ephem(EpochsArray(flyby_epochs))\n",
    "describe_trajectory(near_goldstone_ephem, dss34)"
   ]
  },
  {
   "cell_type": "code",
   "execution_count": 5,
   "id": "800bb5b3",
   "metadata": {},
   "outputs": [
    {
     "name": "stdout",
     "output_type": "stream",
     "text": [
      "[<Quantity 31576.17444216 km>, <Quantity 30192.56575694 km>, <Quantity 28808.41297044 km>, <Quantity 27424.19037991 km>, <Quantity 26040.54434311 km>, <Quantity 24658.35299324 km>, <Quantity 23278.80941126 km>, <Quantity 21903.53881781 km>, <Quantity 20534.76568879 km>, <Quantity 19175.55494194 km>, <Quantity 17830.16401278 km>, <Quantity 16504.56175734 km>, <Quantity 15207.19758059 km>, <Quantity 13950.13898309 km>, <Quantity 12750.72461251 km>, <Quantity 11633.85108674 km>, <Quantity 10634.77439507 km>, <Quantity 9801.52784106 km>, <Quantity 9194.34466982 km>, <Quantity 8877.46150324 km>, <Quantity 8900.22209027 km>, <Quantity 9273.93069523 km>, <Quantity 9960.4981254 km>, <Quantity 10883.33638425 km>, <Quantity 11956.87696072 km>, <Quantity 13116.93865255 km>, <Quantity 14329.05738607 km>, <Quantity 15577.51544465 km>, <Quantity 16854.11052459 km>, <Quantity 18153.1314273 km>, <Quantity 19469.92047735 km>, <Quantity 20800.5719156 km>, <Quantity 22141.85444579 km>, <Quantity 23491.14137144 km>, <Quantity 24846.32568113 km>, <Quantity 26205.73192364 km>, <Quantity 27568.0350506 km>, <Quantity 28932.19072371 km>, <Quantity 30297.37783158 km>, <Quantity 31662.95216323 km>, <Quantity 33028.40955474 km>, <Quantity 34393.35676924 km>, <Quantity 35757.48855312 km>, <Quantity 37120.56956562 km>, <Quantity 38482.42013003 km>, <Quantity 39842.90497413 km>, <Quantity 41201.92430853 km>, <Quantity 42559.4067359 km>, <Quantity 43915.30359736 km>, <Quantity 45269.58445038 km>, <Quantity 46622.23344034 km>, <Quantity 47973.24638069 km>, <Quantity 49322.62839654 km>, <Quantity 50670.39201839 km>, <Quantity 52016.55563636 km>, <Quantity 53361.14224429 km>, <Quantity 54704.17841774 km>, <Quantity 56045.69348122 km>, <Quantity 57385.71882902 km>, <Quantity 58724.2873711 km>, <Quantity 60061.43308091 km>, <Quantity 61397.19062681 km>, <Quantity 62731.59507184 km>, <Quantity 64064.68162969 km>, <Quantity 65396.48546697 km>, <Quantity 66727.04154353 km>, <Quantity 68056.38448433 km>, <Quantity 69384.54847722 km>, <Quantity 70711.56719215 km>, <Quantity 72037.47371826 km>, <Quantity 73362.30051549 km>, <Quantity 74686.07937848 km>, <Quantity 76008.8414103 km>, <Quantity 77330.61700465 km>]\n",
      "[<Quantity 31576.98382724 km>, <Quantity 30193.34008774 km>, <Quantity 28809.15197971 km>, <Quantity 27424.89376834 km>, <Quantity 26041.21177457 km>, <Quantity 24658.984089 km>, <Quantity 23279.403743 km>, <Quantity 21904.09589911 km>, <Quantity 20535.28496464 km>, <Quantity 19176.03577574 km>, <Quantity 17830.60567013 km>, <Quantity 16504.96338565 km>, <Quantity 15207.5581834 km>, <Quantity 13950.45738766 km>, <Quantity 12750.99942935 km>, <Quantity 11634.08066043 km>, <Quantity 10634.95674847 km>, <Quantity 9801.66062331 km>, <Quantity 9194.42514099 km>, <Quantity 8877.48664302 km>, <Quantity 8900.18903145 km>, <Quantity 9273.83781637 km>, <Quantity 9960.34687931 km>, <Quantity 10883.13239626 km>, <Quantity 11956.62772416 km>, <Quantity 13116.64944402 km>, <Quantity 14328.73023968 km>, <Quantity 15577.15067762 km>, <Quantity 16853.70804038 km>, <Quantity 18152.69120679 km>, <Quantity 19469.44266035 km>, <Quantity 20800.05676335 km>, <Quantity 22141.30229035 km>, <Quantity 23490.55257716 km>, <Quantity 24845.70062001 km>, <Quantity 26205.07096061 km>, <Quantity 27567.33853552 km>, <Quantity 28931.45898738 km>, <Quantity 30296.61118413 km>, <Quantity 31662.15089401 km>, <Quantity 33027.57393293 km>, <Quantity 34392.48704488 km>, <Quantity 35756.58495834 km>, <Quantity 37119.63231597 km>, <Quantity 38481.4494257 km>, <Quantity 39841.90100118 km>, <Quantity 41200.88724006 km>, <Quantity 42558.33673305 km>, <Quantity 43914.20081031 km>, <Quantity 45268.44901921 km>, <Quantity 46621.06549584 km>, <Quantity 47972.04604505 km>, <Quantity 49321.39578406 km>, <Quantity 50669.12723604 km>, <Quantity 52015.25878432 km>, <Quantity 53359.81341646 km>, <Quantity 54702.81770218 km>, <Quantity 56044.30096056 km>, <Quantity 57384.29458081 km>, <Quantity 58722.83146816 km>, <Quantity 60059.94559166 km>, <Quantity 61395.67161554 km>, <Quantity 62730.04459895 km>, <Quantity 64063.09975196 km>, <Quantity 65394.87223776 km>, <Quantity 66725.397013 km>, <Quantity 68054.70869961 km>, <Quantity 69382.8414826 km>, <Quantity 70709.82902923 km>, <Quantity 72035.7044261 km>, <Quantity 73360.50013077 km>, <Quantity 74684.24793557 km>, <Quantity 76006.97894147 km>, <Quantity 77328.7235401 km>]\n"
     ]
    }
   ],
   "source": [
    "ref_data = []\n",
    "meas_data = []\n",
    "for o in sample_offsets:\n",
    "    e = goldstone_end + o*u.s\n",
    "    ref_r, ref_rr = dss25.range_and_rate(near_goldstone_ephem.rv(e), e)\n",
    "    ref_data.append(ref_r)\n",
    "    meas_data.append(ref_r - ref_rr*ref_r/const.c)\n",
    "\n",
    "print(ref_data)\n",
    "print(meas_data)"
   ]
  },
  {
   "cell_type": "code",
   "execution_count": 6,
   "id": "ac04f475",
   "metadata": {},
   "outputs": [],
   "source": [
    "from lmfit import Parameters, minimize, fit_report\n",
    "\n",
    "fit_params = Parameters()\n",
    "fit_params.add('a', min=-8600e3, max=-8200e3, value=near_goldstone_orbit.a.to_value(u.m))\n",
    "fit_params.add('inc', min=0, max=np.pi, value=near_goldstone_orbit.inc.to_value(u.rad))\n",
    "fit_params.add('ecc', min=1.7, max=1.9, value=near_goldstone_orbit.ecc.to_value(u.one))\n",
    "fit_params.add('nu', min=-np.pi, max=np.pi, value=near_goldstone_orbit.nu.to_value(u.rad))\n",
    "fit_params.add('raan', min=0, max=2*np.pi, value=near_goldstone_orbit.raan.to_value(u.rad))\n",
    "fit_params.add('argp', min=0, max=2*np.pi, value=near_goldstone_orbit.argp.to_value(u.rad))\n",
    "\n",
    "def residual(pars, offsets, data):\n",
    "    vals = pars.valuesdict()\n",
    "    print(vals)\n",
    "    orbit = Orbit.from_classical(attractor=Earth,\n",
    "                                 a=vals['a']*u.m,\n",
    "                                 ecc=vals['ecc']*u.one,\n",
    "                                 inc=vals['inc']*u.rad,\n",
    "                                 raan=vals['raan']*u.rad,\n",
    "                                 argp=vals['argp']*u.rad,\n",
    "                                 nu=vals['nu']*u.rad,\n",
    "                                 epoch=goldstone_end,\n",
    "                                 plane=Planes.EARTH_EQUATOR)\n",
    "    ephem = orbit.to_ephem(EpochsArray(flyby_epochs))\n",
    "    rres = []\n",
    "    for i, v in enumerate(offsets):\n",
    "        e = goldstone_end + v*u.s\n",
    "        meas_r = data[i]\n",
    "        model_r, model_rr = dss25.range_and_rate(ephem.rv(e), e)\n",
    "        rres.append((model_r - meas_r).to_value(u.m))\n",
    "    return rres"
   ]
  },
  {
   "cell_type": "code",
   "execution_count": 7,
   "id": "420cd98b",
   "metadata": {},
   "outputs": [
    {
     "name": "stdout",
     "output_type": "stream",
     "text": [
      "{'a': -8494322.039490264, 'inc': 1.884478540981543, 'ecc': 1.813357091534396, 'nu': -1.8394247601999354, 'raan': 1.540059254992049, 'argp': 2.533258385194789}\n",
      "{'a': -8494322.039490264, 'inc': 1.884478540981543, 'ecc': 1.813357091534396, 'nu': -1.8394247601999354, 'raan': 1.540059254992049, 'argp': 2.533258385194789}\n",
      "{'a': -8494322.039490264, 'inc': 1.884478540981543, 'ecc': 1.813357091534396, 'nu': -1.8394247601999354, 'raan': 1.540059254992049, 'argp': 2.533258385194789}\n",
      "{'a': -8494322.038199617, 'inc': 1.884478540981543, 'ecc': 1.813357091534396, 'nu': -1.8394247601999354, 'raan': 1.540059254992049, 'argp': 2.533258385194789}\n",
      "{'a': -8494322.039490264, 'inc': 1.884478545592624, 'ecc': 1.813357091534396, 'nu': -1.8394247601999354, 'raan': 1.540059254992049, 'argp': 2.533258385194789}\n",
      "{'a': -8494322.039490264, 'inc': 1.884478540981543, 'ecc': 1.81335709173224, 'nu': -1.8394247601999354, 'raan': 1.540059254992049, 'argp': 2.533258385194789}\n",
      "{'a': -8494322.039490264, 'inc': 1.884478540981543, 'ecc': 1.813357091534396, 'nu': -1.8394247364619576, 'raan': 1.540059254992049, 'argp': 2.533258385194789}\n",
      "{'a': -8494322.039490264, 'inc': 1.884478540981543, 'ecc': 1.813357091534396, 'nu': -1.8394247601999354, 'raan': 1.540059276535786, 'argp': 2.533258385194789}\n",
      "{'a': -8494322.039490264, 'inc': 1.884478540981543, 'ecc': 1.813357091534396, 'nu': -1.8394247601999354, 'raan': 1.540059254992049, 'argp': 2.5332583941446405}\n",
      "{'a': -8493831.558525614, 'inc': 1.8853445475784882, 'ecc': 1.8133550206548246, 'nu': -1.8394482727593144, 'raan': 1.54043355742071, 'argp': 2.532853735710731}\n",
      "{'a': -8493831.557240369, 'inc': 1.8853445475784882, 'ecc': 1.8133550206548246, 'nu': -1.8394482727593144, 'raan': 1.54043355742071, 'argp': 2.532853735710731}\n",
      "{'a': -8493831.558525614, 'inc': 1.8853445522019434, 'ecc': 1.8133550206548246, 'nu': -1.8394482727593144, 'raan': 1.54043355742071, 'argp': 2.532853735710731}\n",
      "{'a': -8493831.558525614, 'inc': 1.8853445475784882, 'ecc': 1.8133550208526383, 'nu': -1.8394482727593144, 'raan': 1.54043355742071, 'argp': 2.532853735710731}\n",
      "{'a': -8493831.558525614, 'inc': 1.8853445475784882, 'ecc': 1.8133550206548246, 'nu': -1.8394482490211443, 'raan': 1.54043355742071, 'argp': 2.532853735710731}\n",
      "{'a': -8493831.558525614, 'inc': 1.8853445475784882, 'ecc': 1.8133550206548246, 'nu': -1.8394482727593144, 'raan': 1.540433578960637, 'argp': 2.532853735710731}\n",
      "{'a': -8493831.558525614, 'inc': 1.8853445475784882, 'ecc': 1.8133550206548246, 'nu': -1.8394482727593144, 'raan': 1.54043355742071, 'argp': 2.53285374466638}\n",
      "{'a': -8493832.54465494, 'inc': 1.88534419058043, 'ecc': 1.8133549351152813, 'nu': -1.8394483031933258, 'raan': 1.5404334021221915, 'argp': 2.5328541304633596}\n",
      "{'a': -8493832.54336968, 'inc': 1.88534419058043, 'ecc': 1.8133549351152813, 'nu': -1.8394483031933258, 'raan': 1.5404334021221915, 'argp': 2.5328541304633596}\n",
      "{'a': -8493832.54465494, 'inc': 1.88534419520388, 'ecc': 1.8133549351152813, 'nu': -1.8394483031933258, 'raan': 1.5404334021221915, 'argp': 2.5328541304633596}\n",
      "{'a': -8493832.54465494, 'inc': 1.88534419058043, 'ecc': 1.8133549353130938, 'nu': -1.8394483031933258, 'raan': 1.5404334021221915, 'argp': 2.5328541304633596}\n",
      "{'a': -8493832.54465494, 'inc': 1.88534419058043, 'ecc': 1.8133549351152813, 'nu': -1.8394482794551554, 'raan': 1.5404334021221915, 'argp': 2.5328541304633596}\n",
      "{'a': -8493832.54465494, 'inc': 1.88534419058043, 'ecc': 1.8133549351152813, 'nu': -1.8394483031933258, 'raan': 1.5404334236621198, 'argp': 2.5328541304633596}\n",
      "{'a': -8493832.54465494, 'inc': 1.88534419058043, 'ecc': 1.8133549351152813, 'nu': -1.8394483031933258, 'raan': 1.5404334021221915, 'argp': 2.532854139419003}\n",
      "{'a': -8493832.544954915, 'inc': 1.8853441900931347, 'ecc': 1.8133549352042326, 'nu': -1.839448303137708, 'raan': 1.5404334023590638, 'argp': 2.5328541306625127}\n",
      "{'a': -8493832.544954915, 'inc': 1.8853441900931347, 'ecc': 1.8133549352042326, 'nu': -1.839448303137708, 'raan': 1.5404334023590638, 'argp': 2.5328541306625127}\n",
      "[[Fit Statistics]]\n",
      "    # fitting method   = leastsq\n",
      "    # function evals   = 22\n",
      "    # data points      = 74\n",
      "    # variables        = 6\n",
      "    chi-square         = 11788.9970\n",
      "    reduced chi-square = 173.367604\n",
      "    Akaike info crit   = 387.243405\n",
      "    Bayesian info crit = 401.067796\n",
      "[[Variables]]\n",
      "    a:    -8493832.54 +/- 15.9433554 (0.00%) (init = -8494322)\n",
      "    inc:   1.88534419 +/- 2.9608e-05 (0.00%) (init = 1.884479)\n",
      "    ecc:   1.81335494 +/- 6.2381e-06 (0.00%) (init = 1.813357)\n",
      "    nu:   -1.83944830 +/- 3.7727e-06 (0.00%) (init = -1.839425)\n",
      "    raan:  1.54043340 +/- 2.4513e-05 (0.00%) (init = 1.540059)\n",
      "    argp:  2.53285413 +/- 1.4653e-05 (0.00%) (init = 2.533258)\n",
      "[[Correlations]] (unreported correlations are < 0.100)\n",
      "    C(ecc, nu)    = 0.997\n",
      "    C(a, inc)     = 0.974\n",
      "    C(inc, argp)  = -0.959\n",
      "    C(inc, nu)    = -0.944\n",
      "    C(raan, argp) = 0.938\n",
      "    C(inc, ecc)   = -0.937\n",
      "    C(inc, raan)  = -0.923\n",
      "    C(a, argp)    = -0.923\n",
      "    C(ecc, raan)  = 0.903\n",
      "    C(a, nu)      = -0.893\n",
      "    C(nu, raan)   = 0.881\n",
      "    C(a, ecc)     = -0.869\n",
      "    C(ecc, argp)  = 0.832\n",
      "    C(nu, argp)   = 0.831\n",
      "    C(a, raan)    = -0.823\n"
     ]
    }
   ],
   "source": [
    "out = minimize(residual, fit_params, args=(sample_offsets,), kws={'data': meas_data})\n",
    "print(fit_report(out))"
   ]
  },
  {
   "cell_type": "code",
   "execution_count": 8,
   "id": "1c20c4d4",
   "metadata": {
    "scrolled": true
   },
   "outputs": [
    {
     "name": "stdout",
     "output_type": "stream",
     "text": [
      "[-11.35384581 -11.3676025  -10.78441094  -9.60040492  -7.8185573\n",
      "  -5.45189471  -2.52812509   0.9036765    4.76338461   8.92580664\n",
      "  13.20052581  17.30343987  20.81825129  23.14929609  23.47801638\n",
      "  20.7655158   13.91167609   2.2882765  -13.12513129 -28.32485589\n",
      " -36.35449281 -31.12932022 -13.64261592   6.15430094  17.5665326\n",
      "  19.01592237  15.53804151  11.49499534   8.61687945   7.09130792\n",
      "   6.58481165   6.69911618   7.11186497   7.59662488   8.0073099\n",
      "   8.25703865   8.30011116   8.11856721   7.71271019   7.09460523\n",
      "   6.2836835    5.3037966    4.18125825   2.94355333   1.61849637\n",
      "   0.23369375  -1.18379116  -2.60763611  -4.01236695  -5.37340526\n",
      "  -6.66707609  -7.87059122  -8.96201713  -9.92023433 -10.72489198\n",
      " -11.35636146 -11.79568962 -12.02455461 -12.02522294 -11.78050986\n",
      " -11.27374241 -10.48872486  -9.40970782  -8.02135927  -6.30873835\n",
      "  -4.25727188  -1.85273254   0.91878112   4.07086164   7.61680963\n",
      "  11.56964742  15.94213293  20.7467713   25.99582552]\n"
     ]
    }
   ],
   "source": [
    "print(out.residual)"
   ]
  },
  {
   "cell_type": "code",
   "execution_count": 11,
   "id": "d3cbea3e",
   "metadata": {
    "scrolled": false
   },
   "outputs": [
    {
     "data": {
      "image/png": "[encoded data removed]",
      "text/plain": [
       "<Figure size 640x480 with 1 Axes>"
      ]
     },
     "metadata": {},
     "output_type": "display_data"
    }
   ],
   "source": [
    "import matplotlib.pyplot as plt\n",
    "from astropy import visualization\n",
    "with visualization.time_support():\n",
    "    plt.xlabel('Time from LOS Goldstone to AOS Canberra')\n",
    "    plt.ylabel('Range residuals (m)')\n",
    "    plt.scatter(flyby_epochs, out.residual)\n",
    "    plt.gcf().autofmt_xdate()"
   ]
  }
 ],
 "metadata": {
  "kernelspec": {
   "display_name": "Python 3 (ipykernel)",
   "language": "python",
   "name": "python3"
  },
  "language_info": {
   "codemirror_mode": {
    "name": "ipython",
    "version": 3
   },
   "file_extension": ".py",
   "mimetype": "text/x-python",
   "name": "python",
   "nbconvert_exporter": "python",
   "pygments_lexer": "ipython3",
   "version": "3.10.6"
  }
 },
 "nbformat": 4,
 "nbformat_minor": 5
}
