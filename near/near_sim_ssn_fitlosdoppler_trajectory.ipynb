{
 "cells": [
  {
   "cell_type": "markdown",
   "id": "4166ede6",
   "metadata": {},
   "source": [
    "# Does a _Doppler_ fit to pre-LOS Goldstone data explain the SSN residuals?"
   ]
  },
  {
   "cell_type": "code",
   "execution_count": 1,
   "id": "f504aff6",
   "metadata": {},
   "outputs": [],
   "source": [
    "from astropy import units as u\n",
    "from astropy import constants as const\n",
    "from astropy.time import Time\n",
    "\n",
    "from poliastro.util import norm\n",
    "from poliastro.frames import Planes\n",
    "from poliastro.ephem import Ephem\n",
    "from poliastro.bodies import Earth\n",
    "\n",
    "from poliastro.twobody.orbit import Orbit\n",
    "from poliastro.twobody.sampling import EpochsArray\n",
    "\n",
    "from astropy.coordinates import solar_system_ephemeris\n",
    "\n",
    "import numpy as np\n",
    "import sys\n",
    "sys.path.append('../')\n",
    "\n",
    "from sim.stations import dss25, ssrAltair, ssrMillstone\n",
    "from sim.tracking import Tracking\n",
    "from sim.util import describe_orbit, describe_state, describe_trajectory\n",
    "\n",
    "solar_system_ephemeris.set(\"de440\")\n",
    "goldstone_end = Tracking.NEAR_GOLDSTONE_END.value\n",
    "goldstone_start = goldstone_end - 5*u.hour\n",
    "ssn_start = Tracking.NEAR_SSN_START.value\n",
    "ssn_end = Tracking.NEAR_SSN_END.value\n",
    "sampling_interval = 60"
   ]
  },
  {
   "cell_type": "code",
   "execution_count": 2,
   "id": "ee0d51df",
   "metadata": {},
   "outputs": [
    {
     "name": "stdout",
     "output_type": "stream",
     "text": [
      "Start and end epochs: 1998-01-23 01:14:55.600 1998-01-23 06:14:55.600 [ 301 ]\n"
     ]
    }
   ],
   "source": [
    "fit_offsets = np.arange(0, (goldstone_end - goldstone_start)/(1*u.s), sampling_interval)\n",
    "fit_epochs = goldstone_start + (fit_offsets << u.s)\n",
    "print(\"Start and end epochs:\", goldstone_start, fit_epochs[-1], \"[\", fit_epochs.size, \"]\")"
   ]
  },
  {
   "cell_type": "code",
   "execution_count": 3,
   "id": "2a6847a9",
   "metadata": {
    "scrolled": true
   },
   "outputs": [
    {
     "name": "stdout",
     "output_type": "stream",
     "text": [
      "\n",
      ":AT: 1998-01-23 01:14:55.600\n",
      "Geocentric distance: 170567.65621007947 km speed: 7.183503343208053 km / s\n",
      "From Goldstone-25 : range  166458.07986262924 km , range rate  -7.465920108908227 km / s\n",
      "\n",
      "::ORBIT::\n",
      "Plane: Planes.EARTH_EQUATOR\n",
      "Inclination: 107.9732496436772 deg\n",
      "Eccentricity: 1.8134996008951505\n",
      "Semilatus rectum: 19440.235051668238 km\n",
      "Semimajor axix: -8493.707667805164 km\n",
      "Periapse radius: 6909.62779787958 km , altitude: 531.4911978795799 km\n"
     ]
    }
   ],
   "source": [
    "near_goldstone_start_rv = Ephem.from_horizons(\"NEAR\", goldstone_start, attractor=Earth, plane=Planes.EARTH_EQUATOR).rv(goldstone_start)\n",
    "describe_state(near_goldstone_start_rv, dss25, goldstone_start)\n",
    "\n",
    "near_goldstone_orbit = Orbit.from_vectors(Earth, near_goldstone_start_rv[0], near_goldstone_start_rv[1], goldstone_start)\n",
    "describe_orbit(near_goldstone_orbit)"
   ]
  },
  {
   "cell_type": "code",
   "execution_count": 4,
   "id": "348de4a6",
   "metadata": {},
   "outputs": [
    {
     "name": "stdout",
     "output_type": "stream",
     "text": [
      "\n",
      "::TRAJECTORY::\n",
      "Start and end ranges: 166010.12785733113 km 31573.915329633066 km\n",
      "Start and end radial speeds: -7.465920108908282 km / s -7.684678614009732 km / s\n",
      "Closest: 31573.915329633066 km speed 8.258629481934712 km / s  at  1998-01-23 06:14:55.600\n",
      "Deflection: 1.4531854375528002 deg\n"
     ]
    }
   ],
   "source": [
    "near_goldstone_ephem = near_goldstone_orbit.to_ephem(EpochsArray(fit_epochs))\n",
    "describe_trajectory(near_goldstone_ephem, dss25)"
   ]
  },
  {
   "cell_type": "code",
   "execution_count": 5,
   "id": "d8d4c561",
   "metadata": {},
   "outputs": [
    {
     "name": "stdout",
     "output_type": "stream",
     "text": [
      "[<Quantity -7.46592011 km / s>, <Quantity -7.46581302 km / s>, <Quantity -7.46570352 km / s>, <Quantity -7.46559165 km / s>, <Quantity -7.46547745 km / s>, <Quantity -7.46536096 km / s>, <Quantity -7.46524222 km / s>, <Quantity -7.46512126 km / s>, <Quantity -7.46499812 km / s>, <Quantity -7.46487286 km / s>, <Quantity -7.46474549 km / s>, <Quantity -7.46461608 km / s>, <Quantity -7.46448466 km / s>, <Quantity -7.46435127 km / s>, <Quantity -7.46421595 km / s>, <Quantity -7.46407874 km / s>, <Quantity -7.4639397 km / s>, <Quantity -7.46379885 km / s>, <Quantity -7.46365625 km / s>, <Quantity -7.46351194 km / s>, <Quantity -7.46336597 km / s>, <Quantity -7.46321837 km / s>, <Quantity -7.46306919 km / s>, <Quantity -7.46291848 km / s>, <Quantity -7.46276628 km / s>, <Quantity -7.46261264 km / s>, <Quantity -7.46245761 km / s>, <Quantity -7.46230124 km / s>, <Quantity -7.46214356 km / s>, <Quantity -7.46198463 km / s>, <Quantity -7.4618245 km / s>, <Quantity -7.46166322 km / s>, <Quantity -7.46150082 km / s>, <Quantity -7.46133738 km / s>, <Quantity -7.46117292 km / s>, <Quantity -7.46100751 km / s>, <Quantity -7.46084119 km / s>, <Quantity -7.46067402 km / s>, <Quantity -7.46050605 km / s>, <Quantity -7.46033732 km / s>, <Quantity -7.4601679 km / s>, <Quantity -7.45999783 km / s>, <Quantity -7.45982717 km / s>, <Quantity -7.45965597 km / s>, <Quantity -7.45948429 km / s>, <Quantity -7.45931217 km / s>, <Quantity -7.45913968 km / s>, <Quantity -7.45896688 km / s>, <Quantity -7.45879381 km / s>, <Quantity -7.45862053 km / s>, <Quantity -7.45844711 km / s>, <Quantity -7.4582736 km / s>, <Quantity -7.45810005 km / s>, <Quantity -7.45792653 km / s>, <Quantity -7.45775309 km / s>, <Quantity -7.4575798 km / s>, <Quantity -7.45740671 km / s>, <Quantity -7.45723388 km / s>, <Quantity -7.45706139 km / s>, <Quantity -7.45688928 km / s>, <Quantity -7.45671762 km / s>, <Quantity -7.45654647 km / s>, <Quantity -7.4563759 km / s>, <Quantity -7.45620597 km / s>, <Quantity -7.45603674 km / s>, <Quantity -7.45586829 km / s>, <Quantity -7.45570067 km / s>, <Quantity -7.45553395 km / s>, <Quantity -7.4553682 km / s>, <Quantity -7.45520349 km / s>, <Quantity -7.45503987 km / s>, <Quantity -7.45487743 km / s>, <Quantity -7.45471624 km / s>, <Quantity -7.45455635 km / s>, <Quantity -7.45439784 km / s>, <Quantity -7.45424079 km / s>, <Quantity -7.45408526 km / s>, <Quantity -7.45393133 km / s>, <Quantity -7.45377906 km / s>, <Quantity -7.45362854 km / s>, <Quantity -7.45347984 km / s>, <Quantity -7.45333302 km / s>, <Quantity -7.45318818 km / s>, <Quantity -7.45304538 km / s>, <Quantity -7.4529047 km / s>, <Quantity -7.45276622 km / s>, <Quantity -7.45263001 km / s>, <Quantity -7.45249616 km / s>, <Quantity -7.45236475 km / s>, <Quantity -7.45223585 km / s>, <Quantity -7.45210955 km / s>, <Quantity -7.45198593 km / s>, <Quantity -7.45186507 km / s>, <Quantity -7.45174706 km / s>, <Quantity -7.45163198 km / s>, <Quantity -7.45151992 km / s>, <Quantity -7.45141096 km / s>, <Quantity -7.45130518 km / s>, <Quantity -7.45120268 km / s>, <Quantity -7.45110355 km / s>, <Quantity -7.45100786 km / s>, <Quantity -7.45091573 km / s>, <Quantity -7.45082722 km / s>, <Quantity -7.45074245 km / s>, <Quantity -7.45066149 km / s>, <Quantity -7.45058444 km / s>, <Quantity -7.4505114 km / s>, <Quantity -7.45044247 km / s>, <Quantity -7.45037773 km / s>, <Quantity -7.45031729 km / s>, <Quantity -7.45026124 km / s>, <Quantity -7.45020968 km / s>, <Quantity -7.45016272 km / s>, <Quantity -7.45012045 km / s>, <Quantity -7.45008298 km / s>, <Quantity -7.45005041 km / s>, <Quantity -7.45002284 km / s>, <Quantity -7.45000038 km / s>, <Quantity -7.44998313 km / s>, <Quantity -7.4499712 km / s>, <Quantity -7.44996471 km / s>, <Quantity -7.44996375 km / s>, <Quantity -7.44996844 km / s>, <Quantity -7.44997889 km / s>, <Quantity -7.44999522 km / s>, <Quantity -7.45001754 km / s>, <Quantity -7.45004595 km / s>, <Quantity -7.45008059 km / s>, <Quantity -7.45012156 km / s>, <Quantity -7.45016898 km / s>, <Quantity -7.45022298 km / s>, <Quantity -7.45028368 km / s>, <Quantity -7.45035119 km / s>, <Quantity -7.45042564 km / s>, <Quantity -7.45050715 km / s>, <Quantity -7.45059586 km / s>, <Quantity -7.45069188 km / s>, <Quantity -7.45079535 km / s>, <Quantity -7.4509064 km / s>, <Quantity -7.45102515 km / s>, <Quantity -7.45115175 km / s>, <Quantity -7.45128632 km / s>, <Quantity -7.451429 km / s>, <Quantity -7.45157993 km / s>, <Quantity -7.45173924 km / s>, <Quantity -7.45190708 km / s>, <Quantity -7.45208358 km / s>, <Quantity -7.4522689 km / s>, <Quantity -7.45246316 km / s>, <Quantity -7.45266653 km / s>, <Quantity -7.45287914 km / s>, <Quantity -7.45310115 km / s>, <Quantity -7.4533327 km / s>, <Quantity -7.45357396 km / s>, <Quantity -7.45382506 km / s>, <Quantity -7.45408617 km / s>, <Quantity -7.45435745 km / s>, <Quantity -7.45463905 km / s>, <Quantity -7.45493114 km / s>, <Quantity -7.45523387 km / s>, <Quantity -7.45554741 km / s>, <Quantity -7.45587193 km / s>, <Quantity -7.45620759 km / s>, <Quantity -7.45655457 km / s>, <Quantity -7.45691303 km / s>, <Quantity -7.45728315 km / s>, <Quantity -7.4576651 km / s>, <Quantity -7.45805906 km / s>, <Quantity -7.45846521 km / s>, <Quantity -7.45888373 km / s>, <Quantity -7.4593148 km / s>, <Quantity -7.45975861 km / s>, <Quantity -7.46021535 km / s>, <Quantity -7.46068519 km / s>, <Quantity -7.46116834 km / s>, <Quantity -7.46166498 km / s>, <Quantity -7.46217532 km / s>, <Quantity -7.46269954 km / s>, <Quantity -7.46323786 km / s>, <Quantity -7.46379045 km / s>, <Quantity -7.46435755 km / s>, <Quantity -7.46493933 km / s>, <Quantity -7.46553603 km / s>, <Quantity -7.46614784 km / s>, <Quantity -7.46677497 km / s>, <Quantity -7.46741765 km / s>, <Quantity -7.46807608 km / s>, <Quantity -7.46875049 km / s>, <Quantity -7.4694411 km / s>, <Quantity -7.47014813 km / s>, <Quantity -7.47087181 km / s>, <Quantity -7.47161236 km / s>, <Quantity -7.47237001 km / s>, <Quantity -7.473145 km / s>, <Quantity -7.47393756 km / s>, <Quantity -7.47474793 km / s>, <Quantity -7.47557635 km / s>, <Quantity -7.47642305 km / s>, <Quantity -7.47728829 km / s>, <Quantity -7.4781723 km / s>, <Quantity -7.47907534 km / s>, <Quantity -7.47999765 km / s>, <Quantity -7.48093949 km / s>, <Quantity -7.48190112 km / s>, <Quantity -7.48288278 km / s>, <Quantity -7.48388474 km / s>, <Quantity -7.48490725 km / s>, <Quantity -7.48595058 km / s>, <Quantity -7.487015 km / s>, <Quantity -7.48810077 km / s>, <Quantity -7.48920815 km / s>, <Quantity -7.49033742 km / s>, <Quantity -7.49148885 km / s>, <Quantity -7.49266271 km / s>, <Quantity -7.49385927 km / s>, <Quantity -7.49507882 km / s>, <Quantity -7.49632162 km / s>, <Quantity -7.49758795 km / s>, <Quantity -7.49887809 km / s>, <Quantity -7.50019232 km / s>, <Quantity -7.50153093 km / s>, <Quantity -7.50289418 km / s>, <Quantity -7.50428237 km / s>, <Quantity -7.50569576 km / s>, <Quantity -7.50713464 km / s>, <Quantity -7.50859929 km / s>, <Quantity -7.51008999 km / s>, <Quantity -7.51160701 km / s>, <Quantity -7.51315063 km / s>, <Quantity -7.51472112 km / s>, <Quantity -7.51631875 km / s>, <Quantity -7.51794379 km / s>, <Quantity -7.51959652 km / s>, <Quantity -7.52127718 km / s>, <Quantity -7.52298604 km / s>, <Quantity -7.52472334 km / s>, <Quantity -7.52648935 km / s>, <Quantity -7.52828429 km / s>, <Quantity -7.53010841 km / s>, <Quantity -7.53196193 km / s>, <Quantity -7.53384507 km / s>, <Quantity -7.53575804 km / s>, <Quantity -7.53770104 km / s>, <Quantity -7.53967426 km / s>, <Quantity -7.54167788 km / s>, <Quantity -7.54371205 km / s>, <Quantity -7.54577693 km / s>, <Quantity -7.54787265 km / s>, <Quantity -7.54999932 km / s>, <Quantity -7.55215704 km / s>, <Quantity -7.55434588 km / s>, <Quantity -7.55656589 km / s>, <Quantity -7.55881709 km / s>, <Quantity -7.56109949 km / s>, <Quantity -7.56341306 km / s>, <Quantity -7.56575773 km / s>, <Quantity -7.56813339 km / s>, <Quantity -7.57053993 km / s>, <Quantity -7.57297715 km / s>, <Quantity -7.57544484 km / s>, <Quantity -7.57794272 km / s>, <Quantity -7.58047047 km / s>, <Quantity -7.58302771 km / s>, <Quantity -7.585614 km / s>, <Quantity -7.58822882 km / s>, <Quantity -7.5908716 km / s>, <Quantity -7.59354167 km / s>, <Quantity -7.59623828 km / s>, <Quantity -7.59896061 km / s>, <Quantity -7.60170769 km / s>, <Quantity -7.60447849 km / s>, <Quantity -7.60727183 km / s>, <Quantity -7.61008643 km / s>, <Quantity -7.61292084 km / s>, <Quantity -7.61577347 km / s>, <Quantity -7.61864258 km / s>, <Quantity -7.62152624 km / s>, <Quantity -7.62442232 km / s>, <Quantity -7.62732849 km / s>, <Quantity -7.63024218 km / s>, <Quantity -7.63316059 km / s>, <Quantity -7.63608063 km / s>, <Quantity -7.63899892 km / s>, <Quantity -7.64191177 km / s>, <Quantity -7.64481513 km / s>, <Quantity -7.64770457 km / s>, <Quantity -7.65057524 km / s>, <Quantity -7.65342184 km / s>, <Quantity -7.65623858 km / s>, <Quantity -7.65901913 km / s>, <Quantity -7.66175654 km / s>, <Quantity -7.66444324 km / s>, <Quantity -7.66707095 km / s>, <Quantity -7.6696306 km / s>, <Quantity -7.67211226 km / s>, <Quantity -7.67450509 km / s>, <Quantity -7.67679719 km / s>, <Quantity -7.67897555 km / s>, <Quantity -7.68102592 km / s>, <Quantity -7.68293265 km / s>, <Quantity -7.68467861 km / s>]\n",
      "[[<Quantity -7.46591212 km / s>], [<Quantity -7.46580501 km / s>], [<Quantity -7.46569549 km / s>], [<Quantity -7.4655836 km / s>], [<Quantity -7.46546938 km / s>], [<Quantity -7.46535286 km / s>], [<Quantity -7.4652341 km / s>], [<Quantity -7.46511311 km / s>], [<Quantity -7.46498996 km / s>], [<Quantity -7.46486467 km / s>], [<Quantity -7.46473729 km / s>], [<Quantity -7.46460785 km / s>], [<Quantity -7.46447641 km / s>], [<Quantity -7.46434299 km / s>], [<Quantity -7.46420765 km / s>], [<Quantity -7.46407042 km / s>], [<Quantity -7.46393135 km / s>], [<Quantity -7.46379048 km / s>], [<Quantity -7.46364786 km / s>], [<Quantity -7.46350353 km / s>], [<Quantity -7.46335752 km / s>], [<Quantity -7.4632099 km / s>], [<Quantity -7.4630607 km / s>], [<Quantity -7.46290996 km / s>], [<Quantity -7.46275774 km / s>], [<Quantity -7.46260408 km / s>], [<Quantity -7.46244903 km / s>], [<Quantity -7.46229262 km / s>], [<Quantity -7.46213492 km / s>], [<Quantity -7.46197597 km / s>], [<Quantity -7.46181581 km / s>], [<Quantity -7.4616545 km / s>], [<Quantity -7.46149208 km / s>], [<Quantity -7.46132861 km / s>], [<Quantity -7.46116413 km / s>], [<Quantity -7.46099869 km / s>], [<Quantity -7.46083235 km / s>], [<Quantity -7.46066515 km / s>], [<Quantity -7.46049715 km / s>], [<Quantity -7.4603284 km / s>], [<Quantity -7.46015895 km / s>], [<Quantity -7.45998885 km / s>], [<Quantity -7.45981816 km / s>], [<Quantity -7.45964694 km / s>], [<Quantity -7.45947523 km / s>], [<Quantity -7.45930309 km / s>], [<Quantity -7.45913057 km / s>], [<Quantity -7.45895773 km / s>], [<Quantity -7.45878464 km / s>], [<Quantity -7.45861133 km / s>], [<Quantity -7.45843788 km / s>], [<Quantity -7.45826434 km / s>], [<Quantity -7.45809076 km / s>], [<Quantity -7.45791721 km / s>], [<Quantity -7.45774374 km / s>], [<Quantity -7.45757042 km / s>], [<Quantity -7.4573973 km / s>], [<Quantity -7.45722445 km / s>], [<Quantity -7.45705192 km / s>], [<Quantity -7.45687978 km / s>], [<Quantity -7.45670809 km / s>], [<Quantity -7.45653691 km / s>], [<Quantity -7.45636631 km / s>], [<Quantity -7.45619635 km / s>], [<Quantity -7.4560271 km / s>], [<Quantity -7.45585861 km / s>], [<Quantity -7.45569096 km / s>], [<Quantity -7.45552421 km / s>], [<Quantity -7.45535842 km / s>], [<Quantity -7.45519368 km / s>], [<Quantity -7.45503003 km / s>], [<Quantity -7.45486756 km / s>], [<Quantity -7.45470633 km / s>], [<Quantity -7.45454641 km / s>], [<Quantity -7.45438787 km / s>], [<Quantity -7.45423078 km / s>], [<Quantity -7.45407522 km / s>], [<Quantity -7.45392125 km / s>], [<Quantity -7.45376895 km / s>], [<Quantity -7.4536184 km / s>], [<Quantity -7.45346966 km / s>], [<Quantity -7.45332281 km / s>], [<Quantity -7.45317793 km / s>], [<Quantity -7.4530351 km / s>], [<Quantity -7.45289438 km / s>], [<Quantity -7.45275586 km / s>], [<Quantity -7.45261962 km / s>], [<Quantity -7.45248573 km / s>], [<Quantity -7.45235428 km / s>], [<Quantity -7.45222535 km / s>], [<Quantity -7.45209901 km / s>], [<Quantity -7.45197536 km / s>], [<Quantity -7.45185446 km / s>], [<Quantity -7.45173641 km / s>], [<Quantity -7.45162129 km / s>], [<Quantity -7.45150919 km / s>], [<Quantity -7.45140019 km / s>], [<Quantity -7.45129437 km / s>], [<Quantity -7.45119184 km / s>], [<Quantity -7.45109266 km / s>], [<Quantity -7.45099694 km / s>], [<Quantity -7.45090476 km / s>], [<Quantity -7.45081622 km / s>], [<Quantity -7.4507314 km / s>], [<Quantity -7.4506504 km / s>], [<Quantity -7.45057331 km / s>], [<Quantity -7.45050023 km / s>], [<Quantity -7.45043125 km / s>], [<Quantity -7.45036647 km / s>], [<Quantity -7.45030599 km / s>], [<Quantity -7.4502499 km / s>], [<Quantity -7.4501983 km / s>], [<Quantity -7.45015129 km / s>], [<Quantity -7.45010898 km / s>], [<Quantity -7.45007146 km / s>], [<Quantity -7.45003885 km / s>], [<Quantity -7.45001123 km / s>], [<Quantity -7.44998872 km / s>], [<Quantity -7.44997143 km / s>], [<Quantity -7.44995946 km / s>], [<Quantity -7.44995292 km / s>], [<Quantity -7.44995191 km / s>], [<Quantity -7.44995656 km / s>], [<Quantity -7.44996696 km / s>], [<Quantity -7.44998324 km / s>], [<Quantity -7.45000551 km / s>], [<Quantity -7.45003388 km / s>], [<Quantity -7.45006846 km / s>], [<Quantity -7.45010938 km / s>], [<Quantity -7.45015676 km / s>], [<Quantity -7.45021071 km / s>], [<Quantity -7.45027135 km / s>], [<Quantity -7.45033881 km / s>], [<Quantity -7.4504132 km / s>], [<Quantity -7.45049467 km / s>], [<Quantity -7.45058332 km / s>], [<Quantity -7.45067929 km / s>], [<Quantity -7.45078271 km / s>], [<Quantity -7.4508937 km / s>], [<Quantity -7.4510124 km / s>], [<Quantity -7.45113894 km / s>], [<Quantity -7.45127346 km / s>], [<Quantity -7.45141608 km / s>], [<Quantity -7.45156695 km / s>], [<Quantity -7.45172621 km / s>], [<Quantity -7.45189399 km / s>], [<Quantity -7.45207044 km / s>], [<Quantity -7.45225569 km / s>], [<Quantity -7.4524499 km / s>], [<Quantity -7.45265321 km / s>], [<Quantity -7.45286576 km / s>], [<Quantity -7.45308771 km / s>], [<Quantity -7.4533192 km / s>], [<Quantity -7.45356039 km / s>], [<Quantity -7.45381143 km / s>], [<Quantity -7.45407248 km / s>], [<Quantity -7.4543437 km / s>], [<Quantity -7.45462523 km / s>], [<Quantity -7.45491725 km / s>], [<Quantity -7.45521992 km / s>], [<Quantity -7.4555334 km / s>], [<Quantity -7.45585785 km / s>], [<Quantity -7.45619345 km / s>], [<Quantity -7.45654035 km / s>], [<Quantity -7.45689875 km / s>], [<Quantity -7.4572688 km / s>], [<Quantity -7.45765068 km / s>], [<Quantity -7.45804457 km / s>], [<Quantity -7.45845065 km / s>], [<Quantity -7.4588691 km / s>], [<Quantity -7.4593001 km / s>], [<Quantity -7.45974383 km / s>], [<Quantity -7.46020049 km / s>], [<Quantity -7.46067026 km / s>], [<Quantity -7.46115334 km / s>], [<Quantity -7.46164991 km / s>], [<Quantity -7.46216016 km / s>], [<Quantity -7.46268431 km / s>], [<Quantity -7.46322254 km / s>], [<Quantity -7.46377506 km / s>], [<Quantity -7.46434207 km / s>], [<Quantity -7.46492378 km / s>], [<Quantity -7.46552039 km / s>], [<Quantity -7.46613212 km / s>], [<Quantity -7.46675917 km / s>], [<Quantity -7.46740176 km / s>], [<Quantity -7.46806011 km / s>], [<Quantity -7.46873443 km / s>], [<Quantity -7.46942495 km / s>], [<Quantity -7.4701319 km / s>], [<Quantity -7.47085548 km / s>], [<Quantity -7.47159594 km / s>], [<Quantity -7.4723535 km / s>], [<Quantity -7.4731284 km / s>], [<Quantity -7.47392087 km / s>], [<Quantity -7.47473115 km / s>], [<Quantity -7.47555947 km / s>], [<Quantity -7.47640607 km / s>], [<Quantity -7.47727121 km / s>], [<Quantity -7.47815513 km / s>], [<Quantity -7.47905807 km / s>], [<Quantity -7.47998028 km / s>], [<Quantity -7.48092202 km / s>], [<Quantity -7.48188354 km / s>], [<Quantity -7.48286509 km / s>], [<Quantity -7.48386694 km / s>], [<Quantity -7.48488935 km / s>], [<Quantity -7.48593257 km / s>], [<Quantity -7.48699688 km / s>], [<Quantity -7.48808254 km / s>], [<Quantity -7.48918981 km / s>], [<Quantity -7.49031896 km / s>], [<Quantity -7.49147028 km / s>], [<Quantity -7.49264402 km / s>], [<Quantity -7.49384046 km / s>], [<Quantity -7.49505988 km / s>], [<Quantity -7.49630256 km / s>], [<Quantity -7.49756877 km / s>], [<Quantity -7.49885879 km / s>], [<Quantity -7.50017289 km / s>], [<Quantity -7.50151137 km / s>], [<Quantity -7.50287449 km / s>], [<Quantity -7.50426254 km / s>], [<Quantity -7.5056758 km / s>], [<Quantity -7.50711455 km / s>], [<Quantity -7.50857906 km / s>], [<Quantity -7.51006962 km / s>], [<Quantity -7.5115865 km / s>], [<Quantity -7.51312997 km / s>], [<Quantity -7.51470032 km / s>], [<Quantity -7.5162978 km / s>], [<Quantity -7.5179227 km / s>], [<Quantity -7.51957527 km / s>], [<Quantity -7.52125577 km / s>], [<Quantity -7.52296448 km / s>], [<Quantity -7.52470162 km / s>], [<Quantity -7.52646747 km / s>], [<Quantity -7.52826225 km / s>], [<Quantity -7.5300862 km / s>], [<Quantity -7.53193955 km / s>], [<Quantity -7.53382252 km / s>], [<Quantity -7.53573532 km / s>], [<Quantity -7.53767814 km / s>], [<Quantity -7.53965118 km / s>], [<Quantity -7.54165461 km / s>], [<Quantity -7.5436886 km / s>], [<Quantity -7.54575329 km / s>], [<Quantity -7.54784882 km / s>], [<Quantity -7.54997529 km / s>], [<Quantity -7.55213281 km / s>], [<Quantity -7.55432145 km / s>], [<Quantity -7.55654125 km / s>], [<Quantity -7.55879225 km / s>], [<Quantity -7.56107444 km / s>], [<Quantity -7.56338779 km / s>], [<Quantity -7.56573224 km / s>], [<Quantity -7.56810768 km / s>], [<Quantity -7.57051399 km / s>], [<Quantity -7.57295098 km / s>], [<Quantity -7.57541843 km / s>], [<Quantity -7.57791607 km / s>], [<Quantity -7.58044357 km / s>], [<Quantity -7.58300057 km / s>], [<Quantity -7.5855866 km / s>], [<Quantity -7.58820116 km / s>], [<Quantity -7.59084368 km / s>], [<Quantity -7.59351348 km / s>], [<Quantity -7.59620982 km / s>], [<Quantity -7.59893186 km / s>], [<Quantity -7.60167866 km / s>], [<Quantity -7.60444916 km / s>], [<Quantity -7.60724221 km / s>], [<Quantity -7.6100565 km / s>], [<Quantity -7.6128906 km / s>], [<Quantity -7.61574292 km / s>], [<Quantity -7.6186117 km / s>], [<Quantity -7.62149503 km / s>], [<Quantity -7.62439077 km / s>], [<Quantity -7.62729659 km / s>], [<Quantity -7.63020993 km / s>], [<Quantity -7.63312797 km / s>], [<Quantity -7.63604764 km / s>], [<Quantity -7.63896556 km / s>], [<Quantity -7.64187802 km / s>], [<Quantity -7.64478098 km / s>], [<Quantity -7.64767001 km / s>], [<Quantity -7.65054026 km / s>], [<Quantity -7.65338644 km / s>], [<Quantity -7.65620274 km / s>], [<Quantity -7.65898284 km / s>], [<Quantity -7.66171979 km / s>], [<Quantity -7.66440602 km / s>], [<Quantity -7.66703324 km / s>], [<Quantity -7.66959239 km / s>], [<Quantity -7.67207354 km / s>], [<Quantity -7.67446584 km / s>], [<Quantity -7.6767574 km / s>], [<Quantity -7.67893521 km / s>], [<Quantity -7.680985 km / s>], [<Quantity -7.68289115 km / s>], [<Quantity -7.6846365 km / s>]]\n"
     ]
    }
   ],
   "source": [
    "ref_data = []\n",
    "sim_meas_data = []\n",
    "for e in fit_epochs:\n",
    "    rv = near_goldstone_ephem.rv(e)\n",
    "    ref_r, ref_rr, ref_ra = dss25.range_rate_accel(rv, e)\n",
    "    ref_data.append(ref_rr)\n",
    "    sim_meas_data.append([ref_rr - ref_ra*ref_r/const.c])\n",
    "\n",
    "print(ref_data)\n",
    "print(sim_meas_data)"
   ]
  },
  {
   "cell_type": "code",
   "execution_count": 6,
   "id": "ecb1ee2b",
   "metadata": {},
   "outputs": [
    {
     "name": "stdout",
     "output_type": "stream",
     "text": [
      "Range constraints:\n",
      "a: -8408770.59112711 -8578644.744483216\n",
      "ecc: 1.7953646048861989 1.8316345969041021\n",
      "inc: 1.865643823256362 1.903333597463561\n"
     ]
    }
   ],
   "source": [
    "from sim.fitorbit import OrbitFitter\n",
    "fitter = OrbitFitter(near_goldstone_orbit, [dss25], debug=True)"
   ]
  },
  {
   "cell_type": "code",
   "execution_count": 7,
   "id": "8abaa873",
   "metadata": {},
   "outputs": [
    {
     "name": "stdout",
     "output_type": "stream",
     "text": [
      "{'a': -8493707.667805163, 'ecc': 1.8134996008951505, 'inc': 1.8844887103599615, 'nu': -2.081249407419048, 'raan': 1.5400636799017355, 'argp': 2.5332017234211355}\n",
      "{'a': -8493707.667805163, 'ecc': 1.8134996008951505, 'inc': 1.8844887103599615, 'nu': -2.081249407419048, 'raan': 1.5400636799017355, 'argp': 2.5332017234211355}\n",
      "{'a': -8493707.667805163, 'ecc': 1.8134996008951505, 'inc': 1.8844887103599615, 'nu': -2.081249407419048, 'raan': 1.5400636799017355, 'argp': 2.5332017234211355}\n",
      "{'a': -8493707.666539501, 'ecc': 1.8134996008951505, 'inc': 1.8844887103599615, 'nu': -2.081249407419048, 'raan': 1.5400636799017355, 'argp': 2.5332017234211355}\n",
      "{'a': -8493707.667805163, 'ecc': 1.813499601165383, 'inc': 1.8844887103599615, 'nu': -2.081249407419048, 'raan': 1.5400636799017355, 'argp': 2.5332017234211355}\n",
      "{'a': -8493707.667805163, 'ecc': 1.8134996008951505, 'inc': 1.8844887106407722, 'nu': -2.081249407419048, 'raan': 1.5400636799017355, 'argp': 2.5332017234211355}\n",
      "{'a': -8493707.667805163, 'ecc': 1.8134996008951505, 'inc': 1.8844887103599615, 'nu': -2.0812493820261686, 'raan': 1.5400636799017355, 'argp': 2.5332017234211355}\n",
      "{'a': -8493707.667805163, 'ecc': 1.8134996008951505, 'inc': 1.8844887103599615, 'nu': -2.081249407419048, 'raan': 1.5400637014454277, 'argp': 2.5332017234211355}\n",
      "{'a': -8493707.667805163, 'ecc': 1.8134996008951505, 'inc': 1.8844887103599615, 'nu': -2.081249407419048, 'raan': 1.5400636799017355, 'argp': 2.533201732371799}\n",
      "{'a': -8493738.172453623, 'ecc': 1.8129913370310193, 'inc': 1.8856454477033968, 'nu': -2.0814644180536015, 'raan': 1.5405908889014042, 'argp': 2.5336321060479894}\n",
      "{'a': -8493738.172453169, 'ecc': 1.8129913370310193, 'inc': 1.8856454477033968, 'nu': -2.0814644180536015, 'raan': 1.5405908889014042, 'argp': 2.5336321060479894}\n",
      "{'a': -8493738.172453623, 'ecc': 1.812991337038591, 'inc': 1.8856454477033968, 'nu': -2.0814644180536015, 'raan': 1.5405908889014042, 'argp': 2.5336321060479894}\n",
      "{'a': -8493738.172453623, 'ecc': 1.8129913370310193, 'inc': 1.8856454477206117, 'nu': -2.0814644180536015, 'raan': 1.5405908889014042, 'argp': 2.5336321060479894}\n",
      "{'a': -8493738.172453623, 'ecc': 1.8129913370310193, 'inc': 1.8856454477033968, 'nu': -2.08146439265957, 'raan': 1.5405908889014042, 'argp': 2.5336321060479894}\n",
      "{'a': -8493738.172453623, 'ecc': 1.8129913370310193, 'inc': 1.8856454477033968, 'nu': -2.0814644180536015, 'raan': 1.5405909104397286, 'argp': 2.5336321060479894}\n",
      "{'a': -8493738.172453623, 'ecc': 1.8129913370310193, 'inc': 1.8856454477033968, 'nu': -2.0814644180536015, 'raan': 1.5405908889014042, 'argp': 2.533632114992486}\n",
      "{'a': -8493738.242681852, 'ecc': 1.8129897524085465, 'inc': 1.8856492918560226, 'nu': -2.0814650618949777, 'raan': 1.5405926359454607, 'argp': 2.5336338383422867}\n",
      "{'a': -8493738.242681397, 'ecc': 1.8129897524085465, 'inc': 1.8856492918560226, 'nu': -2.0814650618949777, 'raan': 1.5405926359454607, 'argp': 2.5336338383422867}\n",
      "{'a': -8493738.242681852, 'ecc': 1.8129897524161418, 'inc': 1.8856492918560226, 'nu': -2.0814650618949777, 'raan': 1.5405926359454607, 'argp': 2.5336338383422867}\n",
      "{'a': -8493738.242681852, 'ecc': 1.8129897524085465, 'inc': 1.8856492918732946, 'nu': -2.0814650618949777, 'raan': 1.5405926359454607, 'argp': 2.5336338383422867}\n",
      "{'a': -8493738.242681852, 'ecc': 1.8129897524085465, 'inc': 1.8856492918560226, 'nu': -2.0814650365009424, 'raan': 1.5405926359454607, 'argp': 2.5336338383422867}\n",
      "{'a': -8493738.242681852, 'ecc': 1.8129897524085465, 'inc': 1.8856492918560226, 'nu': -2.0814650618949777, 'raan': 1.5405926574837683, 'argp': 2.5336338383422867}\n",
      "{'a': -8493738.242681852, 'ecc': 1.8129897524085465, 'inc': 1.8856492918560226, 'nu': -2.0814650618949777, 'raan': 1.5405926359454607, 'argp': 2.5336338472867586}\n",
      "{'a': -8493738.251889274, 'ecc': 1.8129884528565956, 'inc': 1.8856519625408292, 'nu': -2.0814656089143986, 'raan': 1.5405938902962215, 'argp': 2.5336349704882273}\n",
      "{'a': -8493738.262814574, 'ecc': 1.81298944139937, 'inc': 1.8856499662670536, 'nu': -2.0814651930968333, 'raan': 1.5405929499402677, 'argp': 2.533634081350542}\n",
      "{'a': -8493738.242681852, 'ecc': 1.8129897524085465, 'inc': 1.8856492918560226, 'nu': -2.0814650618949777, 'raan': 1.5405926359454607, 'argp': 2.5336338383422867}\n",
      "[[Fit Statistics]]\n",
      "    # fitting method   = leastsq\n",
      "    # function evals   = 23\n",
      "    # data points      = 301\n",
      "    # variables        = 6\n",
      "    chi-square         = 1.0636e-08\n",
      "    reduced chi-square = 3.6054e-11\n",
      "    Akaike info crit   = -7231.90377\n",
      "    Bayesian info crit = -7209.66111\n",
      "[[Variables]]\n",
      "    a:    -8493738.24 +/- 0.05811792 (0.00%) (init = -8493708)\n",
      "    ecc:   1.81298975 +/- 1.6152e-06 (0.00%) (init = 1.8135)\n",
      "    inc:   1.88564929 +/- 3.2635e-06 (0.00%) (init = 1.884489)\n",
      "    nu:   -2.08146506 +/- 6.7940e-07 (0.00%) (init = -2.081249)\n",
      "    raan:  1.54059264 +/- 1.5371e-06 (0.00%) (init = 1.540064)\n",
      "    argp:  2.53363384 +/- 1.4552e-06 (0.00%) (init = 2.533202)\n",
      "[[Correlations]] (unreported correlations are < 0.100)\n",
      "    C(ecc, nu)    = 1.000\n",
      "    C(inc, raan)  = 1.000\n",
      "    C(ecc, raan)  = -1.000\n",
      "    C(nu, raan)   = -1.000\n",
      "    C(ecc, inc)   = -0.999\n",
      "    C(inc, nu)    = -0.999\n",
      "    C(nu, argp)   = -0.998\n",
      "    C(ecc, argp)  = -0.998\n",
      "    C(raan, argp) = 0.996\n",
      "    C(inc, argp)  = 0.996\n",
      "    C(a, argp)    = 0.361\n",
      "    C(a, nu)      = -0.307\n",
      "    C(a, ecc)     = -0.307\n",
      "    C(a, raan)    = 0.280\n",
      "    C(a, inc)     = 0.276\n",
      "\n",
      "::ORBIT::\n",
      "Plane: Planes.EARTH_EQUATOR\n",
      "Inclination: 108.03974606518248 deg\n",
      "Eccentricity: 1.8129897524085465\n",
      "Semilatus rectum: 19424600.447676558 m\n",
      "Semimajor axix: -8493738.242681852 m\n",
      "Periapse radius: 6905322.150940922 m , altitude: 527185.5509409225 m\n",
      "\n",
      "::TRAJECTORY::\n",
      "Start and end ranges: 166010.28995371438 km 31574.37063653822 km\n",
      "Start and end radial speeds: -7.465912124077424 km / s -7.684636518669682 km / s\n",
      "Closest: 31574.37063653822 km speed 8.258631999982365 km / s  at  1998-01-23 06:14:55.600\n",
      "Deflection: 1.4526072292195356 deg\n"
     ]
    }
   ],
   "source": [
    "from datetime import datetime \n",
    "start_time = datetime.now()\n",
    "#print(start_time)\n",
    "\n",
    "fitter.fit_doppler_data(fit_epochs, sim_meas_data)\n",
    "time_elapsed = datetime.now() - start_time\n",
    "print(fitter.report())\n",
    "\n",
    "describe_orbit(fitter.orbit)\n",
    "describe_trajectory(fitter.ephem, dss25)"
   ]
  },
  {
   "cell_type": "code",
   "execution_count": 8,
   "id": "dc89a2f9",
   "metadata": {},
   "outputs": [
    {
     "name": "stdout",
     "output_type": "stream",
     "text": [
      "Start and end epochs: 1998-01-23 06:12:00.000 1998-01-23 06:53:00.000 [ 42 ]\n"
     ]
    }
   ],
   "source": [
    "ssn_offsets = np.arange(0, (ssn_end - ssn_start)/(1*u.s), sampling_interval)\n",
    "ssn_epochs = ssn_start + (ssn_offsets << u.s)\n",
    "print(\"Start and end epochs:\", ssn_start, ssn_epochs[-1], \"[\", ssn_epochs.size, \"]\")"
   ]
  },
  {
   "cell_type": "code",
   "execution_count": 9,
   "id": "e24190b4",
   "metadata": {},
   "outputs": [
    {
     "name": "stdout",
     "output_type": "stream",
     "text": [
      "\n",
      "::TRAJECTORY::\n",
      "Start and end ranges: 32462.517708975396 km 14331.618584099468 km\n",
      "Start and end radial speeds: -7.679090069165523 km / s -6.934525578595491 km / s\n",
      "Closest: 14331.618584099468 km speed 9.427530525333008 km / s  at  1998-01-23 06:53:00.000\n",
      "Deflection: 3.3025959169673764 deg\n"
     ]
    }
   ],
   "source": [
    "sim_goldstone_ephem = fitter.orbit.to_ephem(EpochsArray(ssn_epochs))\n",
    "describe_trajectory(sim_goldstone_ephem, dss25)"
   ]
  },
  {
   "cell_type": "code",
   "execution_count": 10,
   "id": "6346b8fa",
   "metadata": {},
   "outputs": [],
   "source": [
    "# also extend the reference trajectory\n",
    "near_goldstone_extended_ephem = near_goldstone_orbit.to_ephem(EpochsArray(ssn_epochs))"
   ]
  },
  {
   "cell_type": "code",
   "execution_count": 11,
   "id": "2be726e7",
   "metadata": {},
   "outputs": [],
   "source": [
    "altair_residuals = []\n",
    "millstone_residuals = []\n",
    "\n",
    "for e in ssn_epochs:\n",
    "    ref_rv = sim_goldstone_ephem.rv(e)\n",
    "    sim_rv = near_goldstone_extended_ephem.rv(e)\n",
    "\n",
    "    ref_r, ref_rr = ssrAltair.range_and_rate(ref_rv, e)\n",
    "    meas_r, meas_rr = ssrAltair.range_and_rate(sim_rv, e)\n",
    "    altair_residuals.append((meas_r - ref_r).to_value(u.m))\n",
    "\n",
    "    ref_r, ref_rr = ssrMillstone.range_and_rate(ref_rv, e)\n",
    "    meas_r, meas_rr = ssrMillstone.range_and_rate(sim_rv, e)\n",
    "    millstone_residuals.append((meas_r - ref_r).to_value(u.m))"
   ]
  },
  {
   "cell_type": "markdown",
   "id": "346b8e4c",
   "metadata": {},
   "source": [
    "The result is range residuals almost an order larger, instead of nulling them! "
   ]
  },
  {
   "cell_type": "code",
   "execution_count": 12,
   "id": "d3cbea3e",
   "metadata": {
    "scrolled": false
   },
   "outputs": [
    {
     "data": {
      "image/png": "[encoded data removed]",
      "text/plain": [
       "<Figure size 640x480 with 1 Axes>"
      ]
     },
     "metadata": {},
     "output_type": "display_data"
    }
   ],
   "source": [
    "import matplotlib.pyplot as plt\n",
    "from astropy import visualization\n",
    "with visualization.time_support():\n",
    "    plt.xlabel('Time during SSN tracking')\n",
    "    plt.ylabel('Range residuals (m)')\n",
    "    plt.scatter(ssn_epochs, altair_residuals, label=\"Altair\")\n",
    "    plt.scatter(ssn_epochs, millstone_residuals, label=\"Millstone\")\n",
    "    plt.legend(loc=0)\n",
    "    plt.gcf().autofmt_xdate()"
   ]
  },
  {
   "cell_type": "code",
   "execution_count": 13,
   "id": "2a9510ad",
   "metadata": {},
   "outputs": [
    {
     "data": {
      "text/html": [
       "\n",
       "<link rel=\"stylesheet\" href=\"https://cesium.com/downloads/cesiumjs/releases/1.88/Build/Cesium/Widgets/widgets.css\" type=\"text/css\">\n",
       "<div id=\"cesiumContainer-e6223747-b314-4dde-8ae7-07560b233be3\" style=\"width:100%; height:400px;\"></div>\n",
       "<script type=\"text/javascript\">\n",
       "\n",
       "require.config({\n",
       "    paths: {\n",
       "        'cesium': 'https://cesium.com/downloads/cesiumjs/releases/1.88/Build/Cesium/Cesium'\n",
       "    }\n",
       "});\n",
       "\n",
       "// Set this global variable to avoid problems with non-local Jupyter deployments\n",
       "// Basically this line:\n",
       "// https://github.com/AnalyticalGraphicsInc/cesium/blob/1.64/Source/Core/buildModuleUrl.js#L13\n",
       "// Fails because of this:\n",
       "// https://github.com/jupyter/notebook/blob/6.0.2/notebook/templates/page.html#L25-L27\n",
       "// Also, finding out about CESIUM_BASE_URL was not very straightforward,\n",
       "// see https://github.com/AnalyticalGraphicsInc/cesium/issues/8327\n",
       "var CESIUM_BASE_URL = 'https://cesium.com/downloads/cesiumjs/releases/1.88/Build/Cesium/'\n",
       "\n",
       "require(['cesium'], function (Cesium) {\n",
       "    var czml = [{\"id\": \"document\", \"version\": \"1.0\", \"name\": \"document_packet\", \"clock\": {\"interval\": \"1998-01-23T06:12:00Z/1998-01-23T06:53:00Z\", \"currentTime\": \"1998-01-23T06:12:00Z\", \"multiplier\": 60, \"range\": \"LOOP_STOP\", \"step\": \"SYSTEM_CLOCK_MULTIPLIER\"}}, {\"id\": \"custom_properties\", \"properties\": {\"custom_attractor\": true, \"ellipsoid\": [{\"array\": [6378136.6, 6378136.6, 6356751.9]}], \"map_url\": [\"https://upload.wikimedia.org/wikipedia/commons/c/c4/Earthmap1000x500compac.jpg\"], \"scene3D\": true}}, {\"id\": \"GS0\", \"description\": \"Altair\", \"availability\": \"1998-01-23T06:12:00Z/1998-01-23T06:53:00Z\", \"position\": {\"cartesian\": [-6143471.429543289, 1364300.4818256705, 1034339.9636133286]}, \"billboard\": {\"image\": \"data:image/png;base64,iVBORw0KGgoAAAANSUhEUgAAABAAAAAQCAYAAAAf8/9hAAAAAXNSR0IArs4c6QAAAARnQU1BAACxjwv8YQUAAAAJcEhZcwAADsMAAA7DAcdvqGQAAACvSURBVDhPrZDRDcMgDAU9GqN0lIzijw6SUbJJygUeNQgSqepJTyHG91LVVpwDdfxM3T9TSl1EXZvDwii471fivK73cBFFQNTT/d2KoGpfGOpSIkhUpgUMxq9DFEsWv4IXhlyCnhBFnZcFEEuYqbiUlNwWgMTdrZ3JbQFoEVG53rd8ztG9aPJMnBUQf/VFraBJeWnLS0RfjbKyLJA8FkT5seDYS1Qwyv8t0B/5C2ZmH2/eTGNNBgMmAAAAAElFTkSuQmCC\", \"show\": true}, \"label\": {\"show\": true, \"font\": \"11pt Lucida Console\", \"style\": \"FILL\", \"fillColor\": {\"rgba\": \"#111\"}, \"outlineWidth\": 1.0}}, {\"id\": \"GS1\", \"description\": \"Millstone\", \"availability\": \"1998-01-23T06:12:00Z/1998-01-23T06:53:00Z\", \"position\": {\"cartesian\": [1492298.8700490487, -4457675.543085808, 4296323.883602885]}, \"billboard\": {\"image\": \"data:image/png;base64,iVBORw0KGgoAAAANSUhEUgAAABAAAAAQCAYAAAAf8/9hAAAAAXNSR0IArs4c6QAAAARnQU1BAACxjwv8YQUAAAAJcEhZcwAADsMAAA7DAcdvqGQAAACvSURBVDhPrZDRDcMgDAU9GqN0lIzijw6SUbJJygUeNQgSqepJTyHG91LVVpwDdfxM3T9TSl1EXZvDwii471fivK73cBFFQNTT/d2KoGpfGOpSIkhUpgUMxq9DFEsWv4IXhlyCnhBFnZcFEEuYqbiUlNwWgMTdrZ3JbQFoEVG53rd8ztG9aPJMnBUQf/VFraBJeWnLS0RfjbKyLJA8FkT5seDYS1Qwyv8t0B/5C2ZmH2/eTGNNBgMmAAAAAElFTkSuQmCC\", \"show\": true}, \"label\": {\"show\": true, \"font\": \"11pt Lucida Console\", \"style\": \"FILL\", \"fillColor\": {\"rgba\": \"#111\"}, \"outlineWidth\": 1.0}}, {\"id\": 0, \"availability\": \"1998-01-23T06:12:00Z/1998-01-23T06:53:00Z\", \"position\": {\"epoch\": \"1998-01-23T06:12:00Z\", \"interpolationAlgorithm\": \"LAGRANGE\", \"interpolationDegree\": 5, \"referenceFrame\": \"INERTIAL\", \"cartesian\": [0.0, 8492120.82009591, 29888328.543204993, 23334228.806186557, 58.5714285714, 8420139.994045509, 29447642.982445505, 23154189.08535508, 117.1428571429, 8347955.724152651, 29006245.947774585, 22973589.92024513, 175.7142857143, 8275562.276930899, 28564122.123721916, 22792415.09596842, 234.2857142857, 8202953.674660397, 28121255.696462102, 22610647.69232785, 292.8571428571, 8130123.681480302, 27677630.332694005, 22428270.04296708, 351.4285714286, 8057065.788490626, 27233229.157472022, 22245263.691567335, 410.0, 7983773.197779031, 26788034.730936714, 22061609.344836038, 468.5714285714, 7910238.805279475, 26342029.023889642, 21877286.82200577, 527.1428571429, 7836455.182360403, 25895193.392156214, 21692275.00053358, 585.7142857143, 7762414.556029702, 25447508.549679056, 21506551.75765858, 644.2857142857, 7688108.78763182, 24998954.540282875, 21320093.90743961, 702.8571428571, 7613529.349899887, 24549510.708053462, 21132877.132855702, 761.4285714286, 7538667.302210514, 24099155.666271083, 20944875.91250567, 820.0, 7463513.263873257, 23647867.264842786, 20756063.44139452, 878.5714285714, 7388057.385267862, 23195622.556177646, 20566411.545235995, 937.1428571429, 7312289.316622504, 22742397.75945607, 20375890.587638948, 995.7142857143, 7236198.174202509, 22288168.223246686, 20184469.369471498, 1054.2857142857, 7159772.503653526, 21832908.386434935, 19992115.01961774, 1112.8571428571, 7083000.240213617, 21376591.73743707, 19798792.876249474, 1171.4285714286, 7005868.665475629, 20919190.77168795, 19604466.357632548, 1230.0, 6928364.360343858, 20460676.947409768, 19409096.82137009, 1288.5714285714, 6850473.153786622, 20001020.639693268, 19212643.41085232, 1347.1428571429, 6772180.066938508, 19540191.092954554, 19015062.887531944, 1405.7142857143, 6693469.252051398, 19078156.37186979, 18816309.4474722, 1464.2857142857, 6614323.9257316375, 18614883.31094046, 18616334.520419504, 1522.8571428571, 6534726.29583036, 18150337.462906215, 18415086.54942986, 1581.4285714286, 6454657.481273647, 17684483.046300672, 18212510.748823162, 1640.0, 6374097.424027973, 17217282.892547086, 18008548.837948974, 1698.5714285714, 6293024.792291989, 16748698.39311538, 17803138.74791369, 1757.1428571429, 6211416.8738865545, 16278689.4474193, 17596214.29803726, 1815.7142857143, 6129249.4586787615, 15807214.412328828, 17387704.838369176, 1874.2857142857, 6046496.708719842, 15334230.054418012, 17177534.85409043, 1932.8571428571, 5963131.0145987375, 14859691.506375818, 16965623.527049776, 1991.4285714286, 5879122.836308998, 14383552.229390597, 16751884.249017883, 2050.0, 5794440.526693558, 13905763.983800055, 16536224.08047883, 2108.5714285714, 5709050.135265061, 13426276.810899347, 16318543.147899294, 2167.1428571429, 5622915.1898951065, 12945039.029555732, 16098733.97140669, 2225.7142857143, 5535996.453518632, 12461997.252224457, 15876680.713648101, 2284.2857142857, 5448251.652605679, 11977096.426153403, 15652258.33927514, 2342.8571428571, 5359635.173706466, 11490279.907062178, 15425331.672982669, 2401.4285714286, 5270097.723873989, 11001489.574474, 15195754.342304308, 2460.0, 5179585.950208045, 10510666.000266254, 14963367.589415079, 2518.5714285714, 5088042.013146192, 10017748.685026081, 14727998.934000013]}, \"billboard\": {\"image\": \"data:image/png;base64,iVBORw0KGgoAAAANSUhEUgAAABAAAAAQCAYAAAAf8/9hAAAAAXNSR0IArs4c6QAAAARnQU1BAACxjwv8YQUAAAAJcEhZcwAADsMAAA7DAcdvqGQAAADJSURBVDhPnZHRDcMgEEMZjVEYpaNklIzSEfLfD4qNnXAJSFWfhO7w2Zc0Tf9QG2rXrEzSUeZLOGm47WoH95x3Hl3jEgilvDgsOQUTqsNl68ezEwn1vae6lceSEEYvvWNT/Rxc4CXQNGadho1NXoJ+9iaqc2xi2xbt23PJCDIB6TQjOC6Bho/sDy3fBQT8PrVhibU7yBFcEPaRxOoeTwbwByCOYf9VGp1BYI1BA+EeHhmfzKbBoJEQwn1yzUZtyspIQUha85MpkNIXB7GizqDEECsAAAAASUVORK5CYII=\", \"show\": true}, \"label\": {\"font\": \"11pt Lucida Console\", \"style\": \"FILL\", \"fillColor\": {\"rgba\": [255, 255, 0, 255]}, \"outlineColor\": {\"rgba\": [255, 255, 0, 255]}, \"outlineWidth\": 1.0}, \"path\": {\"resolution\": 120, \"material\": {\"solidColor\": {\"color\": {\"rgba\": [255, 255, 0, 255]}}}}}, {\"id\": 1, \"availability\": \"1998-01-23T06:12:00Z/1998-01-23T06:53:00Z\", \"position\": {\"epoch\": \"1998-01-23T06:12:00Z\", \"interpolationAlgorithm\": \"LAGRANGE\", \"interpolationDegree\": 5, \"referenceFrame\": \"INERTIAL\", \"cartesian\": [0.0, 8504359.202397626, 29888698.12101977, 23328757.975234747, 58.5714285714, 8432371.68786927, 29448026.457974624, 23148686.835378412, 117.1428571429, 8360180.428544138, 29006643.2928831, 22968056.36936525, 175.7142857143, 8287779.6796754375, 28564533.308046866, 22786850.366695262, 234.2857142857, 8215163.451703718, 28121680.68725489, 22605051.911754347, 292.8571428571, 8142325.496311038, 27678069.094650015, 22422643.342973605, 351.4285714286, 8069259.291481617, 27233681.6525471, 22239606.209036805, 410.0, 7995958.025483902, 26788500.918148577, 22055921.221879803, 468.5714285714, 7922414.579680884, 26342508.859103262, 21871568.206201155, 527.1428571429, 7848621.51006585, 25895686.827851567, 21686526.045173492, 585.7142857143, 7774571.0274103535, 25448015.534699272, 21500772.622013707, 644.2857142857, 7700254.975899605, 24999475.01956189, 21314284.757034212, 702.8571428571, 7625664.810117188, 24550044.622319978, 21127038.13975704, 761.4285714286, 7550791.570226641, 24099702.95172756, 20939007.255628224, 820.0, 7475625.855180902, 23648427.852816265, 20750165.306819085, 878.5714285714, 7400157.793772356, 23196196.372740444, 20560484.126544844, 937.1428571429, 7324377.013315541, 22742984.72501248, 20369934.086267028, 995.7142857143, 7248272.605731361, 22288768.25208276, 20178483.995074533, 1054.2857142857, 7171833.090775729, 21833521.3862278, 19986100.990457665, 1112.8571428571, 7095046.376125758, 21377217.60871898, 19792750.419597372, 1171.4285714286, 7017899.714003816, 20919829.407260925, 19598395.710189503, 1230.0, 6940379.653981809, 20461328.231705423, 19402998.229705904, 1288.5714285714, 6862471.991565685, 20001684.44807197, 19206517.131861977, 1347.1428571429, 6784161.7121120505, 19540867.290937733, 19008909.18890941, 1405.7142857143, 6705432.929573703, 19078844.814297594, 18810128.60820067, 1464.2857142857, 6626268.819509145, 18615583.841047395, 18610126.831276994, 1522.8571428571, 6546651.54572005, 18151049.911305144, 18408852.31350818, 1581.4285714286, 6466562.179800205, 17685207.2298653, 18206250.282057814, 1640.0, 6385980.612787586, 17218018.6131816, 18002262.46965648, 1698.5714285714, 6304885.458006299, 16749445.436398538, 17796826.821331788, 1757.1428571429, 6223253.944065284, 16279447.581108894, 17589877.170861963, 1815.7142857143, 6141061.796843711, 15807983.384710457, 17381342.883280817, 1874.2857142857, 6058283.109136363, 15335009.592480876, 17171148.459258847, 1932.8571428571, 5974890.196452815, 14860481.31379539, 16959213.096605662, 1991.4285714286, 5890853.437259183, 14384351.98429669, 16745450.20347426, 2050.0, 5806141.0957162175, 13906573.336305484, 16529766.85708185, 2108.5714285714, 5720719.124699198, 13427095.380362831, 16312063.200882658, 2167.1428571429, 5634550.9465783015, 12945866.40154903, 16092231.772116762, 2225.7142857143, 5547597.208888761, 12462832.975171959, 15870156.750498766, 2284.2857142857, 5459815.511622832, 11977940.007608855, 15645713.117480531, 2342.8571428571, 5371160.102425929, 11491130.80958574, 15418765.714002956, 2401.4285714286, 5281581.535473141, 11002347.211070545, 15189168.182922967, 2460.0, 5191026.289237009, 10511529.729345378, 14956761.780345421, 2518.5714285714, 5099436.337732852, 10018617.804844957, 14721374.03789243]}, \"billboard\": {\"image\": \"data:image/png;base64,iVBORw0KGgoAAAANSUhEUgAAABAAAAAQCAYAAAAf8/9hAAAAAXNSR0IArs4c6QAAAARnQU1BAACxjwv8YQUAAAAJcEhZcwAADsMAAA7DAcdvqGQAAADJSURBVDhPnZHRDcMgEEMZjVEYpaNklIzSEfLfD4qNnXAJSFWfhO7w2Zc0Tf9QG2rXrEzSUeZLOGm47WoH95x3Hl3jEgilvDgsOQUTqsNl68ezEwn1vae6lceSEEYvvWNT/Rxc4CXQNGadho1NXoJ+9iaqc2xi2xbt23PJCDIB6TQjOC6Bho/sDy3fBQT8PrVhibU7yBFcEPaRxOoeTwbwByCOYf9VGp1BYI1BA+EeHhmfzKbBoJEQwn1yzUZtyspIQUha85MpkNIXB7GizqDEECsAAAAASUVORK5CYII=\", \"show\": true}, \"label\": {\"font\": \"11pt Lucida Console\", \"style\": \"FILL\", \"fillColor\": {\"rgba\": [255, 255, 0, 255]}, \"outlineColor\": {\"rgba\": [255, 255, 0, 255]}, \"outlineWidth\": 1.0}, \"path\": {\"resolution\": 120, \"material\": {\"solidColor\": {\"color\": {\"rgba\": [255, 255, 0, 255]}}}}}];\n",
       "\n",
       "    var ion_token = '';\n",
       "    if (ion_token !== '') {\n",
       "        Cesium.Ion.defaultAccessToken = ion_token;\n",
       "    }\n",
       "    var viewer = new Cesium.Viewer('cesiumContainer-e6223747-b314-4dde-8ae7-07560b233be3', {\n",
       "        terrainProvider: new Cesium.EllipsoidTerrainProvider(),\n",
       "        imageryProvider: new Cesium.OpenStreetMapImageryProvider(),\n",
       "        shouldAnimate : true\n",
       "    });\n",
       "\n",
       "    // To have an inertial (ICRF) view\n",
       "    function icrf(scene, time) {\n",
       "        var icrfToFixed = Cesium.Transforms.computeIcrfToFixedMatrix(time);\n",
       "        if (Cesium.defined(icrfToFixed)) {\n",
       "            var camera = viewer.camera;\n",
       "            var offset = Cesium.Cartesian3.clone(camera.position);\n",
       "            var transform = Cesium.Matrix4.fromRotationTranslation(icrfToFixed);\n",
       "            camera.lookAtTransform(transform, offset);\n",
       "        }\n",
       "    }\n",
       "    // Temporarily disable inertial view\n",
       "    // until we make it work with 2D Mercator view\n",
       "    // and fix the zoom sensitivity, see\n",
       "    // https://groups.google.com/d/msg/cesium-dev/vuXmepd4T2E/i71tq2I8EAAJ\n",
       "    // viewer.scene.postUpdate.addEventListener(icrf);\n",
       "\n",
       "    viewer.camera.flyHome(0);\n",
       "    viewer.scene.globe.enableLighting = true;\n",
       "\n",
       "    viewer.dataSources.add(Cesium.CzmlDataSource.load(czml));\n",
       "});\n",
       "\n",
       "</script>"
      ],
      "text/plain": [
       "CZMLWidget(document=Document(_values=[Preamble(id='document', version='1.0', name='document_packet', description=None, clock=IntervalValue(_start=<Time object: scale='tdb' format='isot' value=1998-01-23T06:12:00.000>, _end=<Time object: scale='tdb' format='isot' value=1998-01-23T06:53:00.000>, _value=Clock(currentTime=datetime.datetime(1998, 1, 23, 6, 12, tzinfo=datetime.timezone.utc), multiplier=60, range=<ClockRanges.LOOP_STOP: 3>, step=<ClockSteps.SYSTEM_CLOCK_MULTIPLIER: 2>))), Packet(id='custom_properties', delete=None, name=None, parent=None, description=None, availability=None, properties={'custom_attractor': True, 'ellipsoid': [{'array': (6378136.6, 6378136.6, 6356751.9)}], 'map_url': ('https://upload.wikimedia.org/wikipedia/commons/c/c4/Earthmap1000x500compac.jpg',), 'scene3D': True}, position=None, orientation=None, viewFrom=None, billboard=None, box=None, corridor=None, cylinder=None, ellipse=None, ellipsoid=None, label=None, model=None, path=None, point=None, polygon=None, polyline=None, rectangle=None, tileset=None, wall=None), Packet(id='GS0', delete=None, name=None, parent=None, description='Altair', availability=TimeInterval(_start=<Time object: scale='tdb' format='isot' value=1998-01-23T06:12:00.000>, _end=<Time object: scale='tdb' format='isot' value=1998-01-23T06:53:00.000>), properties=None, position=Position(epoch=None, interpolationAlgorithm=None, interpolationDegree=None, delete=None, referenceFrame=None, cartesian=[-6143471.429543289, 1364300.4818256705, 1034339.9636133286], cartographicRadians=None, cartographicDegrees=None, cartesianVelocity=None, reference=None), orientation=None, viewFrom=None, billboard=Billboard(horizontalOrigin=None, verticalOrigin=None, image='data:image/png;base64,iVBORw0KGgoAAAANSUhEUgAAABAAAAAQCAYAAAAf8/9hAAAAAXNSR0IArs4c6QAAAARnQU1BAACxjwv8YQUAAAAJcEhZcwAADsMAAA7DAcdvqGQAAACvSURBVDhPrZDRDcMgDAU9GqN0lIzijw6SUbJJygUeNQgSqepJTyHG91LVVpwDdfxM3T9TSl1EXZvDwii471fivK73cBFFQNTT/d2KoGpfGOpSIkhUpgUMxq9DFEsWv4IXhlyCnhBFnZcFEEuYqbiUlNwWgMTdrZ3JbQFoEVG53rd8ztG9aPJMnBUQf/VFraBJeWnLS0RfjbKyLJA8FkT5seDYS1Qwyv8t0B/5C2ZmH2/eTGNNBgMmAAAAAElFTkSuQmCC', show=True, scale=None, eyeOffset=None), box=None, corridor=None, cylinder=None, ellipse=None, ellipsoid=None, label=Label(horizontalOrigin=None, verticalOrigin=None, show=True, text=None, font='11pt Lucida Console', style=<LabelStyles.FILL: 1>, scale=None, showBackground=None, backgroundColor=None, fillColor=Color(epoch=None, interpolationAlgorithm=None, interpolationDegree=None, delete=None, rgba='#111', rgbaf=None), outlineColor=None, outlineWidth=1.0, pixelOffset=None), model=None, path=None, point=None, polygon=None, polyline=None, rectangle=None, tileset=None, wall=None), Packet(id='GS1', delete=None, name=None, parent=None, description='Millstone', availability=TimeInterval(_start=<Time object: scale='tdb' format='isot' value=1998-01-23T06:12:00.000>, _end=<Time object: scale='tdb' format='isot' value=1998-01-23T06:53:00.000>), properties=None, position=Position(epoch=None, interpolationAlgorithm=None, interpolationDegree=None, delete=None, referenceFrame=None, cartesian=[1492298.8700490487, -4457675.543085808, 4296323.883602885], cartographicRadians=None, cartographicDegrees=None, cartesianVelocity=None, reference=None), orientation=None, viewFrom=None, billboard=Billboard(horizontalOrigin=None, verticalOrigin=None, image='data:image/png;base64,iVBORw0KGgoAAAANSUhEUgAAABAAAAAQCAYAAAAf8/9hAAAAAXNSR0IArs4c6QAAAARnQU1BAACxjwv8YQUAAAAJcEhZcwAADsMAAA7DAcdvqGQAAACvSURBVDhPrZDRDcMgDAU9GqN0lIzijw6SUbJJygUeNQgSqepJTyHG91LVVpwDdfxM3T9TSl1EXZvDwii471fivK73cBFFQNTT/d2KoGpfGOpSIkhUpgUMxq9DFEsWv4IXhlyCnhBFnZcFEEuYqbiUlNwWgMTdrZ3JbQFoEVG53rd8ztG9aPJMnBUQf/VFraBJeWnLS0RfjbKyLJA8FkT5seDYS1Qwyv8t0B/5C2ZmH2/eTGNNBgMmAAAAAElFTkSuQmCC', show=True, scale=None, eyeOffset=None), box=None, corridor=None, cylinder=None, ellipse=None, ellipsoid=None, label=Label(horizontalOrigin=None, verticalOrigin=None, show=True, text=None, font='11pt Lucida Console', style=<LabelStyles.FILL: 1>, scale=None, showBackground=None, backgroundColor=None, fillColor=Color(epoch=None, interpolationAlgorithm=None, interpolationDegree=None, delete=None, rgba='#111', rgbaf=None), outlineColor=None, outlineWidth=1.0, pixelOffset=None), model=None, path=None, point=None, polygon=None, polyline=None, rectangle=None, tileset=None, wall=None), Packet(id=0, delete=None, name=None, parent=None, description=None, availability=TimeInterval(_start=<Time object: scale='tdb' format='isot' value=1998-01-23T06:12:00.000>, _end=<Time object: scale='tdb' format='isot' value=1998-01-23T06:53:00.000>), properties=None, position=Position(epoch=datetime.datetime(1998, 1, 23, 6, 12, tzinfo=datetime.timezone.utc), interpolationAlgorithm=<InterpolationAlgorithms.LAGRANGE: 2>, interpolationDegree=5, delete=None, referenceFrame=<ReferenceFrames.INERTIAL: 2>, cartesian=[0.0, 8492120.82009591, 29888328.543204993, 23334228.806186557, 58.5714285714, 8420139.994045509, 29447642.982445505, 23154189.08535508, 117.1428571429, 8347955.724152651, 29006245.947774585, 22973589.92024513, 175.7142857143, 8275562.276930899, 28564122.123721916, 22792415.09596842, 234.2857142857, 8202953.674660397, 28121255.696462102, 22610647.69232785, 292.8571428571, 8130123.681480302, 27677630.332694005, 22428270.04296708, 351.4285714286, 8057065.788490626, 27233229.157472022, 22245263.691567335, 410.0, 7983773.197779031, 26788034.730936714, 22061609.344836038, 468.5714285714, 7910238.805279475, 26342029.023889642, 21877286.82200577, 527.1428571429, 7836455.182360403, 25895193.392156214, 21692275.00053358, 585.7142857143, 7762414.556029702, 25447508.549679056, 21506551.75765858, 644.2857142857, 7688108.78763182, 24998954.540282875, 21320093.90743961, 702.8571428571, 7613529.349899887, 24549510.708053462, 21132877.132855702, 761.4285714286, 7538667.302210514, 24099155.666271083, 20944875.91250567, 820.0, 7463513.263873257, 23647867.264842786, 20756063.44139452, 878.5714285714, 7388057.385267862, 23195622.556177646, 20566411.545235995, 937.1428571429, 7312289.316622504, 22742397.75945607, 20375890.587638948, 995.7142857143, 7236198.174202509, 22288168.223246686, 20184469.369471498, 1054.2857142857, 7159772.503653526, 21832908.386434935, 19992115.01961774, 1112.8571428571, 7083000.240213617, 21376591.73743707, 19798792.876249474, 1171.4285714286, 7005868.665475629, 20919190.77168795, 19604466.357632548, 1230.0, 6928364.360343858, 20460676.947409768, 19409096.82137009, 1288.5714285714, 6850473.153786622, 20001020.639693268, 19212643.41085232, 1347.1428571429, 6772180.066938508, 19540191.092954554, 19015062.887531944, 1405.7142857143, 6693469.252051398, 19078156.37186979, 18816309.4474722, 1464.2857142857, 6614323.9257316375, 18614883.31094046, 18616334.520419504, 1522.8571428571, 6534726.29583036, 18150337.462906215, 18415086.54942986, 1581.4285714286, 6454657.481273647, 17684483.046300672, 18212510.748823162, 1640.0, 6374097.424027973, 17217282.892547086, 18008548.837948974, 1698.5714285714, 6293024.792291989, 16748698.39311538, 17803138.74791369, 1757.1428571429, 6211416.8738865545, 16278689.4474193, 17596214.29803726, 1815.7142857143, 6129249.4586787615, 15807214.412328828, 17387704.838369176, 1874.2857142857, 6046496.708719842, 15334230.054418012, 17177534.85409043, 1932.8571428571, 5963131.0145987375, 14859691.506375818, 16965623.527049776, 1991.4285714286, 5879122.836308998, 14383552.229390597, 16751884.249017883, 2050.0, 5794440.526693558, 13905763.983800055, 16536224.08047883, 2108.5714285714, 5709050.135265061, 13426276.810899347, 16318543.147899294, 2167.1428571429, 5622915.1898951065, 12945039.029555732, 16098733.97140669, 2225.7142857143, 5535996.453518632, 12461997.252224457, 15876680.713648101, 2284.2857142857, 5448251.652605679, 11977096.426153403, 15652258.33927514, 2342.8571428571, 5359635.173706466, 11490279.907062178, 15425331.672982669, 2401.4285714286, 5270097.723873989, 11001489.574474, 15195754.342304308, 2460.0, 5179585.950208045, 10510666.000266254, 14963367.589415079, 2518.5714285714, 5088042.013146192, 10017748.685026081, 14727998.934000013], cartographicRadians=None, cartographicDegrees=None, cartesianVelocity=None, reference=None), orientation=None, viewFrom=None, billboard=Billboard(horizontalOrigin=None, verticalOrigin=None, image='data:image/png;base64,iVBORw0KGgoAAAANSUhEUgAAABAAAAAQCAYAAAAf8/9hAAAAAXNSR0IArs4c6QAAAARnQU1BAACxjwv8YQUAAAAJcEhZcwAADsMAAA7DAcdvqGQAAADJSURBVDhPnZHRDcMgEEMZjVEYpaNklIzSEfLfD4qNnXAJSFWfhO7w2Zc0Tf9QG2rXrEzSUeZLOGm47WoH95x3Hl3jEgilvDgsOQUTqsNl68ezEwn1vae6lceSEEYvvWNT/Rxc4CXQNGadho1NXoJ+9iaqc2xi2xbt23PJCDIB6TQjOC6Bho/sDy3fBQT8PrVhibU7yBFcEPaRxOoeTwbwByCOYf9VGp1BYI1BA+EeHhmfzKbBoJEQwn1yzUZtyspIQUha85MpkNIXB7GizqDEECsAAAAASUVORK5CYII=', show=True, scale=None, eyeOffset=None), box=None, corridor=None, cylinder=None, ellipse=None, ellipsoid=None, label=Label(horizontalOrigin=None, verticalOrigin=None, show=None, text=None, font='11pt Lucida Console', style=<LabelStyles.FILL: 1>, scale=None, showBackground=None, backgroundColor=None, fillColor=Color(epoch=None, interpolationAlgorithm=None, interpolationDegree=None, delete=None, rgba=[255, 255, 0, 255], rgbaf=None), outlineColor=Color(epoch=None, interpolationAlgorithm=None, interpolationDegree=None, delete=None, rgba=[255, 255, 0, 255], rgbaf=None), outlineWidth=1.0, pixelOffset=None), model=None, path=Path(show=None, leadTime=None, trailTime=None, width=None, resolution=120, material=Material(solidColor=SolidColorMaterial(color=Color(epoch=None, interpolationAlgorithm=None, interpolationDegree=None, delete=None, rgba=RgbaValue(values=[255, 255, 0, 255]), rgbaf=None)), image=None, grid=None, stripe=None, checkerboard=None, polylineOutline=None), distanceDisplayCondition=None), point=None, polygon=None, polyline=None, rectangle=None, tileset=None, wall=None), Packet(id=1, delete=None, name=None, parent=None, description=None, availability=TimeInterval(_start=<Time object: scale='tdb' format='isot' value=1998-01-23T06:12:00.000>, _end=<Time object: scale='tdb' format='isot' value=1998-01-23T06:53:00.000>), properties=None, position=Position(epoch=datetime.datetime(1998, 1, 23, 6, 12, tzinfo=datetime.timezone.utc), interpolationAlgorithm=<InterpolationAlgorithms.LAGRANGE: 2>, interpolationDegree=5, delete=None, referenceFrame=<ReferenceFrames.INERTIAL: 2>, cartesian=[0.0, 8504359.202397626, 29888698.12101977, 23328757.975234747, 58.5714285714, 8432371.68786927, 29448026.457974624, 23148686.835378412, 117.1428571429, 8360180.428544138, 29006643.2928831, 22968056.36936525, 175.7142857143, 8287779.6796754375, 28564533.308046866, 22786850.366695262, 234.2857142857, 8215163.451703718, 28121680.68725489, 22605051.911754347, 292.8571428571, 8142325.496311038, 27678069.094650015, 22422643.342973605, 351.4285714286, 8069259.291481617, 27233681.6525471, 22239606.209036805, 410.0, 7995958.025483902, 26788500.918148577, 22055921.221879803, 468.5714285714, 7922414.579680884, 26342508.859103262, 21871568.206201155, 527.1428571429, 7848621.51006585, 25895686.827851567, 21686526.045173492, 585.7142857143, 7774571.0274103535, 25448015.534699272, 21500772.622013707, 644.2857142857, 7700254.975899605, 24999475.01956189, 21314284.757034212, 702.8571428571, 7625664.810117188, 24550044.622319978, 21127038.13975704, 761.4285714286, 7550791.570226641, 24099702.95172756, 20939007.255628224, 820.0, 7475625.855180902, 23648427.852816265, 20750165.306819085, 878.5714285714, 7400157.793772356, 23196196.372740444, 20560484.126544844, 937.1428571429, 7324377.013315541, 22742984.72501248, 20369934.086267028, 995.7142857143, 7248272.605731361, 22288768.25208276, 20178483.995074533, 1054.2857142857, 7171833.090775729, 21833521.3862278, 19986100.990457665, 1112.8571428571, 7095046.376125758, 21377217.60871898, 19792750.419597372, 1171.4285714286, 7017899.714003816, 20919829.407260925, 19598395.710189503, 1230.0, 6940379.653981809, 20461328.231705423, 19402998.229705904, 1288.5714285714, 6862471.991565685, 20001684.44807197, 19206517.131861977, 1347.1428571429, 6784161.7121120505, 19540867.290937733, 19008909.18890941, 1405.7142857143, 6705432.929573703, 19078844.814297594, 18810128.60820067, 1464.2857142857, 6626268.819509145, 18615583.841047395, 18610126.831276994, 1522.8571428571, 6546651.54572005, 18151049.911305144, 18408852.31350818, 1581.4285714286, 6466562.179800205, 17685207.2298653, 18206250.282057814, 1640.0, 6385980.612787586, 17218018.6131816, 18002262.46965648, 1698.5714285714, 6304885.458006299, 16749445.436398538, 17796826.821331788, 1757.1428571429, 6223253.944065284, 16279447.581108894, 17589877.170861963, 1815.7142857143, 6141061.796843711, 15807983.384710457, 17381342.883280817, 1874.2857142857, 6058283.109136363, 15335009.592480876, 17171148.459258847, 1932.8571428571, 5974890.196452815, 14860481.31379539, 16959213.096605662, 1991.4285714286, 5890853.437259183, 14384351.98429669, 16745450.20347426, 2050.0, 5806141.0957162175, 13906573.336305484, 16529766.85708185, 2108.5714285714, 5720719.124699198, 13427095.380362831, 16312063.200882658, 2167.1428571429, 5634550.9465783015, 12945866.40154903, 16092231.772116762, 2225.7142857143, 5547597.208888761, 12462832.975171959, 15870156.750498766, 2284.2857142857, 5459815.511622832, 11977940.007608855, 15645713.117480531, 2342.8571428571, 5371160.102425929, 11491130.80958574, 15418765.714002956, 2401.4285714286, 5281581.535473141, 11002347.211070545, 15189168.182922967, 2460.0, 5191026.289237009, 10511529.729345378, 14956761.780345421, 2518.5714285714, 5099436.337732852, 10018617.804844957, 14721374.03789243], cartographicRadians=None, cartographicDegrees=None, cartesianVelocity=None, reference=None), orientation=None, viewFrom=None, billboard=Billboard(horizontalOrigin=None, verticalOrigin=None, image='data:image/png;base64,iVBORw0KGgoAAAANSUhEUgAAABAAAAAQCAYAAAAf8/9hAAAAAXNSR0IArs4c6QAAAARnQU1BAACxjwv8YQUAAAAJcEhZcwAADsMAAA7DAcdvqGQAAADJSURBVDhPnZHRDcMgEEMZjVEYpaNklIzSEfLfD4qNnXAJSFWfhO7w2Zc0Tf9QG2rXrEzSUeZLOGm47WoH95x3Hl3jEgilvDgsOQUTqsNl68ezEwn1vae6lceSEEYvvWNT/Rxc4CXQNGadho1NXoJ+9iaqc2xi2xbt23PJCDIB6TQjOC6Bho/sDy3fBQT8PrVhibU7yBFcEPaRxOoeTwbwByCOYf9VGp1BYI1BA+EeHhmfzKbBoJEQwn1yzUZtyspIQUha85MpkNIXB7GizqDEECsAAAAASUVORK5CYII=', show=True, scale=None, eyeOffset=None), box=None, corridor=None, cylinder=None, ellipse=None, ellipsoid=None, label=Label(horizontalOrigin=None, verticalOrigin=None, show=None, text=None, font='11pt Lucida Console', style=<LabelStyles.FILL: 1>, scale=None, showBackground=None, backgroundColor=None, fillColor=Color(epoch=None, interpolationAlgorithm=None, interpolationDegree=None, delete=None, rgba=[255, 255, 0, 255], rgbaf=None), outlineColor=Color(epoch=None, interpolationAlgorithm=None, interpolationDegree=None, delete=None, rgba=[255, 255, 0, 255], rgbaf=None), outlineWidth=1.0, pixelOffset=None), model=None, path=Path(show=None, leadTime=None, trailTime=None, width=None, resolution=120, material=Material(solidColor=SolidColorMaterial(color=Color(epoch=None, interpolationAlgorithm=None, interpolationDegree=None, delete=None, rgba=RgbaValue(values=[255, 255, 0, 255]), rgbaf=None)), image=None, grid=None, stripe=None, checkerboard=None, polylineOutline=None), distanceDisplayCondition=None), point=None, polygon=None, polyline=None, rectangle=None, tileset=None, wall=None)]), cesium_version='1.88', ion_token='', terrain='new Cesium.EllipsoidTerrainProvider()', imagery='new Cesium.OpenStreetMapImageryProvider()', _container_id=UUID('e6223747-b314-4dde-8ae7-07560b233be3'))"
      ]
     },
     "execution_count": 13,
     "metadata": {},
     "output_type": "execute_result"
    }
   ],
   "source": [
    "from czml3.widget import CZMLWidget\n",
    "from poliastro.czml.extract_czml import CZMLExtractor\n",
    "\n",
    "czml = CZMLExtractor(ssn_epochs[0], ssn_epochs[-1], ssn_epochs.size)\n",
    "#dss25.add_to_czml(czml, \"#333\")\n",
    "#dss34.add_to_czml(czml, \"#333\")\n",
    "ssrAltair.add_to_czml(czml, \"#111\")\n",
    "ssrMillstone.add_to_czml(czml, \"#111\")\n",
    "czml.add_orbit(near_goldstone_orbit)\n",
    "czml.add_orbit(fitter.orbit)\n",
    "\n",
    "CZMLWidget(czml.get_document())"
   ]
  },
  {
   "cell_type": "markdown",
   "id": "b40a644b",
   "metadata": {},
   "source": [
    "See [screenshot](near_sim_ssn_altbydoppler_trajectory.png)"
   ]
  }
 ],
 "metadata": {
  "kernelspec": {
   "display_name": "Python 3 (ipykernel)",
   "language": "python",
   "name": "python3"
  },
  "language_info": {
   "codemirror_mode": {
    "name": "ipython",
    "version": 3
   },
   "file_extension": ".py",
   "mimetype": "text/x-python",
   "name": "python",
   "nbconvert_exporter": "python",
   "pygments_lexer": "ipython3",
   "version": "3.10.6"
  }
 },
 "nbformat": 4,
 "nbformat_minor": 5
}
