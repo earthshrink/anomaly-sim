{
 "cells": [
  {
   "cell_type": "markdown",
   "id": "bf82b521",
   "metadata": {},
   "source": [
    "# Test of ground station acceleration contribution in NEAR's ΔV\n",
    "\n",
    "Antreasian & Guinn 1998 gave the loss of signal (LOS) at Goldstone and acquisition of signal (AOS) by Canberra were\n",
    "given relative to the computed perigee time, and only to minute precision. The velocity lags Δv ≡ -ar/c are\n",
    "sensitive to these times, however.\n",
    "\n",
    "Automated fits are explored below for the precise LOS and AOS times that would exactly account for NEAR's velocity\n",
    "anomaly, as a further test against the now recovered original tracking data. \n"
   ]
  },
  {
   "cell_type": "code",
   "execution_count": 1,
   "id": "e1423e57",
   "metadata": {},
   "outputs": [],
   "source": [
    "from astropy import units as u\n",
    "from astropy import constants as const\n",
    "from astropy.coordinates import solar_system_ephemeris\n",
    "\n",
    "from poliastro.ephem import Ephem\n",
    "from poliastro.bodies import Earth\n",
    "from poliastro.frames import Planes\n",
    "\n",
    "import datetime\n",
    "from lmfit import Parameters, minimize, fit_report\n",
    "\n",
    "import sys\n",
    "sys.path.append('../')\n",
    "\n",
    "from sim.stations import dss25, dss34\n",
    "from sim.tracking import Tracking\n",
    "from sim.util import make_epochs, horizons_range_rate_accel"
   ]
  },
  {
   "cell_type": "code",
   "execution_count": 2,
   "id": "d0c5c9ea",
   "metadata": {},
   "outputs": [],
   "source": [
    "solar_system_ephemeris.set(\"de440\")\n",
    "near_perigee = Tracking.NEAR_PERIGEE.value\n",
    "goldstone_end = Tracking.NEAR_GOLDSTONE_END.value\n",
    "canberra_start = Tracking.NEAR_CANBERRA_START.value\n",
    "ref_dv = {\n",
    "    'AIAA': 13.0*u.mm/u.s, # From Antreasian & Guinn, AIAA 1998\n",
    "    'PRL': 13.46*u.mm/u.s, # From Anderson et al, PRL 2008\n",
    "}\n",
    "\n",
    "initial_offsets = Parameters()\n",
    "initial_offsets.add('los', min=-300, max=+300, value=0)\n",
    "initial_offsets.add('aos', min=-300, max=+300, value=0)\n",
    "\n",
    "los_epochs = make_epochs(goldstone_end - 10*u.min, goldstone_end + 10*u.min, 1*u.min)\n",
    "aos_epochs = make_epochs(canberra_start - 10*u.min, canberra_start + 10*u.min, 1*u.min)\n",
    "\n",
    "los_ephem = Ephem.from_horizons(\"NEAR\", los_epochs, attractor=Earth, plane=Planes.EARTH_EQUATOR)\n",
    "aos_ephem = Ephem.from_horizons(\"NEAR\", aos_epochs, attractor=Earth, plane=Planes.EARTH_EQUATOR)\n",
    "\n",
    "\n",
    "def hms(tdelta):\n",
    "    return str(tdelta.to_datetime())\n",
    "\n",
    "\n",
    "def report(los_epoch, los_dv, aos_epoch, aos_dv, ref_name, ref_dv, e_dv):\n",
    "\n",
    "    los_gap = near_perigee - los_epoch\n",
    "    aos_gap = aos_epoch - near_perigee\n",
    "    total_gap = aos_epoch - los_epoch\n",
    "    e_pc = (100*e_dv/ref_dv)\n",
    "\n",
    "    print(f'{ref_name} ({ref_dv}): error {e_dv << u.mm/u.s:.3e} ={e_pc:.4f}%')\n",
    "    print('LOS', los_epoch, f'(-{hms(los_gap)}) {los_dv << (u.mm/u.s):.3f}')\n",
    "    print('AOS', aos_epoch, f'(+{hms(aos_gap)}) {aos_dv << (u.mm/u.s):.3f}')\n",
    "    print(f'Total gap: {hms(total_gap)}\\n')\n",
    "\n",
    "\n",
    "def geocentric_full(offsets, ref_dv, ref_name, verbose=False):\n",
    "\n",
    "    los_epoch = goldstone_end + offsets['los']*u.s\n",
    "    aos_epoch = canberra_start + offsets['aos']*u.s\n",
    "\n",
    "    los_r, los_rr, los_ra, los_rs = dss25.range_rate_accel(los_ephem, los_epoch)\n",
    "    aos_r, aos_rr, aos_ra, aos_rs = dss34.range_rate_accel(aos_ephem, aos_epoch)\n",
    "\n",
    "    los_dv = -los_ra*los_r/const.c << u.mm/u.s\n",
    "    aos_dv = -aos_ra*aos_r/const.c << u.mm/u.s\n",
    "    dv = los_dv + aos_dv\n",
    "    e_dv = dv - ref_dv\n",
    "\n",
    "    if verbose:\n",
    "        report(los_epoch, los_dv, aos_epoch, aos_dv, ref_name, ref_dv, e_dv)\n",
    "\n",
    "    return abs(e_dv)\n",
    "\n",
    "\n",
    "def geocentric_nostation(offsets, ref_dv, ref_name, verbose=False):\n",
    "\n",
    "    los_epoch = goldstone_end + offsets['los']*u.s\n",
    "    aos_epoch = canberra_start + offsets['aos']*u.s\n",
    "\n",
    "    los_r, los_rr, los_ra, los_rs = dss25.range_rate_accel(los_ephem, los_epoch)\n",
    "    aos_r, aos_rr, aos_ra, aos_rs = dss34.range_rate_accel(aos_ephem, aos_epoch)\n",
    "\n",
    "    los_dv = -(los_ra+los_rs)*los_r/const.c << u.mm/u.s\n",
    "    aos_dv = -(aos_ra+aos_rs)*aos_r/const.c << u.mm/u.s\n",
    "    dv = los_dv + aos_dv\n",
    "    e_dv = dv - ref_dv\n",
    "\n",
    "    if verbose:\n",
    "        report(los_epoch, los_dv, aos_epoch, aos_dv, ref_name, ref_dv, e_dv)\n",
    "\n",
    "    return abs(e_dv)\n",
    "\n",
    "\n",
    "def find(func):\n",
    "    for src in ref_dv:\n",
    "        result = minimize(func, initial_offsets, args=(ref_dv[src], ), kws={'ref_name': src}, method='nelder')\n",
    "        #print(fit_report(result))\n",
    "        func(result.params, ref_dv[src], src, verbose=True)"
   ]
  },
  {
   "cell_type": "code",
   "execution_count": 3,
   "id": "6fda7be3",
   "metadata": {},
   "outputs": [
    {
     "name": "stdout",
     "output_type": "stream",
     "text": [
      "Perigee: 1998-01-23 07:22:57.000  # Horizons (AIAA: 55.6)\n",
      "NAECON (13.46 mm / s): error 1.800e-01 mm / s =1.3373%\n",
      "LOS 1998-01-23 06:14:55.600 (-1:09:04.584535) 2.510 mm / s\n",
      "AOS 1998-01-23 09:53:55.600 (+2:29:55.415463) 11.130 mm / s\n",
      "Total gap: 3:39:00\n",
      "\n"
     ]
    }
   ],
   "source": [
    "print(f'Perigee: {near_perigee}  # Horizons (AIAA: 55.6)')\n",
    "report(goldstone_end, 2.51*u.mm/u.s, canberra_start, 11.13*u.mm/u.s,\n",
    "       'NAECON', ref_dv['PRL'], 13.64*u.mm/u.s - ref_dv['PRL'])"
   ]
  },
  {
   "cell_type": "code",
   "execution_count": 4,
   "id": "0fbc7399",
   "metadata": {},
   "outputs": [
    {
     "name": "stdout",
     "output_type": "stream",
     "text": [
      "AIAA (13.0 mm / s): error 3.037e-05 mm / s =0.0002%\n",
      "LOS 1998-01-23 06:17:31.653 (-1:06:28.531093) 1.891 mm / s\n",
      "AOS 1998-01-23 09:53:29.680 (+2:29:29.495492) 11.109 mm / s\n",
      "Total gap: 3:35:58.026586\n",
      "\n",
      "PRL (13.46 mm / s): error 1.363e-05 mm / s =0.0001%\n",
      "LOS 1998-01-23 06:16:24.635 (-1:07:35.549923) 2.353 mm / s\n",
      "AOS 1998-01-23 09:53:41.644 (+2:29:41.459305) 11.107 mm / s\n",
      "Total gap: 3:37:17.009230\n",
      "\n"
     ]
    }
   ],
   "source": [
    "find(geocentric_full)"
   ]
  },
  {
   "cell_type": "code",
   "execution_count": 5,
   "id": "4663f735",
   "metadata": {},
   "outputs": [
    {
     "name": "stdout",
     "output_type": "stream",
     "text": [
      "AIAA (13.0 mm / s): error -1.507e-04 mm / s =-0.0012%\n",
      "LOS 1998-01-23 06:18:09.507 (-1:05:50.677813) 4.813 mm / s\n",
      "AOS 1998-01-23 09:50:13.556 (+2:26:13.371239) 8.187 mm / s\n",
      "Total gap: 3:32:04.049053\n",
      "\n",
      "PRL (13.46 mm / s): error -2.258e-06 mm / s =-0.0000%\n",
      "LOS 1998-01-23 06:17:12.113 (-1:06:48.071117) 5.271 mm / s\n",
      "AOS 1998-01-23 09:51:16.391 (+2:27:16.206543) 8.189 mm / s\n",
      "Total gap: 3:34:04.277662\n",
      "\n"
     ]
    }
   ],
   "source": [
    "find(geocentric_nostation)"
   ]
  }
 ],
 "metadata": {
  "kernelspec": {
   "display_name": "Python 3 (ipykernel)",
   "language": "python",
   "name": "python3"
  },
  "language_info": {
   "codemirror_mode": {
    "name": "ipython",
    "version": 3
   },
   "file_extension": ".py",
   "mimetype": "text/x-python",
   "name": "python",
   "nbconvert_exporter": "python",
   "pygments_lexer": "ipython3",
   "version": "3.10.6"
  }
 },
 "nbformat": 4,
 "nbformat_minor": 5
}
