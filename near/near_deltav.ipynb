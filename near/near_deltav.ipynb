{
 "cells": [
  {
   "cell_type": "markdown",
   "id": "21e82956",
   "metadata": {},
   "source": [
    "# Test of ground station acceleration contribution in NEAR's ΔV\n"
   ]
  },
  {
   "cell_type": "code",
   "execution_count": 1,
   "id": "5dfef077",
   "metadata": {},
   "outputs": [],
   "source": [
    "from astropy import units as u\n",
    "from astropy import constants as const\n",
    "from astropy import visualization\n",
    "from astropy.coordinates import solar_system_ephemeris\n",
    "\n",
    "from poliastro.util import norm\n",
    "from poliastro.twobody.sampling import EpochsArray\n",
    "from poliastro.frames import Planes\n",
    "from poliastro.ephem import Ephem\n",
    "from poliastro.bodies import Earth\n",
    "\n",
    "import numpy as np\n",
    "import sys\n",
    "sys.path.append('../')\n",
    "\n",
    "import matplotlib.pyplot as plt\n",
    "import matplotlib.dates as mdates\n",
    "\n",
    "from sim.stations import dss25, dss34\n",
    "from sim.tracking import Tracking\n",
    "from sim.util import orbit_from_horizons, make_epochs\n",
    "from sim.util import describe_orbit, describe_trajectory, plot_residual, plot_swings\n",
    "from sim.fitorbit import OrbitFitter\n",
    "\n",
    "def pc(est_value, ref_value):\n",
    "    return (est_value/ref_value - 1)*100"
   ]
  },
  {
   "cell_type": "code",
   "execution_count": 2,
   "id": "7003a39c",
   "metadata": {},
   "outputs": [],
   "source": [
    "solar_system_ephemeris.set(\"de440\")\n",
    "goldstone_end = Tracking.NEAR_GOLDSTONE_END.value\n",
    "canberra_start = Tracking.NEAR_CANBERRA_START.value\n",
    "ref_dv = 13.46*u.mm/u.s # From Anderson et al, PRL 2008\n",
    "lag_dv = 13.64*u.mm/u.s # Using lags computed from Horizons range, range rate data in NAECON 2019."
   ]
  },
  {
   "cell_type": "markdown",
   "id": "e4901b36",
   "metadata": {},
   "source": [
    "For reference, Horizons range, range rate data yield\n",
    "- 3.0243 mm/s at 06:14 UTC and 2.6660 mm/s at 06:15 UTC for LOS, and\n",
    "- 10.9062 mm/s at 09:53 UTC and 10.9356 mm/s at 09:54 UTC for AOS.\n",
    "\n",
    "Antreasian & Guinn 1998 state LOS 1h 8m before perigee and AOS 2h 31m after perigee, and perigee at 07:23:55.6 UTC.\n",
    "Interpolating to 06:13:55.6 UTC for LOS and 09:53:55.6 UTC for AOS led to 2.51 mm/s and 11.13 mm/s, respectively, as described in the NAECON 2019 paper.\n"
   ]
  },
  {
   "cell_type": "code",
   "execution_count": 3,
   "id": "edc8bb30",
   "metadata": {},
   "outputs": [
    {
     "name": "stdout",
     "output_type": "stream",
     "text": [
      "13.64 mm / s 1.33%\n"
     ]
    }
   ],
   "source": [
    "e_lag = pc(lag_dv, ref_dv)\n",
    "print(lag_dv, f'{e_lag:.4s}%')"
   ]
  },
  {
   "cell_type": "markdown",
   "id": "38cc48fb",
   "metadata": {},
   "source": [
    "Obtain trajectory segments from Horizons.\n"
   ]
  },
  {
   "cell_type": "code",
   "execution_count": 4,
   "id": "d90ccdaa",
   "metadata": {},
   "outputs": [],
   "source": [
    "los_epochs = make_epochs(goldstone_end - 10*u.s, goldstone_end + 10*u.s, 0.5*u.s)\n",
    "los_ephem = Ephem.from_horizons(\"NEAR\", los_epochs, attractor=Earth, plane=Planes.EARTH_EQUATOR)\n",
    "\n",
    "aos_epochs = make_epochs(canberra_start - 10*u.s, canberra_start + 10*u.s, 0.5*u.s)\n",
    "aos_ephem = Ephem.from_horizons(\"NEAR\", aos_epochs, attractor=Earth, plane=Planes.EARTH_EQUATOR)"
   ]
  },
  {
   "cell_type": "code",
   "execution_count": 5,
   "id": "0d579aa6",
   "metadata": {},
   "outputs": [
    {
     "name": "stdout",
     "output_type": "stream",
     "text": [
      "1998-01-23 06:14:55.600 -0.027674608484257394 m / s2 -0.031709906465295035 m / s2\n",
      "1998-01-23 09:53:55.600 -0.04551624354378624 m / s2 0.01193769052510163 m / s2\n"
     ]
    }
   ],
   "source": [
    "# Compute range, range rate, radial acceleration and station part of acceleration\n",
    "\n",
    "los_r, los_rr, los_ra, los_rs = dss25.range_rate_accel(los_ephem, goldstone_end)\n",
    "aos_r, aos_rr, aos_ra, aos_rs = dss34.range_rate_accel(aos_ephem, canberra_start)\n",
    "\n",
    "print(goldstone_end, los_ra << (u.m/(u.s*u.s)), los_rs << (u.m/(u.s*u.s)))\n",
    "print(canberra_start, aos_ra << (u.m/(u.s*u.s)), aos_rs << (u.m/(u.s*u.s)))"
   ]
  },
  {
   "cell_type": "code",
   "execution_count": 6,
   "id": "12c6d056",
   "metadata": {},
   "outputs": [
    {
     "name": "stdout",
     "output_type": "stream",
     "text": [
      "2.91487741535309 mm / s 11.10567724843294 mm / s 14.02055466378603 mm / s 4.16%\n"
     ]
    }
   ],
   "source": [
    "# Compute LOS, AOS ΔV from total radial acceleration and range \n",
    "\n",
    "los_dv = -los_ra*los_r/const.c << u.mm/u.s\n",
    "aos_dv = -aos_ra*aos_r/const.c << u.mm/u.s\n",
    "dv = los_dv + aos_dv\n",
    "e_dv = pc(dv, ref_dv)\n",
    "print(los_dv, aos_dv, dv, f'{e_dv:.4s}%')"
   ]
  },
  {
   "cell_type": "code",
   "execution_count": 7,
   "id": "721876ac",
   "metadata": {},
   "outputs": [
    {
     "name": "stdout",
     "output_type": "stream",
     "text": [
      "6.254779775714437 mm / s 8.192955816667212 mm / s 14.447735592381648 mm / s 7.33%\n"
     ]
    }
   ],
   "source": [
    "# Recompute LOS, AOS ΔV excluding the station part\n",
    "# The station part must be added, because the total acceleration is spacecraft's minus station's.\n",
    "\n",
    "los_dvx = -(los_ra + los_rs)*los_r/const.c << u.mm/u.s\n",
    "aos_dvx = -(aos_ra + aos_rs)*aos_r/const.c << u.mm/u.s\n",
    "dvx = los_dvx + aos_dvx\n",
    "e_dvx = pc(dvx, ref_dv)\n",
    "print(los_dvx, aos_dvx, dvx, f'{e_dvx:.4s}%')"
   ]
  }
 ],
 "metadata": {
  "kernelspec": {
   "display_name": "Python 3 (ipykernel)",
   "language": "python",
   "name": "python3"
  },
  "language_info": {
   "codemirror_mode": {
    "name": "ipython",
    "version": 3
   },
   "file_extension": ".py",
   "mimetype": "text/x-python",
   "name": "python",
   "nbconvert_exporter": "python",
   "pygments_lexer": "ipython3",
   "version": "3.10.6"
  }
 },
 "nbformat": 4,
 "nbformat_minor": 5
}
