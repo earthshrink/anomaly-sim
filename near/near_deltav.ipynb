{
 "cells": [
  {
   "cell_type": "markdown",
   "id": "9e1fb519",
   "metadata": {},
   "source": [
    "# Test of ground station acceleration contribution in NEAR's ΔV\n"
   ]
  },
  {
   "cell_type": "code",
   "execution_count": 1,
   "id": "0ab41054",
   "metadata": {},
   "outputs": [],
   "source": [
    "from astropy import units as u\n",
    "from astropy import constants as const\n",
    "from astropy import visualization\n",
    "from astropy.coordinates import solar_system_ephemeris\n",
    "    \n",
    "from poliastro.util import norm\n",
    "from poliastro.twobody.sampling import EpochsArray\n",
    "from poliastro.frames import Planes\n",
    "from poliastro.ephem import Ephem\n",
    "from poliastro.bodies import Earth\n",
    "    \n",
    "import numpy as np\n",
    "import sys\n",
    "sys.path.append('../')\n",
    "    \n",
    "import matplotlib.pyplot as plt\n",
    "import matplotlib.dates as mdates\n",
    "    \n",
    "from sim.stations import dss25, dss34\n",
    "from sim.tracking import Tracking\n",
    "from sim.util import orbit_from_horizons, make_epochs\n",
    "from sim.util import describe_orbit, describe_trajectory, plot_residual, plot_swings\n",
    "from sim.fitorbit import OrbitFitter\n",
    "    \n",
    "def pc(est_value, ref_value):\n",
    "    return (est_value/ref_value - 1)*100"
   ]
  },
  {
   "cell_type": "code",
   "execution_count": 2,
   "id": "66d49fd3",
   "metadata": {},
   "outputs": [],
   "source": [
    "solar_system_ephemeris.set(\"de440\")\n",
    "goldstone_end = Tracking.NEAR_GOLDSTONE_END.value\n",
    "canberra_start = Tracking.NEAR_CANBERRA_START.value\n",
    "ref_dv = 13.46*u.mm/u.s # From Anderson et al, PRL 2008\n",
    "lag_dv = 13.64*u.mm/u.s # Using lags computed from Horizons range, range rate data in NAECON 2019."
   ]
  },
  {
   "cell_type": "markdown",
   "id": "ba3c5ae2",
   "metadata": {},
   "source": [
    "For reference, Horizons range, range rate data yield\n",
    "- 3.0243 mm/s at 06:14 UTC and 2.6660 mm/s at 06:15 UTC for LOS, and\n",
    "- 10.9062 mm/s at 09:53 UTC and 10.9356 mm/s at 09:54 UTC for AOS.\n",
    "    \n",
    "Antreasian & Guinn 1998 state LOS 1h 8m before perigee and AOS 2h 31m after perigee, and perigee at 07:23:55.6 UTC.\n",
    "Interpolating to 06:13:55.6 UTC for LOS and 09:53:55.6 UTC for AOS led to 2.51 mm/s and 11.13 mm/s, respectively, as described in the NAECON 2019 paper.\n"
   ]
  },
  {
   "cell_type": "code",
   "execution_count": 3,
   "id": "555381eb",
   "metadata": {},
   "outputs": [
    {
     "name": "stdout",
     "output_type": "stream",
     "text": [
      "13.64 mm / s 1.33%\n"
     ]
    }
   ],
   "source": [
    "e_lag = pc(lag_dv, ref_dv)\n",
    "print(lag_dv, f'{e_lag:.4s}%')"
   ]
  },
  {
   "cell_type": "markdown",
   "id": "25ca92a1",
   "metadata": {},
   "source": [
    "Obtain trajectory segments from Horizons.\n"
   ]
  },
  {
   "cell_type": "code",
   "execution_count": 4,
   "id": "fd01b82e",
   "metadata": {},
   "outputs": [],
   "source": [
    "los_epochs = make_epochs(goldstone_end - 10*u.s, goldstone_end + 10*u.s, 1*u.s)\n",
    "los_ephem = Ephem.from_horizons(\"NEAR\", los_epochs, attractor=Earth, plane=Planes.EARTH_EQUATOR)\n",
    "\n",
    "aos_epochs = make_epochs(canberra_start - 10*u.s, canberra_start + 10*u.s, 1*u.s)\n",
    "aos_ephem = Ephem.from_horizons(\"NEAR\", aos_epochs, attractor=Earth, plane=Planes.EARTH_EQUATOR)"
   ]
  },
  {
   "cell_type": "markdown",
   "id": "c2feb2e1",
   "metadata": {},
   "source": [
    "Now to estimate the lags and possible station contribution using `poliastro`.\n"
   ]
  },
  {
   "cell_type": "code",
   "execution_count": 5,
   "id": "b19bc85e",
   "metadata": {},
   "outputs": [
    {
     "name": "stdout",
     "output_type": "stream",
     "text": [
      "\n",
      "::ORBIT::\n",
      "Plane: Planes.EARTH_EQUATOR\n",
      "Inclination: 107.97266085111494 deg\n",
      "Eccentricity: 1.8133576903086635\n",
      "Semilatus rectum: 19437.265231523274 km\n",
      "Semimajor axix: -8494.320272053923 km\n",
      "Periapse radius: 6908.920717219837 km , altitude: 530.7841172198368 km\n",
      "\n",
      "::ORBIT::\n",
      "Plane: Planes.EARTH_EQUATOR\n",
      "Inclination: 107.97095729555133 deg\n",
      "Eccentricity: 1.813462291087036\n",
      "Semilatus rectum: 19440.664380313254 km\n",
      "Semimajor axix: -8494.397467870602 km\n",
      "Periapse radius: 6909.872025617937 km , altitude: 531.7354256179369 km\n"
     ]
    }
   ],
   "source": [
    "# Construct orbital elements from Horizons LOS, AOS position, velocity vectors\n",
    "    \n",
    "near_goldstone_orbit = orbit_from_horizons(\"NEAR\", goldstone_end - 1*u.min)\n",
    "describe_orbit(near_goldstone_orbit)\n",
    "    \n",
    "near_canberra_orbit = orbit_from_horizons(\"NEAR\", canberra_start - 1*u.min)\n",
    "describe_orbit(near_canberra_orbit)"
   ]
  },
  {
   "cell_type": "code",
   "execution_count": 6,
   "id": "787f9524",
   "metadata": {},
   "outputs": [],
   "source": [
    "# Compute trajectory segments around LOS and AOS\n",
    "    \n",
    "goldstone_end_epochs = make_epochs(goldstone_end - 1*u.min, goldstone_end + 2*u.min, 1*u.s)\n",
    "near_goldstone_ephem = near_goldstone_orbit.to_ephem(EpochsArray(goldstone_end_epochs))\n",
    "    \n",
    "canberra_start_epochs = make_epochs(canberra_start - 1*u.min, canberra_start + 2*u.min, 1*u.s)\n",
    "near_canberra_ephem = near_canberra_orbit.to_ephem(EpochsArray(canberra_start_epochs))"
   ]
  },
  {
   "cell_type": "code",
   "execution_count": 7,
   "id": "7467d206",
   "metadata": {},
   "outputs": [
    {
     "name": "stdout",
     "output_type": "stream",
     "text": [
      "1998-01-23 06:14:55.600 -0.027680864196355515 m / s2 -0.03170995201097071 m / s2\n",
      "1998-01-23 09:53:55.600 -0.045513764526106115 m / s2 0.011937708504561328 m / s2\n"
     ]
    }
   ],
   "source": [
    "# Compute range, range rate, radial acceleration and station part of acceleration\n",
    "    \n",
    "los_r, los_rr, los_ra, los_rs = dss25.range_rate_accel(near_goldstone_ephem, goldstone_end)\n",
    "aos_r, aos_rr, aos_ra, aos_rs = dss34.range_rate_accel(near_canberra_ephem, canberra_start)\n",
    "    \n",
    "print(goldstone_end, los_ra << (u.m/(u.s*u.s)), los_rs << (u.m/(u.s*u.s)))\n",
    "print(canberra_start, aos_ra << (u.m/(u.s*u.s)), aos_rs << (u.m/(u.s*u.s)))"
   ]
  },
  {
   "cell_type": "code",
   "execution_count": 8,
   "id": "30ff1ef5",
   "metadata": {},
   "outputs": [
    {
     "name": "stdout",
     "output_type": "stream",
     "text": [
      "2.915536334906413 mm / s 11.105072433564033 mm / s 14.020608768470446 mm / s 4.16%\n"
     ]
    }
   ],
   "source": [
    "# Compute LOS, AOS ΔV from total radial acceleration and range \n",
    "    \n",
    "los_dv = -los_ra*los_r/const.c << u.mm/u.s\n",
    "aos_dv = -aos_ra*aos_r/const.c << u.mm/u.s\n",
    "dv = los_dv + aos_dv\n",
    "e_dv = pc(dv, ref_dv)\n",
    "print(los_dv, aos_dv, dv, f'{e_dv:.4s}%')"
   ]
  },
  {
   "cell_type": "code",
   "execution_count": 9,
   "id": "187b7f32",
   "metadata": {},
   "outputs": [
    {
     "name": "stdout",
     "output_type": "stream",
     "text": [
      "6.255443521702121 mm / s 8.192346601845873 mm / s 14.447790123547994 mm / s 7.33%\n"
     ]
    }
   ],
   "source": [
    "# Recompute LOS, AOS ΔV excluding the station part\n",
    "# The station part must be added, because the total acceleration is spacecraft's minus station's.\n",
    "    \n",
    "los_dvx = -(los_ra + los_rs)*los_r/const.c << u.mm/u.s\n",
    "aos_dvx = -(aos_ra + aos_rs)*aos_r/const.c << u.mm/u.s\n",
    "dvx = los_dvx + aos_dvx\n",
    "e_dvx = pc(dvx, ref_dv)\n",
    "print(los_dvx, aos_dvx, dvx, f'{e_dvx:.4s}%')"
   ]
  }
 ],
 "metadata": {
  "kernelspec": {
   "display_name": "Python 3 (ipykernel)",
   "language": "python",
   "name": "python3"
  },
  "language_info": {
   "codemirror_mode": {
    "name": "ipython",
    "version": 3
   },
   "file_extension": ".py",
   "mimetype": "text/x-python",
   "name": "python",
   "nbconvert_exporter": "python",
   "pygments_lexer": "ipython3",
   "version": "3.10.6"
  }
 },
 "nbformat": 4,
 "nbformat_minor": 5
}
