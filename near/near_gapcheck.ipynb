{
 "cells": [
  {
   "cell_type": "markdown",
   "id": "2b942cb6",
   "metadata": {},
   "source": [
    "# Limitation of basic orbit propagation for investigating low flybys\n",
    "\n",
    "The official trajectories in the Horizons repository are derived from actual two-way Doppler tracking data and include the effects of Earth's precession, variations in Earth's gravity, solar and lunar gravitational influences, solar wind effects, relativistic effects, etc. The time and effort needed to account for all such effects well enough to cross-check JPL and ESA OD would be hard ot justify merely for investigating the anomaly.\n",
    "\n",
    "Code below tests orbit propagation across the 2 hour 39 minute gap in the two-way Doppler tracking of NEAR's flyby. The difference of 3.5 m/s in range rate far exceeds NEAR's anomalous $\\Delta v$ of 13.46 mm/s. Only those properties of the anomaly can be tested that concern at most the single attractor dynamics and signal propagation."
   ]
  },
  {
   "cell_type": "code",
   "execution_count": 1,
   "id": "f504aff6",
   "metadata": {},
   "outputs": [],
   "source": [
    "from astropy import units as u\n",
    "from astropy.time import Time\n",
    "from poliastro.util import norm\n",
    "from poliastro.frames import Planes\n",
    "from poliastro.ephem import Ephem\n",
    "from poliastro.bodies import Earth\n",
    "\n",
    "from poliastro.twobody.orbit import Orbit\n",
    "from poliastro.twobody.sampling import EpochsArray\n",
    "\n",
    "from astropy.coordinates import solar_system_ephemeris\n",
    "\n",
    "import numpy as np\n",
    "import sys\n",
    "sys.path.append('../')\n",
    "\n",
    "from sim.stations import dss25, dss34\n",
    "from sim.tracking import Tracking\n",
    "from sim.util import describe_orbit, describe_state, describe_trajectory, compare_orbits\n",
    "\n",
    "solar_system_ephemeris.set(\"de440\")\n",
    "goldstone_end = Tracking.NEAR_GOLDSTONE_END.value\n",
    "canberra_start = Tracking.NEAR_CANBERRA_START.value"
   ]
  },
  {
   "cell_type": "code",
   "execution_count": 2,
   "id": "2a6847a9",
   "metadata": {
    "scrolled": true
   },
   "outputs": [
    {
     "name": "stdout",
     "output_type": "stream",
     "text": [
      "\n",
      ":AT: 1998-01-23 06:14:55.600\n",
      "Geocentric distance: 37471.700215992445 km speed: 8.258344936971223 km / s\n",
      "From Goldstone-25 : range  31576.174442159892 km , range rate  -7.684513660227914 km / s\n",
      "\n",
      "::ORBIT::\n",
      "Plane: Planes.EARTH_EQUATOR\n",
      "Inclination: 107.97266698121356 deg\n",
      "Eccentricity: 1.813357091534396\n",
      "Semilatus rectum: 19437.250829758486 km\n",
      "Semimajor axix: -8494.322039490264 km\n",
      "Periapse radius: 6908.917068596319 km , altitude: 530.7804685963192 km\n"
     ]
    }
   ],
   "source": [
    "near_goldstone_ephem = Ephem.from_horizons(\"NEAR\", goldstone_end, attractor=Earth, plane=Planes.EARTH_EQUATOR)\n",
    "near_goldstone_end_rv = near_goldstone_ephem.rv(goldstone_end)\n",
    "describe_state(near_goldstone_end_rv, dss25, goldstone_end)\n",
    "\n",
    "near_goldstone_orbit = Orbit.from_vectors(Earth, near_goldstone_end_rv[0], near_goldstone_end_rv[1], goldstone_end)\n",
    "describe_orbit(near_goldstone_orbit)"
   ]
  },
  {
   "cell_type": "code",
   "execution_count": 3,
   "id": "56df9410",
   "metadata": {},
   "outputs": [
    {
     "name": "stdout",
     "output_type": "stream",
     "text": [
      "\n",
      ":AT: 1998-01-23 09:53:55.600\n",
      "Geocentric distance: 74714.76607137504 km speed: 7.589138197919106 km / s\n",
      "From Canberra-34 : range  73147.47485388452 km , range rate  7.32170013250344 km / s\n",
      "\n",
      "::ORBIT::\n",
      "Plane: Planes.EARTH_EQUATOR\n",
      "Inclination: 107.97095856088998 deg\n",
      "Eccentricity: 1.8134615874116717\n",
      "Semilatus rectum: 19440.644557497064 km\n",
      "Semimajor axix: -8494.398279001718 km\n",
      "Periapse radius: 6909.86670814371 km , altitude: 531.7301081437099 km\n"
     ]
    }
   ],
   "source": [
    "near_canberra_ephem = Ephem.from_horizons(\"NEAR\", canberra_start, attractor=Earth, plane=Planes.EARTH_EQUATOR)\n",
    "near_canberra_start_rv = near_canberra_ephem.rv(canberra_start)\n",
    "describe_state(near_canberra_start_rv, dss34, canberra_start)\n",
    "\n",
    "near_canberra_orbit = Orbit.from_vectors(Earth, near_canberra_start_rv[0], near_canberra_start_rv[1], canberra_start)\n",
    "describe_orbit(near_canberra_orbit)"
   ]
  },
  {
   "cell_type": "code",
   "execution_count": 4,
   "id": "68833c42",
   "metadata": {},
   "outputs": [
    {
     "name": "stdout",
     "output_type": "stream",
     "text": [
      "\n",
      "Δ Inclination: -0.0017084203235683691 deg\n",
      "Δ Eccentricity: 0.0001044958772757898\n",
      "Δ Semilatus rectum: 3.3937277385775815 km\n",
      "Δ Semimajor axix: -0.07623951145433239 km\n",
      "Δ Periapse radius: 0.9496395473906887 km\n",
      "Δ Energy: -0.000210584568196948 km2 / s2\n"
     ]
    }
   ],
   "source": [
    "compare_orbits(near_goldstone_orbit, near_canberra_orbit)"
   ]
  },
  {
   "cell_type": "code",
   "execution_count": 5,
   "id": "ee0d51df",
   "metadata": {},
   "outputs": [
    {
     "name": "stdout",
     "output_type": "stream",
     "text": [
      "Start and end epochs: 1998-01-23 06:14:55.600 1998-01-23 09:53:55.600 [ 74 ]\n"
     ]
    }
   ],
   "source": [
    "sampling_interval = 180\n",
    "sample_offsets = np.arange(0, (canberra_start-goldstone_end)/(1*u.s), sampling_interval)\n",
    "flyby_epochs = goldstone_end + (sample_offsets << u.s)\n",
    "print(\"Start and end epochs:\", goldstone_end, flyby_epochs[-1], \"[\", flyby_epochs.size, \"]\")"
   ]
  },
  {
   "cell_type": "code",
   "execution_count": 6,
   "id": "348de4a6",
   "metadata": {},
   "outputs": [
    {
     "name": "stdout",
     "output_type": "stream",
     "text": [
      "\n",
      "::TRAJECTORY::\n",
      "Start and end ranges: 37309.07130107391 km 73145.82143191747 km\n",
      "Start and end radial speeds: -7.97119272554438 km / s 7.3216176182785535 km / s\n",
      "Closest: 11326.436162795784 km speed 12.740147538216107 km / s  at  1998-01-23 07:23:55.600\n",
      "Deflection: 64.92614895100142 deg\n"
     ]
    }
   ],
   "source": [
    "near_goldstone_extended_ephem = near_goldstone_orbit.to_ephem(EpochsArray(flyby_epochs))\n",
    "describe_trajectory(near_goldstone_extended_ephem, dss34)"
   ]
  },
  {
   "cell_type": "code",
   "execution_count": 7,
   "id": "8a743ca7",
   "metadata": {},
   "outputs": [
    {
     "name": "stdout",
     "output_type": "stream",
     "text": [
      "\n",
      ":AT: 1998-01-23 09:53:55.600\n",
      "Geocentric distance: 74715.16140743632 km speed: 7.5891622264313146 km / s\n",
      "From Canberra-34 : range  73145.82143191747 km , range rate  7.3216176182785535 km / s\n"
     ]
    }
   ],
   "source": [
    "goldstone_predicted_canberra_rv = near_goldstone_extended_ephem.rv(canberra_start)\n",
    "describe_state(goldstone_predicted_canberra_rv, dss34, canberra_start)"
   ]
  },
  {
   "cell_type": "code",
   "execution_count": 8,
   "id": "9641a63b",
   "metadata": {},
   "outputs": [
    {
     "name": "stdout",
     "output_type": "stream",
     "text": [
      "35.71831820614084 km 3.4529739544187095 m / s\n"
     ]
    }
   ],
   "source": [
    "print(norm(goldstone_predicted_canberra_rv[0]-near_canberra_start_rv[0]) << u.km, norm(goldstone_predicted_canberra_rv[1]-near_canberra_start_rv[1]) << (u.m/u.s))"
   ]
  }
 ],
 "metadata": {
  "kernelspec": {
   "display_name": "Python 3 (ipykernel)",
   "language": "python",
   "name": "python3"
  },
  "language_info": {
   "codemirror_mode": {
    "name": "ipython",
    "version": 3
   },
   "file_extension": ".py",
   "mimetype": "text/x-python",
   "name": "python",
   "nbconvert_exporter": "python",
   "pygments_lexer": "ipython3",
   "version": "3.10.6"
  }
 },
 "nbformat": 4,
 "nbformat_minor": 5
}
