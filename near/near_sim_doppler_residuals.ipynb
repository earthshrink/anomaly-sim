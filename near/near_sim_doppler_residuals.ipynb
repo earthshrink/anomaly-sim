{
 "cells": [
  {
   "cell_type": "code",
   "execution_count": 1,
   "id": "f504aff6",
   "metadata": {},
   "outputs": [],
   "source": [
    "from astropy import units as u\n",
    "from astropy import constants as const\n",
    "from astropy.time import Time\n",
    "\n",
    "from poliastro.util import norm\n",
    "from poliastro.frames import Planes\n",
    "from poliastro.ephem import Ephem\n",
    "from poliastro.bodies import Earth\n",
    "\n",
    "from poliastro.twobody.orbit import Orbit\n",
    "from poliastro.twobody.sampling import EpochsArray\n",
    "\n",
    "from astropy.coordinates import solar_system_ephemeris\n",
    "\n",
    "import numpy as np\n",
    "import sys\n",
    "sys.path.append('../')\n",
    "\n",
    "from sim.stations import dss25, dss34\n",
    "from sim.tracking import Tracking\n",
    "from sim.util import describe_orbit, describe_state, describe_trajectory\n",
    "\n",
    "solar_system_ephemeris.set(\"de440\")\n",
    "goldstone_end = Tracking.NEAR_GOLDSTONE_END.value\n",
    "canberra_start = Tracking.NEAR_CANBERRA_START.value"
   ]
  },
  {
   "cell_type": "code",
   "execution_count": 2,
   "id": "ee0d51df",
   "metadata": {},
   "outputs": [
    {
     "name": "stdout",
     "output_type": "stream",
     "text": [
      "Start and end epochs: 1998-01-23 06:14:55.600 1998-01-23 09:53:55.600 [ 74 ]\n"
     ]
    }
   ],
   "source": [
    "sampling_interval = 180\n",
    "sample_offsets = np.arange(0, (canberra_start-goldstone_end)/(1*u.s), sampling_interval)\n",
    "flyby_epochs = goldstone_end + (sample_offsets << u.s)\n",
    "print(\"Start and end epochs:\", goldstone_end, flyby_epochs[-1], \"[\", flyby_epochs.size, \"]\")"
   ]
  },
  {
   "cell_type": "code",
   "execution_count": 3,
   "id": "2a6847a9",
   "metadata": {
    "scrolled": true
   },
   "outputs": [
    {
     "name": "stdout",
     "output_type": "stream",
     "text": [
      "\n",
      ":AT: 1998-01-23 06:14:55.600\n",
      "Geocentric distance: 37471.700215992445 km speed: 8.258344936971223 km / s\n",
      "From Goldstone-25 : range  31576.174442159892 km , range rate  -7.684513660227914 km / s\n",
      "\n",
      "::ORBIT::\n",
      "Plane: Planes.EARTH_EQUATOR\n",
      "Inclination: 107.97266698121356 deg\n",
      "Eccentricity: 1.813357091534396\n",
      "Semilatus rectum: 19437.250829758486 km\n",
      "Semimajor axix: -8494.322039490264 km\n",
      "Periapse radius: 6908.917068596319 km , altitude: 530.7804685963192 km\n"
     ]
    }
   ],
   "source": [
    "near_goldstone_end_rv = Ephem.from_horizons(\"NEAR\", goldstone_end, attractor=Earth, plane=Planes.EARTH_EQUATOR).rv(goldstone_end)\n",
    "describe_state(near_goldstone_end_rv, dss25, goldstone_end)\n",
    "\n",
    "near_goldstone_orbit = Orbit.from_vectors(Earth, near_goldstone_end_rv[0], near_goldstone_end_rv[1], goldstone_end)\n",
    "describe_orbit(near_goldstone_orbit)"
   ]
  },
  {
   "cell_type": "code",
   "execution_count": 4,
   "id": "348de4a6",
   "metadata": {},
   "outputs": [
    {
     "name": "stdout",
     "output_type": "stream",
     "text": [
      "\n",
      "::TRAJECTORY::\n",
      "Start and end ranges: 37309.07130107391 km 73145.82143191747 km\n",
      "Start and end radial speeds: -7.97119272554438 km / s 7.3216176182785535 km / s\n",
      "Closest: 11326.436162795784 km speed 12.740147538216107 km / s  at  1998-01-23 07:23:55.600\n",
      "Deflection: 64.92614895100142 deg\n"
     ]
    }
   ],
   "source": [
    "near_goldstone_ephem = near_goldstone_orbit.to_ephem(EpochsArray(flyby_epochs))\n",
    "describe_trajectory(near_goldstone_ephem, dss34)"
   ]
  },
  {
   "cell_type": "code",
   "execution_count": 5,
   "id": "800bb5b3",
   "metadata": {},
   "outputs": [
    {
     "name": "stdout",
     "output_type": "stream",
     "text": [
      "[<Quantity -7.68451366 km / s>, <Quantity -7.68859907 km / s>, <Quantity -7.6904411 km / s>, <Quantity -7.68921684 km / s>, <Quantity -7.68382247 km / s>, <Quantity -7.67276512 km / s>, <Quantity -7.65400721 km / s>, <Quantity -7.6247393 km / s>, <Quantity -7.58104499 km / s>, <Quantity -7.51740151 km / s>, <Quantity -7.4259295 km / s>, <Quantity -7.29526419 km / s>, <Quantity -7.1088708 km / s>, <Quantity -6.84260482 km / s>, <Quantity -6.46143802 km / s>, <Quantity -5.91587967 km / s>, <Quantity -5.14051095 km / s>, <Quantity -4.06131765 km / s>, <Quantity -2.62385755 km / s>, <Quantity -0.84897196 km / s>, <Quantity 1.11354362 km / s>, <Quantity 3.00243583 km / s>, <Quantity 4.55222568 km / s>, <Quantity 5.61905466 km / s>, <Quantity 6.2490598 km / s>, <Quantity 6.60996749 km / s>, <Quantity 6.84455502 km / s>, <Quantity 7.02001572 km / s>, <Quantity 7.15918724 km / s>, <Quantity 7.27008394 km / s>, <Quantity 7.35729432 km / s>, <Quantity 7.42473613 km / s>, <Quantity 7.47597901 km / s>, <Quantity 7.51415527 km / s>, <Quantity 7.54190437 km / s>, <Quantity 7.56138897 km / s>, <Quantity 7.57435073 km / s>, <Quantity 7.58217847 km / s>, <Quantity 7.58597404 km / s>, <Quantity 7.58660991 km / s>, <Quantity 7.58477685 km / s>, <Quantity 7.5810223 km / s>, <Quantity 7.57578089 km / s>, <Quantity 7.56939833 km / s>, <Quantity 7.56215014 km / s>, <Quantity 7.55425634 km / s>, <Quantity 7.54589286 km / s>, <Quantity 7.53720055 km / s>, <Quantity 7.52829224 km / s>, <Quantity 7.51925834 km / s>, <Quantity 7.51017118 km / s>, <Quantity 7.50108859 km / s>, <Quantity 7.49205662 km / s>, <Quantity 7.48311183 km / s>, <Quantity 7.47428304 km / s>, <Quantity 7.4655928 km / s>, <Quantity 7.45705852 km / s>, <Quantity 7.44869348 km / s>, <Quantity 7.44050752 km / s>, <Quantity 7.43250773 km / s>, <Quantity 7.42469891 km / s>, <Quantity 7.41708404 km / s>, <Quantity 7.40966459 km / s>, <Quantity 7.4024408 km / s>, <Quantity 7.39541195 km / s>, <Quantity 7.38857648 km / s>, <Quantity 7.38193225 km / s>, <Quantity 7.37547658 km / s>, <Quantity 7.3692064 km / s>, <Quantity 7.36311834 km / s>, <Quantity 7.3572088 km / s>, <Quantity 7.35147399 km / s>, <Quantity 7.34591002 km / s>, <Quantity 7.3405129 km / s>]\n",
      "[<Quantity -7.68447155 km / s>, <Quantity -7.68855504 km / s>, <Quantity -7.69039495 km / s>, <Quantity -7.68916836 km / s>, <Quantity -7.68377141 km / s>, <Quantity -7.6727112 km / s>, <Quantity -7.65395009 km / s>, <Quantity -7.62467859 km / s>, <Quantity -7.58098024 km / s>, <Quantity -7.51733217 km / s>, <Quantity -7.42585493 km / s>, <Quantity -7.29518363 km / s>, <Quantity -7.10878337 km / s>, <Quantity -6.84250951 km / s>, <Quantity -6.46133375 km / s>, <Quantity -5.91576538 km / s>, <Quantity -5.14038593 km / s>, <Quantity -4.061182 km / s>, <Quantity -2.62371294 km / s>, <Quantity -0.84882218 km / s>, <Quantity 1.11369301 km / s>, <Quantity 3.00257919 km / s>, <Quantity 4.55235917 km / s>, <Quantity 5.61917683 km / s>, <Quantity 6.249171 km / s>, <Quantity 6.61006885 km / s>, <Quantity 6.84464781 km / s>, <Quantity 7.02010108 km / s>, <Quantity 7.15926613 km / s>, <Quantity 7.27015718 km / s>, <Quantity 7.35736261 km / s>, <Quantity 7.42480005 km / s>, <Quantity 7.47603906 km / s>, <Quantity 7.51421187 km / s>, <Quantity 7.54195788 km / s>, <Quantity 7.56143971 km / s>, <Quantity 7.57439896 km / s>, <Quantity 7.58222442 km / s>, <Quantity 7.58601792 km / s>, <Quantity 7.58665191 km / s>, <Quantity 7.5848171 km / s>, <Quantity 7.58106096 km / s>, <Quantity 7.57581807 km / s>, <Quantity 7.56943414 km / s>, <Quantity 7.56218469 km / s>, <Quantity 7.55428971 km / s>, <Quantity 7.54592513 km / s>, <Quantity 7.53723179 km / s>, <Quantity 7.52832252 km / s>, <Quantity 7.51928771 km / s>, <Quantity 7.5101997 km / s>, <Quantity 7.5011163 km / s>, <Quantity 7.49208358 km / s>, <Quantity 7.48313807 km / s>, <Quantity 7.4743086 km / s>, <Quantity 7.46561771 km / s>, <Quantity 7.45708283 km / s>, <Quantity 7.4487172 km / s>, <Quantity 7.44053069 km / s>, <Quantity 7.43253037 km / s>, <Quantity 7.42472105 km / s>, <Quantity 7.4171057 km / s>, <Quantity 7.40968579 km / s>, <Quantity 7.40246156 km / s>, <Quantity 7.39543228 km / s>, <Quantity 7.38859641 km / s>, <Quantity 7.38195179 km / s>, <Quantity 7.37549574 km / s>, <Quantity 7.36922521 km / s>, <Quantity 7.3631368 km / s>, <Quantity 7.35722692 km / s>, <Quantity 7.35149179 km / s>, <Quantity 7.34592751 km / s>, <Quantity 7.3405301 km / s>]\n"
     ]
    }
   ],
   "source": [
    "ref_data = []\n",
    "meas_data = []\n",
    "for o in sample_offsets:\n",
    "    e = goldstone_end + o*u.s\n",
    "    ref_r, ref_rr, ref_ra = dss25.range_rate_accel(near_goldstone_ephem.rv(e), e)\n",
    "    ref_data.append(ref_rr)\n",
    "    meas_data.append(ref_rr - ref_ra*ref_r/const.c)\n",
    "\n",
    "print(ref_data)\n",
    "print(meas_data)"
   ]
  },
  {
   "cell_type": "code",
   "execution_count": 6,
   "id": "ac04f475",
   "metadata": {},
   "outputs": [],
   "source": [
    "from lmfit import Parameters, minimize, fit_report\n",
    "\n",
    "fit_params = Parameters()\n",
    "fit_params.add('a', min=-8600e3, max=-8200e3, value=near_goldstone_orbit.a.to_value(u.m))\n",
    "fit_params.add('inc', min=0, max=np.pi, value=near_goldstone_orbit.inc.to_value(u.rad))\n",
    "fit_params.add('ecc', min=1.7, max=1.9, value=near_goldstone_orbit.ecc.to_value(u.one))\n",
    "fit_params.add('nu', min=-np.pi, max=np.pi, value=near_goldstone_orbit.nu.to_value(u.rad))\n",
    "fit_params.add('raan', min=0, max=2*np.pi, value=near_goldstone_orbit.raan.to_value(u.rad))\n",
    "fit_params.add('argp', min=0, max=2*np.pi, value=near_goldstone_orbit.argp.to_value(u.rad))\n",
    "\n",
    "def residual(pars, offsets, data):\n",
    "    vals = pars.valuesdict()\n",
    "    print(vals)\n",
    "    orbit = Orbit.from_classical(attractor=Earth,\n",
    "                                 a=vals['a']*u.m,\n",
    "                                 ecc=vals['ecc']*u.one,\n",
    "                                 inc=vals['inc']*u.rad,\n",
    "                                 raan=vals['raan']*u.rad,\n",
    "                                 argp=vals['argp']*u.rad,\n",
    "                                 nu=vals['nu']*u.rad,\n",
    "                                 epoch=goldstone_end,\n",
    "                                 plane=Planes.EARTH_EQUATOR)\n",
    "    ephem = orbit.to_ephem(EpochsArray(flyby_epochs))\n",
    "    rres = []\n",
    "    for i, v in enumerate(offsets):\n",
    "        e = goldstone_end + v*u.s\n",
    "        meas_rr = data[i]\n",
    "        model_r, model_rr = dss25.range_and_rate(ephem.rv(e), e)\n",
    "        rres.append((model_rr - meas_rr).to_value(u.m/u.s))\n",
    "    return rres"
   ]
  },
  {
   "cell_type": "code",
   "execution_count": 7,
   "id": "420cd98b",
   "metadata": {},
   "outputs": [
    {
     "name": "stdout",
     "output_type": "stream",
     "text": [
      "{'a': -8494322.039490264, 'inc': 1.884478540981543, 'ecc': 1.813357091534396, 'nu': -1.8394247601999354, 'raan': 1.540059254992049, 'argp': 2.533258385194789}\n",
      "{'a': -8494322.039490264, 'inc': 1.884478540981543, 'ecc': 1.813357091534396, 'nu': -1.8394247601999354, 'raan': 1.540059254992049, 'argp': 2.533258385194789}\n",
      "{'a': -8494322.039490264, 'inc': 1.884478540981543, 'ecc': 1.813357091534396, 'nu': -1.8394247601999354, 'raan': 1.540059254992049, 'argp': 2.533258385194789}\n",
      "{'a': -8494322.038199617, 'inc': 1.884478540981543, 'ecc': 1.813357091534396, 'nu': -1.8394247601999354, 'raan': 1.540059254992049, 'argp': 2.533258385194789}\n",
      "{'a': -8494322.039490264, 'inc': 1.884478545592624, 'ecc': 1.813357091534396, 'nu': -1.8394247601999354, 'raan': 1.540059254992049, 'argp': 2.533258385194789}\n",
      "{'a': -8494322.039490264, 'inc': 1.884478540981543, 'ecc': 1.81335709173224, 'nu': -1.8394247601999354, 'raan': 1.540059254992049, 'argp': 2.533258385194789}\n",
      "{'a': -8494322.039490264, 'inc': 1.884478540981543, 'ecc': 1.813357091534396, 'nu': -1.8394247364619576, 'raan': 1.540059254992049, 'argp': 2.533258385194789}\n",
      "{'a': -8494322.039490264, 'inc': 1.884478540981543, 'ecc': 1.813357091534396, 'nu': -1.8394247601999354, 'raan': 1.540059276535786, 'argp': 2.533258385194789}\n",
      "{'a': -8494322.039490264, 'inc': 1.884478540981543, 'ecc': 1.813357091534396, 'nu': -1.8394247601999354, 'raan': 1.540059254992049, 'argp': 2.5332583941446405}\n",
      "{'a': -8494516.19907439, 'inc': 1.8842205591348833, 'ecc': 1.8133628433738556, 'nu': -1.839412731094931, 'raan': 1.5399745717181392, 'argp': 2.533360546767088}\n",
      "{'a': -8494516.19778161, 'inc': 1.8842205591348833, 'ecc': 1.8133628433738556, 'nu': -1.839412731094931, 'raan': 1.5399745717181392, 'argp': 2.533360546767088}\n",
      "{'a': -8494516.19907439, 'inc': 1.8842205637422773, 'ecc': 1.8133628433738556, 'nu': -1.839412731094931, 'raan': 1.5399745717181392, 'argp': 2.533360546767088}\n",
      "{'a': -8494516.19907439, 'inc': 1.8842205591348833, 'ecc': 1.8133628435717837, 'nu': -1.839412731094931, 'raan': 1.5399745717181392, 'argp': 2.533360546767088}\n",
      "{'a': -8494516.19907439, 'inc': 1.8842205591348833, 'ecc': 1.8133628433738556, 'nu': -1.8394127073570516, 'raan': 1.5399745717181392, 'argp': 2.533360546767088}\n",
      "{'a': -8494516.19907439, 'inc': 1.8842205591348833, 'ecc': 1.8133628433738556, 'nu': -1.839412731094931, 'raan': 1.539974593262738, 'argp': 2.533360546767088}\n",
      "{'a': -8494516.19907439, 'inc': 1.8842205591348833, 'ecc': 1.8133628433738556, 'nu': -1.839412731094931, 'raan': 1.5399745717181392, 'argp': 2.5333605557154755}\n",
      "{'a': -8494516.293050108, 'inc': 1.8842205356576993, 'ecc': 1.8133628397538963, 'nu': -1.8394127317809623, 'raan': 1.5399745564778626, 'argp': 2.5333605646579915}\n",
      "{'a': -8494516.293050108, 'inc': 1.8842205356576993, 'ecc': 1.8133628397538963, 'nu': -1.8394127317809623, 'raan': 1.5399745564778626, 'argp': 2.5333605646579915}\n",
      "[[Fit Statistics]]\n",
      "    # fitting method   = leastsq\n",
      "    # function evals   = 15\n",
      "    # data points      = 74\n",
      "    # variables        = 6\n",
      "    chi-square         = 0.00532427\n",
      "    reduced chi-square = 7.8298e-05\n",
      "    Akaike info crit   = -693.926365\n",
      "    Bayesian info crit = -680.101974\n",
      "[[Variables]]\n",
      "    a:    -8494516.29 +/- 12.0657712 (0.00%) (init = -8494322)\n",
      "    inc:   1.88422054 +/- 1.2555e-05 (0.00%) (init = 1.884479)\n",
      "    ecc:   1.81336284 +/- 2.4727e-06 (0.00%) (init = 1.813357)\n",
      "    nu:   -1.83941273 +/- 1.2963e-06 (0.00%) (init = -1.839425)\n",
      "    raan:  1.53997456 +/- 8.6695e-06 (0.00%) (init = 1.540059)\n",
      "    argp:  2.53336056 +/- 9.1147e-06 (0.00%) (init = 2.533258)\n",
      "[[Correlations]] (unreported correlations are < 0.100)\n",
      "    C(ecc, nu)    = 0.975\n",
      "    C(inc, argp)  = -0.940\n",
      "    C(a, inc)     = 0.895\n",
      "    C(a, argp)    = -0.881\n",
      "    C(raan, argp) = 0.629\n",
      "    C(inc, raan)  = -0.597\n",
      "    C(a, ecc)     = 0.492\n",
      "    C(ecc, argp)  = -0.395\n",
      "    C(a, raan)    = -0.368\n",
      "    C(a, nu)      = 0.316\n",
      "    C(nu, argp)   = -0.282\n",
      "    C(nu, raan)   = 0.265\n",
      "    C(ecc, raan)  = 0.250\n",
      "    C(inc, ecc)   = 0.174\n"
     ]
    }
   ],
   "source": [
    "out = minimize(residual, fit_params, args=(sample_offsets,), kws={'data': meas_data})\n",
    "print(fit_report(out))"
   ]
  },
  {
   "cell_type": "code",
   "execution_count": 8,
   "id": "1c20c4d4",
   "metadata": {
    "scrolled": true
   },
   "outputs": [
    {
     "name": "stdout",
     "output_type": "stream",
     "text": [
      "[ 0.01932164  0.01678764  0.01411104  0.01128445  0.00830283  0.00516543\n",
      "  0.00187897 -0.00153719 -0.00504283 -0.00856379 -0.01197128 -0.0150501\n",
      " -0.01745244 -0.01863885 -0.01782849 -0.01404115 -0.00644881  0.00458535\n",
      "  0.01570959  0.01984141  0.01061572 -0.00849939 -0.02187778 -0.01617198\n",
      "  0.0008794   0.01163836  0.0118712   0.00688697  0.00125878 -0.00316554\n",
      " -0.0060677  -0.00767481 -0.00832241 -0.00830857 -0.00786211 -0.00714805\n",
      " -0.00628163 -0.00534177 -0.00438174 -0.00343691 -0.0025303  -0.00167647\n",
      " -0.00088416 -0.00015817  0.00049939  0.00108818  0.00160906  0.00206363\n",
      "  0.00245396  0.00278237  0.00305131  0.00326326  0.00342068  0.00352594\n",
      "  0.00358135  0.00358906  0.00355116  0.00346957  0.00334614  0.00318258\n",
      "  0.00298051  0.00274143  0.00246676  0.00215782  0.00181586  0.00144205\n",
      "  0.00103748  0.00060319  0.00014014 -0.00035074 -0.0008686  -0.00141261\n",
      " -0.001982   -0.00257604]\n"
     ]
    }
   ],
   "source": [
    "print(out.residual)"
   ]
  },
  {
   "cell_type": "code",
   "execution_count": 9,
   "id": "d3cbea3e",
   "metadata": {
    "scrolled": false
   },
   "outputs": [
    {
     "data": {
      "image/png": "[encoded data removed]",
      "text/plain": [
       "<Figure size 640x480 with 1 Axes>"
      ]
     },
     "metadata": {},
     "output_type": "display_data"
    }
   ],
   "source": [
    "import matplotlib.pyplot as plt\n",
    "from astropy import visualization\n",
    "with visualization.time_support():\n",
    "    plt.xlabel('Time from LOS Goldstone to AOS Canberra')\n",
    "    plt.ylabel('Range rate residuals (m/s)')\n",
    "    plt.scatter(flyby_epochs, out.residual)\n",
    "    plt.gcf().autofmt_xdate()"
   ]
  }
 ],
 "metadata": {
  "kernelspec": {
   "display_name": "Python 3 (ipykernel)",
   "language": "python",
   "name": "python3"
  },
  "language_info": {
   "codemirror_mode": {
    "name": "ipython",
    "version": 3
   },
   "file_extension": ".py",
   "mimetype": "text/x-python",
   "name": "python",
   "nbconvert_exporter": "python",
   "pygments_lexer": "ipython3",
   "version": "3.10.6"
  }
 },
 "nbformat": 4,
 "nbformat_minor": 5
}
