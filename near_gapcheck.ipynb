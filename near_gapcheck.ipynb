{
 "cells": [
  {
   "cell_type": "code",
   "execution_count": 1,
   "id": "f504aff6",
   "metadata": {},
   "outputs": [],
   "source": [
    "from astropy import units as u\n",
    "from astropy.time import Time, TimeDelta\n",
    "\n",
    "from poliastro.util import norm, time_range\n",
    "from poliastro.frames import Planes\n",
    "from poliastro.ephem import Ephem\n",
    "from poliastro.bodies import Sun, Earth\n",
    "\n",
    "from poliastro.twobody.orbit import Orbit\n",
    "from poliastro.twobody.sampling import EpochsArray\n",
    "\n",
    "from astropy.coordinates import solar_system_ephemeris\n",
    "\n",
    "import numpy as np\n",
    "\n",
    "from stations import dss25, dss34\n",
    "from tracking import Tracking\n",
    "from util import describe_orbit, describe_state, describe_trajectory\n",
    "\n",
    "solar_system_ephemeris.set(\"de440\")\n",
    "start_epoch = Tracking.NEAR_GOLDSTONE_END.value\n",
    "end_epoch = Tracking.NEAR_CANBERRA_START.value"
   ]
  },
  {
   "cell_type": "code",
   "execution_count": 2,
   "id": "2a6847a9",
   "metadata": {},
   "outputs": [
    {
     "name": "stdout",
     "output_type": "stream",
     "text": [
      "\n",
      ":AT: 1998-01-23 06:14:55.600\n",
      "Geocentric distance: 37471.700215992445 km speed: 8.258344936971223 km / s\n",
      "From Goldstone-25 : range  31576.174442159892 km , range rate  -7.684513660227914 km / s\n",
      "\n",
      "::ORBIT::\n",
      "Plane: Planes.EARTH_EQUATOR\n",
      "Inclination: 107.97266698121356 deg\n",
      "Eccentricity: 1.813357091534396\n",
      "Semilatus rectum: 19437.250829758486 km\n",
      "Semimajor axix: -8494.322039490264 km\n",
      "Periapse radius: 6908.917068596319 km , altitude: 530.7804685963192 km\n"
     ]
    }
   ],
   "source": [
    "near_start_ephem = Ephem.from_horizons(\"NEAR\", start_epoch, attractor=Earth, plane=Planes.EARTH_EQUATOR)\n",
    "near_start_rv = near_start_ephem.rv(start_epoch)\n",
    "describe_state(near_start_rv, dss25, start_epoch)\n",
    "\n",
    "near_orbit = Orbit.from_vectors(Earth, near_start_rv[0], near_start_rv[1], start_epoch)\n",
    "describe_orbit(near_orbit)"
   ]
  },
  {
   "cell_type": "code",
   "execution_count": 23,
   "id": "ee0d51df",
   "metadata": {},
   "outputs": [
    {
     "name": "stdout",
     "output_type": "stream",
     "text": [
      "Start and end epochs: 1998-01-23 06:14:55.600 1998-01-23 09:53:55.600 [ 74 ]\n"
     ]
    }
   ],
   "source": [
    "sampling_interval = 180\n",
    "flyby_epochs = start_epoch + (np.arange(0, (end_epoch-start_epoch)/(1*u.s), sampling_interval) << u.s)\n",
    "print(\"Start and end epochs:\", start_epoch, flyby_epochs[-1], \"[\", flyby_epochs.size, \"]\")"
   ]
  },
  {
   "cell_type": "code",
   "execution_count": 24,
   "id": "348de4a6",
   "metadata": {},
   "outputs": [
    {
     "name": "stdout",
     "output_type": "stream",
     "text": [
      "\n",
      "::TRAJECTORY::\n",
      "Start and end ranges: 37309.07130107391 km 73145.82143191747 km\n",
      "Start and end radial speeds: -7.97119272554438 km / s 7.3216176182785535 km / s\n",
      "Closest: 11326.436162795784 km speed 12.740147538216107 km / s  at  1998-01-23 07:23:55.600\n",
      "Deflection: 64.92614895100142 deg\n"
     ]
    }
   ],
   "source": [
    "near_ephem = near_orbit.to_ephem(EpochsArray(flyby_epochs))\n",
    "describe_trajectory(near_ephem, dss34)"
   ]
  },
  {
   "cell_type": "code",
   "execution_count": 25,
   "id": "2225b32b",
   "metadata": {},
   "outputs": [
    {
     "name": "stdout",
     "output_type": "stream",
     "text": [
      "\n",
      ":AT: 1998-01-23 09:53:55.600\n",
      "Geocentric distance: 74715.16140743632 km speed: 7.5891622264313146 km / s\n",
      "From Canberra-34 : range  73145.82143191747 km , range rate  7.3216176182785535 km / s\n"
     ]
    }
   ],
   "source": [
    "predict_end_rv = near_ephem.rv(end_epoch)\n",
    "describe_state(predict_end_rv, dss34, end_epoch)"
   ]
  },
  {
   "cell_type": "code",
   "execution_count": 26,
   "id": "99ba1edd",
   "metadata": {},
   "outputs": [
    {
     "name": "stdout",
     "output_type": "stream",
     "text": [
      "\n",
      ":AT: 1998-01-23 09:53:55.600\n",
      "Geocentric distance: 74714.76607137504 km speed: 7.589138197919106 km / s\n",
      "From Canberra-34 : range  73147.47485388452 km , range rate  7.32170013250344 km / s\n"
     ]
    }
   ],
   "source": [
    "near_end_ephem = Ephem.from_horizons(\"NEAR\", end_epoch, attractor=Earth, plane=Planes.EARTH_EQUATOR)\n",
    "near_end_rv = near_end_ephem.rv(end_epoch)\n",
    "describe_state(near_end_rv, dss34, end_epoch)"
   ]
  },
  {
   "cell_type": "code",
   "execution_count": 27,
   "id": "4314b873",
   "metadata": {},
   "outputs": [
    {
     "name": "stdout",
     "output_type": "stream",
     "text": [
      "35.71831820614084 km 3.4529739544187095 m / s\n"
     ]
    }
   ],
   "source": [
    "print(norm(predict_end_rv[0]-near_end_rv[0]) << u.km, norm(predict_end_rv[1]-near_end_rv[1]) << (u.m/u.s))"
   ]
  }
 ],
 "metadata": {
  "kernelspec": {
   "display_name": "Python 3 (ipykernel)",
   "language": "python",
   "name": "python3"
  },
  "language_info": {
   "codemirror_mode": {
    "name": "ipython",
    "version": 3
   },
   "file_extension": ".py",
   "mimetype": "text/x-python",
   "name": "python",
   "nbconvert_exporter": "python",
   "pygments_lexer": "ipython3",
   "version": "3.10.6"
  }
 },
 "nbformat": 4,
 "nbformat_minor": 5
}
