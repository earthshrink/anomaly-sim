{
 "cells": [
  {
   "cell_type": "markdown",
   "metadata": {},
   "source": [
    "# Are Rosetta's range rate oscillations also explained by tracking signal lag?\n",
    "\n",
    "Range rate residual oscillations similar to those of NEAR's post-encounter Doppler were reported for Rosetta's 2005 Earth flyby, which also had an anomalous $\\Delta v$ ([Refs](../README.md#references) [2]).\n",
    "\n",
    "They are similarly reproduced below by simulation of light-time lags in the tracking signal. They incidentally vanish if the initial state for the orbital elements is taken 3 or more days before perigee, as the initial lag is then too small to inflict a significant change at and through the perigee."
   ]
  },
  {
   "cell_type": "code",
   "execution_count": 1,
   "metadata": {},
   "outputs": [],
   "source": [
    "from astropy import units as u\n",
    "from astropy import constants as const\n",
    "from astropy.time import Time\n",
    "\n",
    "from poliastro.util import norm\n",
    "from poliastro.frames import Planes\n",
    "from poliastro.ephem import Ephem\n",
    "from poliastro.bodies import Earth\n",
    "\n",
    "from poliastro.twobody.orbit import Orbit\n",
    "from poliastro.twobody.sampling import EpochsArray\n",
    "\n",
    "from astropy.coordinates import solar_system_ephemeris\n",
    "\n",
    "import numpy as np\n",
    "import sys\n",
    "sys.path.append('../')\n",
    "\n",
    "from sim.stations import dss25, esNewNorcia\n",
    "from sim.tracking import Tracking\n",
    "from sim.util import describe_orbit, describe_state, describe_trajectory, compare_orbits\n",
    "\n",
    "solar_system_ephemeris.set(\"de440\")\n",
    "rosetta_start = Tracking.ROSETTA05_PERIGEE.value - 1*u.day\n",
    "rosetta_end = Tracking.ROSETTA05_PERIGEE.value + 5*u.day"
   ]
  },
  {
   "cell_type": "code",
   "execution_count": 2,
   "metadata": {},
   "outputs": [
    {
     "name": "stdout",
     "output_type": "stream",
     "text": [
      "Start and end epochs: 2005-03-03 22:09:14.000 2005-03-09 21:59:14.000 [ 864 ]\n"
     ]
    }
   ],
   "source": [
    "sampling_interval = 600\n",
    "sample_offsets = np.arange(0, (rosetta_end-rosetta_start)/(1*u.s), sampling_interval)\n",
    "flyby_epochs = rosetta_start + (sample_offsets << u.s)\n",
    "print(\"Start and end epochs:\", flyby_epochs[0], flyby_epochs[-1], \"[\", flyby_epochs.size, \"]\")"
   ]
  },
  {
   "cell_type": "code",
   "execution_count": 3,
   "metadata": {},
   "outputs": [
    {
     "name": "stdout",
     "output_type": "stream",
     "text": [
      "\n",
      ":AT: 2005-03-03 22:09:14.000\n",
      "Geocentric distance: 393479.17840319034 km speed: 4.115825215630486 km / s\n",
      "From Goldstone-25 : range  397656.50826994446 km , range rate  -4.313096480246172 km / s\n"
     ]
    }
   ],
   "source": [
    "rosetta_goldstone_ephem = Ephem.from_horizons(\"Rosetta\", rosetta_start, attractor=Earth, plane=Planes.EARTH_EQUATOR)\n",
    "rosetta_goldstone_start_rv = rosetta_goldstone_ephem.rv(rosetta_start)\n",
    "describe_state(rosetta_goldstone_start_rv, dss25, rosetta_start)"
   ]
  },
  {
   "cell_type": "code",
   "execution_count": 4,
   "metadata": {},
   "outputs": [
    {
     "name": "stdout",
     "output_type": "stream",
     "text": [
      "\n",
      "::ORBIT::\n",
      "Plane: Planes.EARTH_EQUATOR\n",
      "Inclination: 144.92004171736357 deg\n",
      "Eccentricity: 1.3096704074365981\n",
      "Semilatus rectum: 19115.855747713194 km\n",
      "Semimajor axix: -26726.619395700145 km\n",
      "Periapse radius: 8276.44311766935 km , altitude: 1898.3065176693508 km\n"
     ]
    }
   ],
   "source": [
    "rosetta_goldstone_orbit = Orbit.from_vectors(Earth, rosetta_goldstone_start_rv[0], rosetta_goldstone_start_rv[1], rosetta_start)\n",
    "describe_orbit(rosetta_goldstone_orbit)"
   ]
  },
  {
   "cell_type": "code",
   "execution_count": 5,
   "metadata": {},
   "outputs": [
    {
     "name": "stdout",
     "output_type": "stream",
     "text": [
      "\n",
      "::TRAJECTORY::\n",
      "Start and end ranges: 395064.01977115416 km 1768247.9818912619 km\n",
      "Start and end radial speeds: -4.313096480246281 km / s 4.140368867356299 km / s\n",
      "Closest: 2656.903558538504 km speed 10.542396209892972 km / s  at  2005-03-04 22:09:14.000\n",
      "Deflection: 99.45270258924651 deg\n"
     ]
    }
   ],
   "source": [
    "rosetta_extended_ephem = rosetta_goldstone_orbit.to_ephem(EpochsArray(flyby_epochs))\n",
    "describe_trajectory(rosetta_extended_ephem, dss25)"
   ]
  },
  {
   "cell_type": "code",
   "execution_count": 6,
   "metadata": {},
   "outputs": [],
   "source": [
    "sim_meas = []\n",
    "\n",
    "for e in flyby_epochs:\n",
    "    rv = rosetta_extended_ephem.rv(e)\n",
    "    ref_r, ref_rr, ref_ra = esNewNorcia.range_rate_accel(rv, e)\n",
    "    sim_meas.append([ref_rr - ref_ra*ref_r/const.c])\n",
    "\n",
    "#print(sim_meas)"
   ]
  },
  {
   "cell_type": "code",
   "execution_count": 8,
   "metadata": {},
   "outputs": [
    {
     "name": "stdout",
     "output_type": "stream",
     "text": [
      "Range constraints:\n",
      "a: -26699892.776304446 -26753346.01509584\n",
      "ecc: 1.3083607370291614 1.3109800778440346\n",
      "inc: 2.5268025482154366 2.5318612119756274\n"
     ]
    }
   ],
   "source": [
    "from sim.fitorbit import OrbitFitter\n",
    "fitter = OrbitFitter(rosetta_goldstone_orbit, [esNewNorcia], var=0.001, debug=True)"
   ]
  },
  {
   "cell_type": "code",
   "execution_count": 9,
   "metadata": {},
   "outputs": [],
   "source": [
    "from datetime import datetime \n",
    "start_time = datetime.now()\n",
    "#print(start_time)"
   ]
  },
  {
   "cell_type": "code",
   "execution_count": 10,
   "metadata": {},
   "outputs": [
    {
     "name": "stdout",
     "output_type": "stream",
     "text": [
      "{'a': -26726619.395700146, 'ecc': 1.3096704074365981, 'inc': 2.529331880095532, 'nu': -2.383947563522261, 'raan': 2.9692968197488643, 'argp': 2.498866288180231}\n",
      "{'a': -26726619.395700146, 'ecc': 1.3096704074365981, 'inc': 2.529331880095532, 'nu': -2.383947563522261, 'raan': 2.9692968197488643, 'argp': 2.498866288180231}\n",
      "{'a': -26726619.395700146, 'ecc': 1.3096704074365981, 'inc': 2.529331880095532, 'nu': -2.383947563522261, 'raan': 2.9692968197488643, 'argp': 2.498866288180231}\n",
      "{'a': -26726619.395700146, 'ecc': 1.3096704074365981, 'inc': 2.529331880095532, 'nu': -2.383947563522261, 'raan': 2.9692968197488643, 'argp': 2.498866288180231}\n",
      "{'a': -26726619.395700146, 'ecc': 1.3096704074365981, 'inc': 2.529331880095532, 'nu': -2.383947563522261, 'raan': 2.9692968197488643, 'argp': 2.498866288180231}\n",
      "{'a': -26726619.395700146, 'ecc': 1.3096704074365981, 'inc': 2.529331880133222, 'nu': -2.383947563522261, 'raan': 2.9692968197488643, 'argp': 2.498866288180231}\n",
      "{'a': -26726619.395700146, 'ecc': 1.3096704074365981, 'inc': 2.529331880095532, 'nu': -2.383947537255514, 'raan': 2.9692968197488643, 'argp': 2.498866288180231}\n",
      "{'a': -26726619.395700146, 'ecc': 1.3096704074365981, 'inc': 2.529331880095532, 'nu': -2.383947563522261, 'raan': 2.9692968223136953, 'argp': 2.498866288180231}\n",
      "{'a': -26726619.395700146, 'ecc': 1.3096704074365981, 'inc': 2.529331880095532, 'nu': -2.383947563522261, 'raan': 2.9692968197488643, 'argp': 2.4988662976216864}\n",
      "{'a': -26726619.395700146, 'ecc': 1.3096704074365981, 'inc': 2.5293454565847937, 'nu': -2.383947527667416, 'raan': 2.969235531084915, 'argp': 2.498813511492996}\n",
      "{'a': -26726619.395700146, 'ecc': 1.3096704074365981, 'inc': 2.5293454565847937, 'nu': -2.383947527667416, 'raan': 2.969235531084915, 'argp': 2.498813511492996}\n",
      "[[Fit Statistics]]\n",
      "    # fitting method   = leastsq\n",
      "    # function evals   = 8\n",
      "    # data points      = 864\n",
      "    # variables        = 6\n",
      "    chi-square         = 0.12188571\n",
      "    reduced chi-square = 1.4206e-04\n",
      "    Akaike info crit   = -7648.43501\n",
      "    Bayesian info crit = -7619.86558\n",
      "##  Warning: uncertainties could not be estimated:\n",
      "    a:     at initial value\n",
      "    ecc:   at initial value\n",
      "    inc:   at initial value\n",
      "    nu:    at initial value\n",
      "[[Variables]]\n",
      "    a:    -26726619.4 (init = -2.672662e+07)\n",
      "    ecc:   1.30967041 (init = 1.30967)\n",
      "    inc:   2.52934546 (init = 2.529332)\n",
      "    nu:   -2.38394753 (init = -2.383948)\n",
      "    raan:  2.96923553 (init = 2.969297)\n",
      "    argp:  2.49881351 (init = 2.498866)\n",
      "Time elapsed (hh:mm:ss.ms) 0:00:37.024234\n"
     ]
    }
   ],
   "source": [
    "fitter.fit_doppler_data(flyby_epochs, sim_meas)\n",
    "time_elapsed = datetime.now() - start_time\n",
    "print(fitter.report())\n",
    "print('Time elapsed (hh:mm:ss.ms) {}'.format(time_elapsed))"
   ]
  },
  {
   "cell_type": "code",
   "execution_count": 11,
   "metadata": {},
   "outputs": [
    {
     "name": "stdout",
     "output_type": "stream",
     "text": [
      "\n",
      "::ORBIT::\n",
      "Plane: Planes.EARTH_EQUATOR\n",
      "Inclination: 144.92081959289888 deg\n",
      "Eccentricity: 1.3096704074365981\n",
      "Semilatus rectum: 19115855.747713197 m\n",
      "Semimajor axix: -26726619.39570015 m\n",
      "Periapse radius: 8276443.117669351 m , altitude: 1898306.5176693518 m\n",
      "\n",
      "::TRAJECTORY::\n",
      "Start and end ranges: 395063.82551078196 km 1768248.213453516 km\n",
      "Start and end radial speeds: -4.313102973031956 km / s 4.140370593099914 km / s\n",
      "Closest: 2656.837303480352 km speed 10.542408458894993 km / s  at  2005-03-04 22:09:14.000\n",
      "Deflection: 99.45270246790227 deg\n"
     ]
    }
   ],
   "source": [
    "describe_orbit(fitter.orbit)\n",
    "describe_trajectory(fitter.ephem, dss25)"
   ]
  },
  {
   "cell_type": "code",
   "execution_count": 12,
   "metadata": {},
   "outputs": [
    {
     "name": "stdout",
     "output_type": "stream",
     "text": [
      "[-2.11807057e-03 -2.46531940e-03 -2.81442940e-03 -3.16476534e-03\n",
      " -3.51569461e-03 -3.86658859e-03 -4.21682396e-03 -4.56578408e-03\n",
      " -4.91286018e-03 -5.25745261e-03 -5.59897201e-03 -5.93684041e-03\n",
      " -6.27049232e-03 -6.59937571e-03 -6.92295300e-03 -7.24070192e-03\n",
      " -7.55211637e-03 -7.85670724e-03 -8.15400307e-03 -8.44355080e-03\n",
      " -8.72491635e-03 -8.99768518e-03 -9.26146283e-03 -9.51587537e-03\n",
      " -9.76056979e-03 -9.99521440e-03 -1.02194991e-02 -1.04331357e-02\n",
      " -1.06358581e-02 -1.08274224e-02 -1.10076073e-02 -1.11762139e-02\n",
      " -1.13330659e-02 -1.14780096e-02 -1.16109141e-02 -1.17316709e-02\n",
      " -1.18401942e-02 -1.19364205e-02 -1.20203087e-02 -1.20918401e-02\n",
      " -1.21510178e-02 -1.21978671e-02 -1.22324347e-02 -1.22547890e-02\n",
      " -1.22650198e-02 -1.22632378e-02 -1.22495747e-02 -1.22241828e-02\n",
      " -1.21872346e-02 -1.21389229e-02 -1.20794603e-02 -1.20090789e-02\n",
      " -1.19280302e-02 -1.18365846e-02 -1.17350315e-02 -1.16236786e-02\n",
      " -1.15028519e-02 -1.13728953e-02 -1.12341704e-02 -1.10870562e-02\n",
      " -1.09319490e-02 -1.07692617e-02 -1.05994240e-02 -1.04228819e-02\n",
      " -1.02400976e-02 -1.00515491e-02 -9.85772996e-03 -9.65914914e-03\n",
      " -9.45633078e-03 -9.24981387e-03 -9.04015209e-03 -8.82791357e-03\n",
      " -8.61368067e-03 -8.39804977e-03 -8.18163109e-03 -7.96504843e-03\n",
      " -7.74893905e-03 -7.53395347e-03 -7.32075528e-03 -7.11002100e-03\n",
      " -6.90243994e-03 -6.69871408e-03 -6.49955796e-03 -6.30569856e-03\n",
      " -6.11787533e-03 -5.93684007e-03 -5.76335701e-03 -5.59820285e-03\n",
      " -5.44216682e-03 -5.29605092e-03 -5.16067012e-03 -5.03685268e-03\n",
      " -4.92544057e-03 -4.82728997e-03 -4.74327200e-03 -4.67427345e-03\n",
      " -4.62119780e-03 -4.58496642e-03 -4.56651999e-03 -4.56682018e-03\n",
      " -4.58685171e-03 -4.62762473e-03 -4.69017761e-03 -4.77558028e-03\n",
      " -4.88493807e-03 -5.01939630e-03 -5.18014549e-03 -5.36842760e-03\n",
      " -5.58554311e-03 -5.83285941e-03 -6.11182041e-03 -6.42395772e-03\n",
      " -6.77090360e-03 -7.15440582e-03 -7.57634492e-03 -8.03875391e-03\n",
      " -8.54384092e-03 -9.09401497e-03 -9.69191520e-03 -1.03404436e-02\n",
      " -1.10428013e-02 -1.18025279e-02 -1.26235429e-02 -1.35101867e-02\n",
      " -1.44672574e-02 -1.55000359e-02 -1.66142863e-02 -1.78162102e-02\n",
      " -1.91123175e-02 -2.05091498e-02 -2.20127481e-02 -2.36276782e-02\n",
      " -2.53552906e-02 -2.71906558e-02 -2.91172102e-02 -3.10974700e-02\n",
      " -3.30571812e-02 -3.48593263e-02 -3.62661557e-02 -3.69045028e-02\n",
      " -3.63371444e-02 -3.47111460e-02 -3.54671176e-02 -4.64001957e-02\n",
      " -9.78198707e-03  1.46056675e-01  1.79368636e-01  8.35951586e-02\n",
      "  9.42405889e-04 -3.71251543e-02 -5.01723493e-02 -5.26527664e-02\n",
      " -5.10660703e-02 -4.80708183e-02 -4.47366558e-02 -4.14853193e-02\n",
      " -3.84704150e-02 -3.57335490e-02 -3.32703245e-02 -3.10588455e-02\n",
      " -2.90721045e-02 -2.72832508e-02 -2.56676670e-02 -2.42036104e-02\n",
      " -2.28722283e-02 -2.16573184e-02 -2.05450070e-02 -1.95234223e-02\n",
      " -1.85823932e-02 -1.77131868e-02 -1.69082830e-02 -1.61611849e-02\n",
      " -1.54662603e-02 -1.48186089e-02 -1.42139523e-02 -1.36485413e-02\n",
      " -1.31190793e-02 -1.26226575e-02 -1.21567005e-02 -1.17189208e-02\n",
      " -1.13072801e-02 -1.09199560e-02 -1.05553146e-02 -1.02118863e-02\n",
      " -9.88834518e-03 -9.58349176e-03 -9.29623750e-03 -9.02559172e-03\n",
      " -8.77065022e-03 -8.53058531e-03 -8.30463714e-03 -8.09210609e-03\n",
      " -7.89234614e-03 -7.70475897e-03 -7.52878881e-03 -7.36391784e-03\n",
      " -7.20966218e-03 -7.06556824e-03 -6.93120957e-03 -6.80618398e-03\n",
      " -6.69011100e-03 -6.58262961e-03 -6.48339617e-03 -6.39208263e-03\n",
      " -6.30837487e-03 -6.23197121e-03 -6.16258111e-03 -6.09992395e-03\n",
      " -6.04372796e-03 -5.99372925e-03 -5.94967097e-03 -5.91130245e-03\n",
      " -5.87837859e-03 -5.85065915e-03 -5.82790823e-03 -5.80989373e-03\n",
      " -5.79638695e-03 -5.78716212e-03 -5.78199614e-03 -5.78066819e-03\n",
      " -5.78295952e-03 -5.78865321e-03 -5.79753397e-03 -5.80938801e-03\n",
      " -5.82400290e-03 -5.84116745e-03 -5.86067174e-03 -5.88230696e-03\n",
      " -5.90586551e-03 -5.93114095e-03 -5.95792807e-03 -5.98602292e-03\n",
      " -6.01522294e-03 -6.04532702e-03 -6.07613566e-03 -6.10745107e-03\n",
      " -6.13907737e-03 -6.17082073e-03 -6.20248958e-03 -6.23389483e-03\n",
      " -6.26485004e-03 -6.29517168e-03 -6.32467937e-03 -6.35319614e-03\n",
      " -6.38054866e-03 -6.40656751e-03 -6.43108747e-03 -6.45394778e-03\n",
      " -6.47499244e-03 -6.49407043e-03 -6.51103607e-03 -6.52574924e-03\n",
      " -6.53807569e-03 -6.54788729e-03 -6.55506230e-03 -6.55948564e-03\n",
      " -6.56104913e-03 -6.55965173e-03 -6.55519978e-03 -6.54760722e-03\n",
      " -6.53679574e-03 -6.52269505e-03 -6.50524298e-03 -6.48438565e-03\n",
      " -6.46007765e-03 -6.43228205e-03 -6.40097062e-03 -6.36612377e-03\n",
      " -6.32773072e-03 -6.28578941e-03 -6.24030661e-03 -6.19129781e-03\n",
      " -6.13878724e-03 -6.08280774e-03 -6.02340071e-03 -5.96061600e-03\n",
      " -5.89451172e-03 -5.82515414e-03 -5.75261745e-03 -5.67698357e-03\n",
      " -5.59834196e-03 -5.51678930e-03 -5.43242931e-03 -5.34537237e-03\n",
      " -5.25573531e-03 -5.16364102e-03 -5.06921816e-03 -4.97260082e-03\n",
      " -4.87392813e-03 -4.77334391e-03 -4.67099633e-03 -4.56703747e-03\n",
      " -4.46162296e-03 -4.35491160e-03 -4.24706494e-03 -4.13824691e-03\n",
      " -4.02862339e-03 -3.91836184e-03 -3.80763088e-03 -3.69659995e-03\n",
      " -3.58543884e-03 -3.47431742e-03 -3.36340515e-03 -3.25287079e-03\n",
      " -3.14288202e-03 -3.03360510e-03 -2.92520452e-03 -2.81784266e-03\n",
      " -2.71167950e-03 -2.60687232e-03 -2.50357536e-03 -2.40193960e-03\n",
      " -2.30211245e-03 -2.20423751e-03 -2.10845433e-03 -2.01489818e-03\n",
      " -1.92369982e-03 -1.83498534e-03 -1.74887592e-03 -1.66548768e-03\n",
      " -1.58493153e-03 -1.50731299e-03 -1.43273208e-03 -1.36128317e-03\n",
      " -1.29305488e-03 -1.22812999e-03 -1.16658531e-03 -1.10849165e-03\n",
      " -1.05391372e-03 -1.00291009e-03 -9.55533110e-04 -9.11828906e-04\n",
      " -8.71837346e-04 -8.35592001e-04 -8.03120156e-04 -7.74442784e-04\n",
      " -7.49574582e-04 -7.28523958e-04 -7.11293064e-04 -6.97877826e-04\n",
      " -6.88267974e-04 -6.82447101e-04 -6.80392683e-04 -6.82076172e-04\n",
      " -6.87463029e-04 -6.96512815e-04 -7.09179258e-04 -7.25410329e-04\n",
      " -7.45148343e-04 -7.68330048e-04 -7.94886725e-04 -8.24744289e-04\n",
      " -8.57823413e-04 -8.94039636e-04 -9.33303493e-04 -9.75520641e-04\n",
      " -1.02059200e-03 -1.06841390e-03 -1.11887819e-03 -1.17187246e-03\n",
      " -1.22728014e-03 -1.28498069e-03 -1.34484980e-03 -1.40675951e-03\n",
      " -1.47057842e-03 -1.53617192e-03 -1.60340232e-03 -1.67212910e-03\n",
      " -1.74220909e-03 -1.81349673e-03 -1.88584422e-03 -1.95910182e-03\n",
      " -2.03311803e-03 -2.10773984e-03 -2.18281302e-03 -2.25818228e-03\n",
      " -2.33369163e-03 -2.40918453e-03 -2.48450424e-03 -2.55949405e-03\n",
      " -2.63399755e-03 -2.70785892e-03 -2.78092320e-03 -2.85303656e-03\n",
      " -2.92404662e-03 -2.99380267e-03 -3.06215603e-03 -3.12896029e-03\n",
      " -3.19407161e-03 -3.25734899e-03 -3.31865460e-03 -3.37785398e-03\n",
      " -3.43481642e-03 -3.48941516e-03 -3.54152768e-03 -3.59103598e-03\n",
      " -3.63782684e-03 -3.68179204e-03 -3.72282867e-03 -3.76083929e-03\n",
      " -3.79573222e-03 -3.82742173e-03 -3.85582824e-03 -3.88087855e-03\n",
      " -3.90250598e-03 -3.92065058e-03 -3.93525927e-03 -3.94628596e-03\n",
      " -3.95369172e-03 -3.95744486e-03 -3.95752105e-03 -3.95390337e-03\n",
      " -3.94658239e-03 -3.93555621e-03 -3.92083050e-03 -3.90241849e-03\n",
      " -3.88034096e-03 -3.85462621e-03 -3.82531007e-03 -3.79243573e-03\n",
      " -3.75605374e-03 -3.71622188e-03 -3.67300506e-03 -3.62647515e-03\n",
      " -3.57671084e-03 -3.52379748e-03 -3.46782690e-03 -3.40889718e-03\n",
      " -3.34711245e-03 -3.28258264e-03 -3.21542328e-03 -3.14575519e-03\n",
      " -3.07370421e-03 -2.99940098e-03 -2.92298058e-03 -2.84458224e-03\n",
      " -2.76434907e-03 -2.68242770e-03 -2.59896797e-03 -2.51412261e-03\n",
      " -2.42804687e-03 -2.34089824e-03 -2.25283605e-03 -2.16402116e-03\n",
      " -2.07461562e-03 -1.98478231e-03 -1.89468459e-03 -1.80448599e-03\n",
      " -1.71434986e-03 -1.62443902e-03 -1.53491546e-03 -1.44593997e-03\n",
      " -1.35767189e-03 -1.27026873e-03 -1.18388591e-03 -1.09867644e-03\n",
      " -1.01479066e-03 -9.32375920e-04 -8.51576337e-04 -7.72532533e-04\n",
      " -6.95381376e-04 -6.20255747e-04 -5.47284302e-04 -4.76591263e-04\n",
      " -4.08296203e-04 -3.42513850e-04 -2.79353904e-04 -2.18920863e-04\n",
      " -1.61313871e-04 -1.06626539e-04 -5.49468355e-05 -6.35694075e-06\n",
      "  3.90668600e-05  8.12542860e-05  1.20141153e-04  1.55669462e-04\n",
      "  1.87787454e-04  2.16449695e-04  2.41617101e-04  2.63256995e-04\n",
      "  2.81343122e-04  2.95855682e-04  3.06781319e-04  3.14113143e-04\n",
      "  3.17850692e-04  3.17999925e-04  3.14573198e-04  3.07589200e-04\n",
      "  2.97072931e-04  2.83055620e-04  2.65574672e-04  2.44673588e-04\n",
      "  2.20401875e-04  1.92814965e-04  1.61974095e-04  1.27946223e-04\n",
      "  9.08038782e-05  5.06250650e-05  7.49311990e-06 -3.85034422e-05\n",
      " -8.72710508e-05 -1.38711264e-04 -1.92720909e-04 -2.49192260e-04\n",
      " -3.08013214e-04 -3.69067482e-04 -4.32234767e-04 -4.97390967e-04\n",
      " -5.64408388e-04 -6.33155929e-04 -7.03499327e-04 -7.75301355e-04\n",
      " -8.48422067e-04 -9.22719021e-04 -9.98047519e-04 -1.07426086e-03\n",
      " -1.15121056e-03 -1.22874665e-03 -1.30671790e-03 -1.38497208e-03\n",
      " -1.46335624e-03 -1.54171699e-03 -1.61990074e-03 -1.69775397e-03\n",
      " -1.77512358e-03 -1.85185705e-03 -1.92780283e-03 -2.00281057e-03\n",
      " -2.07673138e-03 -2.14941816e-03 -2.22072586e-03 -2.29051174e-03\n",
      " -2.35863568e-03 -2.42496044e-03 -2.48935192e-03 -2.55167946e-03\n",
      " -2.61181606e-03 -2.66963870e-03 -2.72502853e-03 -2.77787119e-03\n",
      " -2.82805696e-03 -2.87548108e-03 -2.92004394e-03 -2.96165130e-03\n",
      " -3.00021449e-03 -3.03565061e-03 -3.06788276e-03 -3.09684015e-03\n",
      " -3.12245829e-03 -3.14467919e-03 -3.16345141e-03 -3.17873028e-03\n",
      " -3.19047794e-03 -3.19866347e-03 -3.20326298e-03 -3.20425964e-03\n",
      " -3.20164381e-03 -3.19541299e-03 -3.18557189e-03 -3.17213242e-03\n",
      " -3.15511370e-03 -3.13454201e-03 -3.11045076e-03 -3.08288040e-03\n",
      " -3.05187840e-03 -3.01749913e-03 -2.97980371e-03 -2.93885998e-03\n",
      " -2.89474226e-03 -2.84753127e-03 -2.79731393e-03 -2.74418319e-03\n",
      " -2.68823781e-03 -2.62958218e-03 -2.56832608e-03 -2.50458446e-03\n",
      " -2.43847717e-03 -2.37012874e-03 -2.29966807e-03 -2.22722820e-03\n",
      " -2.15294599e-03 -2.07696185e-03 -1.99941943e-03 -1.92046534e-03\n",
      " -1.84024878e-03 -1.75892131e-03 -1.67663647e-03 -1.59354947e-03\n",
      " -1.50981691e-03 -1.42559638e-03 -1.34104622e-03 -1.25632512e-03\n",
      " -1.17159186e-03 -1.08700495e-03 -1.00272234e-03 -9.18901080e-04\n",
      " -8.35697023e-04 -7.53264528e-04 -6.71756141e-04 -5.91322328e-04\n",
      " -5.12111149e-04 -4.34268027e-04 -3.57935426e-04 -2.83252626e-04\n",
      " -2.10355442e-04 -1.39375991e-04 -7.04424457e-05 -3.67880659e-06\n",
      "  6.07952995e-05  1.22864864e-04  1.82419650e-04  2.39354415e-04\n",
      "  2.93569064e-04  3.44968834e-04  3.93464433e-04  4.38972186e-04\n",
      "  4.81414181e-04  5.20718366e-04  5.56818684e-04  5.89655145e-04\n",
      "  6.19173937e-04  6.45327486e-04  6.68074533e-04  6.87380163e-04\n",
      "  7.03215877e-04  7.15559606e-04  7.24395736e-04  7.29715115e-04\n",
      "  7.31515056e-04  7.29799311e-04  7.24578079e-04  7.15867928e-04\n",
      "  7.03691811e-04  6.88078950e-04  6.69064819e-04  6.46691053e-04\n",
      "  6.21005377e-04  5.92061493e-04  5.59919004e-04  5.24643295e-04\n",
      "  4.86305396e-04  4.44981897e-04  4.00754769e-04  3.53711241e-04\n",
      "  3.03943644e-04  2.51549258e-04  1.96630121e-04  1.39292877e-04\n",
      "  7.96485748e-05  1.78124964e-05 -4.60960599e-05 -1.11953980e-04\n",
      " -1.79634537e-04 -2.49007623e-04 -3.19939957e-04 -3.92295325e-04\n",
      " -4.65934818e-04 -5.40717064e-04 -6.16498489e-04 -6.93133541e-04\n",
      " -7.70474980e-04 -8.48374110e-04 -9.26681059e-04 -1.00524503e-03\n",
      " -1.08391460e-03 -1.16253795e-03 -1.24096317e-03 -1.31903854e-03\n",
      " -1.39661278e-03 -1.47353538e-03 -1.54965680e-03 -1.62482882e-03\n",
      " -1.69890481e-03 -1.77173996e-03 -1.84319162e-03 -1.91311953e-03\n",
      " -1.98138612e-03 -2.04785675e-03 -2.11240000e-03 -2.17488794e-03\n",
      " -2.23519634e-03 -2.29320497e-03 -2.34879782e-03 -2.40186335e-03\n",
      " -2.45229469e-03 -2.49998993e-03 -2.54485226e-03 -2.58679020e-03\n",
      " -2.62571783e-03 -2.66155495e-03 -2.69422722e-03 -2.72366640e-03\n",
      " -2.74981044e-03 -2.77260365e-03 -2.79199684e-03 -2.80794738e-03\n",
      " -2.82041936e-03 -2.82938366e-03 -2.83481801e-03 -2.83670707e-03\n",
      " -2.83504247e-03 -2.82982281e-03 -2.82105374e-03 -2.80874790e-03\n",
      " -2.79292492e-03 -2.77361141e-03 -2.75084091e-03 -2.72465381e-03\n",
      " -2.69509727e-03 -2.66222518e-03 -2.62609798e-03 -2.58678262e-03\n",
      " -2.54435235e-03 -2.49888662e-03 -2.45047090e-03 -2.39919653e-03\n",
      " -2.34516046e-03 -2.28846515e-03 -2.22921829e-03 -2.16753258e-03\n",
      " -2.10352551e-03 -2.03731915e-03 -1.96903980e-03 -1.89881783e-03\n",
      " -1.82678736e-03 -1.75308597e-03 -1.67785443e-03 -1.60123643e-03\n",
      " -1.52337824e-03 -1.44442845e-03 -1.36453762e-03 -1.28385802e-03\n",
      " -1.20254328e-03 -1.12074811e-03 -1.03862794e-03 -9.56338678e-04\n",
      " -8.74036324e-04 -7.91876698e-04 -7.10015132e-04 -6.28606140e-04\n",
      " -5.47803146e-04 -4.67758155e-04 -3.88621477e-04 -3.10541433e-04\n",
      " -2.33664054e-04 -1.58132847e-04 -8.40884695e-05 -1.16685008e-05\n",
      "  5.89928195e-05  1.27764834e-04  1.94520740e-04  2.59137772e-04\n",
      "  3.21497448e-04  3.81485786e-04  4.38993498e-04  4.93916170e-04\n",
      "  5.46154462e-04  5.95614276e-04  6.42206895e-04  6.85849161e-04\n",
      "  7.26463594e-04  7.63978517e-04  7.98328199e-04  8.29452910e-04\n",
      "  8.57299064e-04  8.81819268e-04  9.02972409e-04  9.20723706e-04\n",
      "  9.35044752e-04  9.45913563e-04  9.53314598e-04  9.57238761e-04\n",
      "  9.57683430e-04  9.54652424e-04  9.48155984e-04  9.38210770e-04\n",
      "  9.24839792e-04  9.08072370e-04  8.87944070e-04  8.64496642e-04\n",
      "  8.37777924e-04  8.07841757e-04  7.74747883e-04  7.38561844e-04\n",
      "  6.99354834e-04  6.57203601e-04  6.12190288e-04  5.64402298e-04\n",
      "  5.13932126e-04  4.60877200e-04  4.05339706e-04  3.47426422e-04\n",
      "  2.87248509e-04  2.24921314e-04  1.60564197e-04  9.43002791e-05\n",
      "  2.62562607e-05 -4.34378253e-05 -1.14648824e-04 -1.87240719e-04\n",
      " -2.61074842e-04 -3.36010146e-04 -4.11903434e-04 -4.88609637e-04\n",
      " -5.65982058e-04 -6.43872637e-04 -7.22132224e-04 -8.00610852e-04\n",
      " -8.79157992e-04 -9.57622844e-04 -1.03585461e-03 -1.11370278e-03\n",
      " -1.19101739e-03 -1.26764931e-03 -1.34345055e-03 -1.41827449e-03\n",
      " -1.49197620e-03 -1.56441269e-03 -1.63544319e-03 -1.70492944e-03\n",
      " -1.77273594e-03 -1.83873020e-03 -1.90278303e-03 -1.96476880e-03\n",
      " -2.02456562e-03 -2.08205570e-03 -2.13712548e-03 -2.18966593e-03\n",
      " -2.23957273e-03 -2.28674651e-03 -2.33109304e-03 -2.37252345e-03\n",
      " -2.41095440e-03 -2.44630824e-03 -2.47851322e-03 -2.50750361e-03\n",
      " -2.53321984e-03 -2.55560867e-03 -2.57462327e-03 -2.59022335e-03\n",
      " -2.60237524e-03 -2.61105197e-03 -2.61623334e-03 -2.61790599e-03\n",
      " -2.61606340e-03 -2.61070595e-03 -2.60184092e-03 -2.58948244e-03\n",
      " -2.57365157e-03 -2.55437615e-03 -2.53169084e-03 -2.50563702e-03\n",
      " -2.47626269e-03 -2.44362242e-03 -2.40777724e-03 -2.36879448e-03\n",
      " -2.32674767e-03 -2.28171639e-03 -2.23378609e-03 -2.18304794e-03\n",
      " -2.12959864e-03 -2.07354021e-03 -2.01497979e-03 -1.95402940e-03]\n"
     ]
    }
   ],
   "source": [
    "print(fitter.result.residual)"
   ]
  },
  {
   "cell_type": "code",
   "execution_count": 13,
   "metadata": {},
   "outputs": [
    {
     "name": "stdout",
     "output_type": "stream",
     "text": [
      "\n",
      "::TRAJECTORY::\n",
      "Start and end ranges: 395063.82551078196 km 1768248.213453516 km\n",
      "Start and end radial speeds: -4.313102973031956 km / s 4.140370593099914 km / s\n",
      "Closest: 2656.837303480352 km speed 10.542408458894993 km / s  at  2005-03-04 22:09:14.000\n",
      "Deflection: 99.45270246790227 deg\n"
     ]
    }
   ],
   "source": [
    "fitted_ephem = fitter.ephem\n",
    "describe_trajectory(fitted_ephem, dss25)"
   ]
  },
  {
   "cell_type": "code",
   "execution_count": 14,
   "metadata": {},
   "outputs": [
    {
     "data": {
      "image/png": "[encoded data removed]",
      "text/plain": [
       "<Figure size 640x480 with 1 Axes>"
      ]
     },
     "metadata": {},
     "output_type": "display_data"
    }
   ],
   "source": [
    "import matplotlib.pyplot as plt\n",
    "from astropy import visualization\n",
    "with visualization.time_support():\n",
    "    plt.xlabel('Rosetta 2005 flyby')\n",
    "    plt.ylabel('Range rate residuals (m/s)')\n",
    "    plt.plot(flyby_epochs, fitter.result.residual)"
   ]
  },
  {
   "cell_type": "code",
   "execution_count": 15,
   "metadata": {},
   "outputs": [
    {
     "data": {
      "image/png": "[encoded data removed]",
      "text/plain": [
       "<Figure size 640x480 with 1 Axes>"
      ]
     },
     "metadata": {},
     "output_type": "display_data"
    }
   ],
   "source": [
    "with visualization.time_support():\n",
    "    plt.xlabel('Rosetta 2005 flyby')\n",
    "    plt.ylabel('Range rate residuals (m/s)')\n",
    "    plt.plot(flyby_epochs[180:], fitter.result.residual[180:])"
   ]
  }
 ],
 "metadata": {
  "kernelspec": {
   "display_name": "Python 3 (ipykernel)",
   "language": "python",
   "name": "python3"
  },
  "language_info": {
   "codemirror_mode": {
    "name": "ipython",
    "version": 3
   },
   "file_extension": ".py",
   "mimetype": "text/x-python",
   "name": "python",
   "nbconvert_exporter": "python",
   "pygments_lexer": "ipython3",
   "version": "3.10.6"
  }
 },
 "nbformat": 4,
 "nbformat_minor": 2
}
